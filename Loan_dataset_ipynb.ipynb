{
  "cells": [
    {
      "cell_type": "markdown",
      "metadata": {
        "id": "view-in-github",
        "colab_type": "text"
      },
      "source": [
        "<a href=\"https://colab.research.google.com/github/Fatima522000/Loan_Amount-Predicition/blob/main/Loan_dataset_ipynb.ipynb\" target=\"_parent\"><img src=\"https://colab.research.google.com/assets/colab-badge.svg\" alt=\"Open In Colab\"/></a>"
      ]
    },
    {
      "cell_type": "markdown",
      "metadata": {
        "id": "4WUK_fLQ6xvW"
      },
      "source": [
        "# Loan Prediction Problem From Scratch to End\n",
        "\n",
        "This article was published as a part of the Data Science Blogathon.\n",
        "\n",
        "---\n",
        "\n",
        "## Introduction to Loan Prediction Problem\n",
        "\n",
        "Welcome to this article on the Loan Prediction Problem. Below is a brief introduction to this topic to acquaint you with what you will be learning.\n",
        "\n",
        "### **Objective of the Article**\n",
        "\n",
        "This article is designed for people who want to solve binary classification problems using Python. By the end of this article, you will have the necessary skills and techniques required to solve such problems. This article provides sufficient theory and practice knowledge to hone your skills.\n",
        "\n",
        "### **Expectations from the Article**\n",
        "\n",
        "1. **Introduction to the Problem**\n",
        "2. **Exploratory Data Analysis (EDA) and Pre-Processing**\n",
        "3. **Model Building and Feature Engineering**\n",
        "\n",
        "These sections are supplemented with theory and coding examples. Additionally, you will be provided with dataset resources.\n",
        "\n",
        "---\n",
        "\n",
        "## Problem Statement\n",
        "\n",
        "Understanding the problem statement is the first and foremost step. This will help give you an intuition of what you will face ahead of time. Let us see the problem statement.\n",
        "\n",
        "Dream Housing Finance Company deals in all home loans. They have a presence across all urban, semi-urban, and rural areas. Customers first apply for a home loan, after which the company validates the customer’s eligibility for a loan. The company wants to automate the loan eligibility process (real-time) based on customer details provided while filling out the online application form. These details include:\n",
        "\n",
        "- Gender\n",
        "- Marital Status\n",
        "- Education\n",
        "- Number of Dependents\n",
        "- Income\n",
        "- Loan Amount\n",
        "- Credit History\n",
        "- And other factors\n",
        "\n",
        "To automate this process, they have given a problem to identify the customer segments eligible for loan amounts so that they can specifically target these customers.\n",
        "\n",
        "It is a **classification problem** where we have to predict whether a loan would be approved or not. In these kinds of problems, we predict discrete values based on a given set of independent variables.\n",
        "\n",
        "### **Types of Classification**\n",
        "\n",
        "- **Binary Classification**: Predict one of two given classes. For example:\n",
        "  - Classifying gender as male or female.\n",
        "  - Predicting the result as win or loss.\n",
        "\n",
        "- **Multi-Class Classification**: Classify the data into three or more classes. For example:\n",
        "  - Classifying a movie’s genre as comedy, action, or romantic.\n",
        "  - Classifying fruits like oranges, apples, pears, etc.\n",
        "\n",
        "Loan prediction is a common real-life problem that each retail bank faces at least once in its lifetime. If done correctly, it can save a lot of man-hours for a retail bank.\n",
        "\n",
        "Although this course is specifically built to guide you through the Loan Prediction problem, you can always refer to the content to get a comprehensive overview of solving classification problems.\n",
        "\n",
        "---\n",
        "\n",
        "## Hypothesis Generation\n",
        "\n",
        "After looking at the problem statement, we will now move into hypothesis generation. This is the process of listing all the possible factors that can affect the outcome.\n",
        "\n",
        "### **What is Hypothesis Generation?**\n",
        "\n",
        "This is a crucial stage in a data science/machine learning pipeline. It involves understanding the problem in detail by brainstorming maximum possibilities that can impact the outcome. It is done by thoroughly understanding the problem statement before looking at the data.\n",
        "\n",
        "### **Factors Affecting Loan Approval**\n",
        "\n",
        "Below are some of the factors that can affect loan approval (dependent variable for this loan prediction problem):\n",
        "\n",
        "- **Salary**: Applicants with high income should have more chances of getting approval.\n",
        "- **Previous History**: Applicants who have paid their historical debts have more chances of getting approval.\n",
        "- **Loan Amount**: The lesser the amount, the higher the chances of getting approval.\n",
        "- **Loan Term**: The shorter the time period, the higher the chances of approval.\n",
        "- **EMI**: The lesser the monthly payable amount, the higher the chances of getting approval.\n",
        "\n",
        "These are some of the factors that can affect the target variable. You can identify many more factors by exploring the dataset.\n",
        "\n",
        "---\n",
        "\n",
        "## Getting the System Ready and Loading the Data\n",
        "\n",
        "We will be using Python for this problem along with the below-listed libraries. The versions of these libraries are mentioned:\n",
        "\n",
        "### **Specifications**\n",
        "\n",
        "- Python = 3.7\n",
        "- pandas = 0.20.3\n",
        "- seaborn = 1.0.0\n",
        "- scikit-learn = 0.19.1\n"
      ]
    },
    {
      "cell_type": "markdown",
      "metadata": {
        "id": "Bl0xm2NS6xvZ"
      },
      "source": [
        "### Import the Pandas library and read the Loan dataset (Loan.csv) into a DataFrame named loan_df."
      ]
    },
    {
      "cell_type": "code",
      "execution_count": null,
      "metadata": {
        "id": "8xxWGLFlaL-S"
      },
      "outputs": [],
      "source": [
        "import pandas as pd\n",
        "import numpy as np\n",
        "import warnings\n"
      ]
    },
    {
      "cell_type": "code",
      "execution_count": null,
      "metadata": {
        "id": "aXSr5S23brUP"
      },
      "outputs": [],
      "source": [
        "warnings.filterwarnings('ignore')"
      ]
    },
    {
      "cell_type": "code",
      "execution_count": null,
      "metadata": {
        "id": "VN5IU1NtacIf"
      },
      "outputs": [],
      "source": [
        "#pip list To see all versions of the libraries in Python."
      ]
    },
    {
      "cell_type": "code",
      "execution_count": null,
      "metadata": {
        "id": "YgFiVUPCdvdh"
      },
      "outputs": [],
      "source": [
        "df=pd.read_csv('loan_CSV.csv')"
      ]
    },
    {
      "cell_type": "code",
      "execution_count": null,
      "metadata": {
        "id": "f9wDckDhoos5"
      },
      "outputs": [],
      "source": [
        "df_copy=df.copy()"
      ]
    },
    {
      "cell_type": "code",
      "execution_count": null,
      "metadata": {
        "id": "JoOFrrEecsFt",
        "colab": {
          "base_uri": "https://localhost:8080/",
          "height": 203
        },
        "outputId": "caec5214-d0a0-4ac4-9018-11f21389687b"
      },
      "outputs": [
        {
          "output_type": "execute_result",
          "data": {
            "text/plain": [
              "pandas.core.frame.DataFrame"
            ],
            "text/html": [
              "<div style=\"max-width:800px; border: 1px solid var(--colab-border-color);\"><style>\n",
              "      pre.function-repr-contents {\n",
              "        overflow-x: auto;\n",
              "        padding: 8px 12px;\n",
              "        max-height: 500px;\n",
              "      }\n",
              "\n",
              "      pre.function-repr-contents.function-repr-contents-collapsed {\n",
              "        cursor: pointer;\n",
              "        max-height: 100px;\n",
              "      }\n",
              "    </style>\n",
              "    <pre style=\"white-space: initial; background:\n",
              "         var(--colab-secondary-surface-color); padding: 8px 12px;\n",
              "         border-bottom: 1px solid var(--colab-border-color);\"><b>pandas.core.frame.DataFrame</b><br/>def __init__(data=None, index: Axes | None=None, columns: Axes | None=None, dtype: Dtype | None=None, copy: bool | None=None) -&gt; None</pre><pre class=\"function-repr-contents function-repr-contents-collapsed\" style=\"\"><a class=\"filepath\" style=\"display:none\" href=\"#\">/usr/local/lib/python3.11/dist-packages/pandas/core/frame.py</a>Two-dimensional, size-mutable, potentially heterogeneous tabular data.\n",
              "\n",
              "Data structure also contains labeled axes (rows and columns).\n",
              "Arithmetic operations align on both row and column labels. Can be\n",
              "thought of as a dict-like container for Series objects. The primary\n",
              "pandas data structure.\n",
              "\n",
              "Parameters\n",
              "----------\n",
              "data : ndarray (structured or homogeneous), Iterable, dict, or DataFrame\n",
              "    Dict can contain Series, arrays, constants, dataclass or list-like objects. If\n",
              "    data is a dict, column order follows insertion-order. If a dict contains Series\n",
              "    which have an index defined, it is aligned by its index. This alignment also\n",
              "    occurs if data is a Series or a DataFrame itself. Alignment is done on\n",
              "    Series/DataFrame inputs.\n",
              "\n",
              "    If data is a list of dicts, column order follows insertion-order.\n",
              "\n",
              "index : Index or array-like\n",
              "    Index to use for resulting frame. Will default to RangeIndex if\n",
              "    no indexing information part of input data and no index provided.\n",
              "columns : Index or array-like\n",
              "    Column labels to use for resulting frame when data does not have them,\n",
              "    defaulting to RangeIndex(0, 1, 2, ..., n). If data contains column labels,\n",
              "    will perform column selection instead.\n",
              "dtype : dtype, default None\n",
              "    Data type to force. Only a single dtype is allowed. If None, infer.\n",
              "copy : bool or None, default None\n",
              "    Copy data from inputs.\n",
              "    For dict data, the default of None behaves like ``copy=True``.  For DataFrame\n",
              "    or 2d ndarray input, the default of None behaves like ``copy=False``.\n",
              "    If data is a dict containing one or more Series (possibly of different dtypes),\n",
              "    ``copy=False`` will ensure that these inputs are not copied.\n",
              "\n",
              "    .. versionchanged:: 1.3.0\n",
              "\n",
              "See Also\n",
              "--------\n",
              "DataFrame.from_records : Constructor from tuples, also record arrays.\n",
              "DataFrame.from_dict : From dicts of Series, arrays, or dicts.\n",
              "read_csv : Read a comma-separated values (csv) file into DataFrame.\n",
              "read_table : Read general delimited file into DataFrame.\n",
              "read_clipboard : Read text from clipboard into DataFrame.\n",
              "\n",
              "Notes\n",
              "-----\n",
              "Please reference the :ref:`User Guide &lt;basics.dataframe&gt;` for more information.\n",
              "\n",
              "Examples\n",
              "--------\n",
              "Constructing DataFrame from a dictionary.\n",
              "\n",
              "&gt;&gt;&gt; d = {&#x27;col1&#x27;: [1, 2], &#x27;col2&#x27;: [3, 4]}\n",
              "&gt;&gt;&gt; df = pd.DataFrame(data=d)\n",
              "&gt;&gt;&gt; df\n",
              "   col1  col2\n",
              "0     1     3\n",
              "1     2     4\n",
              "\n",
              "Notice that the inferred dtype is int64.\n",
              "\n",
              "&gt;&gt;&gt; df.dtypes\n",
              "col1    int64\n",
              "col2    int64\n",
              "dtype: object\n",
              "\n",
              "To enforce a single dtype:\n",
              "\n",
              "&gt;&gt;&gt; df = pd.DataFrame(data=d, dtype=np.int8)\n",
              "&gt;&gt;&gt; df.dtypes\n",
              "col1    int8\n",
              "col2    int8\n",
              "dtype: object\n",
              "\n",
              "Constructing DataFrame from a dictionary including Series:\n",
              "\n",
              "&gt;&gt;&gt; d = {&#x27;col1&#x27;: [0, 1, 2, 3], &#x27;col2&#x27;: pd.Series([2, 3], index=[2, 3])}\n",
              "&gt;&gt;&gt; pd.DataFrame(data=d, index=[0, 1, 2, 3])\n",
              "   col1  col2\n",
              "0     0   NaN\n",
              "1     1   NaN\n",
              "2     2   2.0\n",
              "3     3   3.0\n",
              "\n",
              "Constructing DataFrame from numpy ndarray:\n",
              "\n",
              "&gt;&gt;&gt; df2 = pd.DataFrame(np.array([[1, 2, 3], [4, 5, 6], [7, 8, 9]]),\n",
              "...                    columns=[&#x27;a&#x27;, &#x27;b&#x27;, &#x27;c&#x27;])\n",
              "&gt;&gt;&gt; df2\n",
              "   a  b  c\n",
              "0  1  2  3\n",
              "1  4  5  6\n",
              "2  7  8  9\n",
              "\n",
              "Constructing DataFrame from a numpy ndarray that has labeled columns:\n",
              "\n",
              "&gt;&gt;&gt; data = np.array([(1, 2, 3), (4, 5, 6), (7, 8, 9)],\n",
              "...                 dtype=[(&quot;a&quot;, &quot;i4&quot;), (&quot;b&quot;, &quot;i4&quot;), (&quot;c&quot;, &quot;i4&quot;)])\n",
              "&gt;&gt;&gt; df3 = pd.DataFrame(data, columns=[&#x27;c&#x27;, &#x27;a&#x27;])\n",
              "...\n",
              "&gt;&gt;&gt; df3\n",
              "   c  a\n",
              "0  3  1\n",
              "1  6  4\n",
              "2  9  7\n",
              "\n",
              "Constructing DataFrame from dataclass:\n",
              "\n",
              "&gt;&gt;&gt; from dataclasses import make_dataclass\n",
              "&gt;&gt;&gt; Point = make_dataclass(&quot;Point&quot;, [(&quot;x&quot;, int), (&quot;y&quot;, int)])\n",
              "&gt;&gt;&gt; pd.DataFrame([Point(0, 0), Point(0, 3), Point(2, 3)])\n",
              "   x  y\n",
              "0  0  0\n",
              "1  0  3\n",
              "2  2  3\n",
              "\n",
              "Constructing DataFrame from Series/DataFrame:\n",
              "\n",
              "&gt;&gt;&gt; ser = pd.Series([1, 2, 3], index=[&quot;a&quot;, &quot;b&quot;, &quot;c&quot;])\n",
              "&gt;&gt;&gt; df = pd.DataFrame(data=ser, index=[&quot;a&quot;, &quot;c&quot;])\n",
              "&gt;&gt;&gt; df\n",
              "   0\n",
              "a  1\n",
              "c  3\n",
              "\n",
              "&gt;&gt;&gt; df1 = pd.DataFrame([1, 2, 3], index=[&quot;a&quot;, &quot;b&quot;, &quot;c&quot;], columns=[&quot;x&quot;])\n",
              "&gt;&gt;&gt; df2 = pd.DataFrame(data=df1, index=[&quot;a&quot;, &quot;c&quot;])\n",
              "&gt;&gt;&gt; df2\n",
              "   x\n",
              "a  1\n",
              "c  3</pre>\n",
              "      <script>\n",
              "      if (google.colab.kernel.accessAllowed && google.colab.files && google.colab.files.view) {\n",
              "        for (const element of document.querySelectorAll('.filepath')) {\n",
              "          element.style.display = 'block'\n",
              "          element.onclick = (event) => {\n",
              "            event.preventDefault();\n",
              "            event.stopPropagation();\n",
              "            google.colab.files.view(element.textContent, 509);\n",
              "          };\n",
              "        }\n",
              "      }\n",
              "      for (const element of document.querySelectorAll('.function-repr-contents')) {\n",
              "        element.onclick = (event) => {\n",
              "          event.preventDefault();\n",
              "          event.stopPropagation();\n",
              "          element.classList.toggle('function-repr-contents-collapsed');\n",
              "        };\n",
              "      }\n",
              "      </script>\n",
              "      </div>"
            ]
          },
          "metadata": {},
          "execution_count": 167
        }
      ],
      "source": [
        "#type\n",
        "type(df)"
      ]
    },
    {
      "cell_type": "markdown",
      "metadata": {
        "id": "Ncbz1ZcW6xvZ"
      },
      "source": [
        "###  Display the first five rows of the dataset.\n",
        "\n"
      ]
    },
    {
      "cell_type": "code",
      "execution_count": null,
      "metadata": {
        "id": "OSCSccXjc0Zo",
        "colab": {
          "base_uri": "https://localhost:8080/",
          "height": 243
        },
        "outputId": "0eb35b3b-e4c1-4c53-85b2-4c673ac576f5"
      },
      "outputs": [
        {
          "output_type": "execute_result",
          "data": {
            "text/plain": [
              "    Loan_ID Gender Married Dependents     Education Self_Employed  \\\n",
              "0  LP001002   Male      No          0      Graduate            No   \n",
              "1  LP001003   Male     Yes          1      Graduate            No   \n",
              "2  LP001005   Male     Yes          0      Graduate           Yes   \n",
              "3  LP001006   Male     Yes          0  Not Graduate            No   \n",
              "4  LP001008   Male      No          0      Graduate            No   \n",
              "\n",
              "   ApplicantIncome  CoapplicantIncome  LoanAmount  Loan_Amount_Term  \\\n",
              "0             5849                0.0         NaN             360.0   \n",
              "1             4583             1508.0       128.0             360.0   \n",
              "2             3000                0.0        66.0             360.0   \n",
              "3             2583             2358.0       120.0             360.0   \n",
              "4             6000                0.0       141.0             360.0   \n",
              "\n",
              "   Credit_History Property_Area Loan_Status  \n",
              "0             1.0         Urban           Y  \n",
              "1             1.0         Rural           N  \n",
              "2             1.0         Urban           Y  \n",
              "3             1.0         Urban           Y  \n",
              "4             1.0         Urban           Y  "
            ],
            "text/html": [
              "\n",
              "  <div id=\"df-69fe7567-3061-4076-aad5-9b2abd299bbc\" class=\"colab-df-container\">\n",
              "    <div>\n",
              "<style scoped>\n",
              "    .dataframe tbody tr th:only-of-type {\n",
              "        vertical-align: middle;\n",
              "    }\n",
              "\n",
              "    .dataframe tbody tr th {\n",
              "        vertical-align: top;\n",
              "    }\n",
              "\n",
              "    .dataframe thead th {\n",
              "        text-align: right;\n",
              "    }\n",
              "</style>\n",
              "<table border=\"1\" class=\"dataframe\">\n",
              "  <thead>\n",
              "    <tr style=\"text-align: right;\">\n",
              "      <th></th>\n",
              "      <th>Loan_ID</th>\n",
              "      <th>Gender</th>\n",
              "      <th>Married</th>\n",
              "      <th>Dependents</th>\n",
              "      <th>Education</th>\n",
              "      <th>Self_Employed</th>\n",
              "      <th>ApplicantIncome</th>\n",
              "      <th>CoapplicantIncome</th>\n",
              "      <th>LoanAmount</th>\n",
              "      <th>Loan_Amount_Term</th>\n",
              "      <th>Credit_History</th>\n",
              "      <th>Property_Area</th>\n",
              "      <th>Loan_Status</th>\n",
              "    </tr>\n",
              "  </thead>\n",
              "  <tbody>\n",
              "    <tr>\n",
              "      <th>0</th>\n",
              "      <td>LP001002</td>\n",
              "      <td>Male</td>\n",
              "      <td>No</td>\n",
              "      <td>0</td>\n",
              "      <td>Graduate</td>\n",
              "      <td>No</td>\n",
              "      <td>5849</td>\n",
              "      <td>0.0</td>\n",
              "      <td>NaN</td>\n",
              "      <td>360.0</td>\n",
              "      <td>1.0</td>\n",
              "      <td>Urban</td>\n",
              "      <td>Y</td>\n",
              "    </tr>\n",
              "    <tr>\n",
              "      <th>1</th>\n",
              "      <td>LP001003</td>\n",
              "      <td>Male</td>\n",
              "      <td>Yes</td>\n",
              "      <td>1</td>\n",
              "      <td>Graduate</td>\n",
              "      <td>No</td>\n",
              "      <td>4583</td>\n",
              "      <td>1508.0</td>\n",
              "      <td>128.0</td>\n",
              "      <td>360.0</td>\n",
              "      <td>1.0</td>\n",
              "      <td>Rural</td>\n",
              "      <td>N</td>\n",
              "    </tr>\n",
              "    <tr>\n",
              "      <th>2</th>\n",
              "      <td>LP001005</td>\n",
              "      <td>Male</td>\n",
              "      <td>Yes</td>\n",
              "      <td>0</td>\n",
              "      <td>Graduate</td>\n",
              "      <td>Yes</td>\n",
              "      <td>3000</td>\n",
              "      <td>0.0</td>\n",
              "      <td>66.0</td>\n",
              "      <td>360.0</td>\n",
              "      <td>1.0</td>\n",
              "      <td>Urban</td>\n",
              "      <td>Y</td>\n",
              "    </tr>\n",
              "    <tr>\n",
              "      <th>3</th>\n",
              "      <td>LP001006</td>\n",
              "      <td>Male</td>\n",
              "      <td>Yes</td>\n",
              "      <td>0</td>\n",
              "      <td>Not Graduate</td>\n",
              "      <td>No</td>\n",
              "      <td>2583</td>\n",
              "      <td>2358.0</td>\n",
              "      <td>120.0</td>\n",
              "      <td>360.0</td>\n",
              "      <td>1.0</td>\n",
              "      <td>Urban</td>\n",
              "      <td>Y</td>\n",
              "    </tr>\n",
              "    <tr>\n",
              "      <th>4</th>\n",
              "      <td>LP001008</td>\n",
              "      <td>Male</td>\n",
              "      <td>No</td>\n",
              "      <td>0</td>\n",
              "      <td>Graduate</td>\n",
              "      <td>No</td>\n",
              "      <td>6000</td>\n",
              "      <td>0.0</td>\n",
              "      <td>141.0</td>\n",
              "      <td>360.0</td>\n",
              "      <td>1.0</td>\n",
              "      <td>Urban</td>\n",
              "      <td>Y</td>\n",
              "    </tr>\n",
              "  </tbody>\n",
              "</table>\n",
              "</div>\n",
              "    <div class=\"colab-df-buttons\">\n",
              "\n",
              "  <div class=\"colab-df-container\">\n",
              "    <button class=\"colab-df-convert\" onclick=\"convertToInteractive('df-69fe7567-3061-4076-aad5-9b2abd299bbc')\"\n",
              "            title=\"Convert this dataframe to an interactive table.\"\n",
              "            style=\"display:none;\">\n",
              "\n",
              "  <svg xmlns=\"http://www.w3.org/2000/svg\" height=\"24px\" viewBox=\"0 -960 960 960\">\n",
              "    <path d=\"M120-120v-720h720v720H120Zm60-500h600v-160H180v160Zm220 220h160v-160H400v160Zm0 220h160v-160H400v160ZM180-400h160v-160H180v160Zm440 0h160v-160H620v160ZM180-180h160v-160H180v160Zm440 0h160v-160H620v160Z\"/>\n",
              "  </svg>\n",
              "    </button>\n",
              "\n",
              "  <style>\n",
              "    .colab-df-container {\n",
              "      display:flex;\n",
              "      gap: 12px;\n",
              "    }\n",
              "\n",
              "    .colab-df-convert {\n",
              "      background-color: #E8F0FE;\n",
              "      border: none;\n",
              "      border-radius: 50%;\n",
              "      cursor: pointer;\n",
              "      display: none;\n",
              "      fill: #1967D2;\n",
              "      height: 32px;\n",
              "      padding: 0 0 0 0;\n",
              "      width: 32px;\n",
              "    }\n",
              "\n",
              "    .colab-df-convert:hover {\n",
              "      background-color: #E2EBFA;\n",
              "      box-shadow: 0px 1px 2px rgba(60, 64, 67, 0.3), 0px 1px 3px 1px rgba(60, 64, 67, 0.15);\n",
              "      fill: #174EA6;\n",
              "    }\n",
              "\n",
              "    .colab-df-buttons div {\n",
              "      margin-bottom: 4px;\n",
              "    }\n",
              "\n",
              "    [theme=dark] .colab-df-convert {\n",
              "      background-color: #3B4455;\n",
              "      fill: #D2E3FC;\n",
              "    }\n",
              "\n",
              "    [theme=dark] .colab-df-convert:hover {\n",
              "      background-color: #434B5C;\n",
              "      box-shadow: 0px 1px 3px 1px rgba(0, 0, 0, 0.15);\n",
              "      filter: drop-shadow(0px 1px 2px rgba(0, 0, 0, 0.3));\n",
              "      fill: #FFFFFF;\n",
              "    }\n",
              "  </style>\n",
              "\n",
              "    <script>\n",
              "      const buttonEl =\n",
              "        document.querySelector('#df-69fe7567-3061-4076-aad5-9b2abd299bbc button.colab-df-convert');\n",
              "      buttonEl.style.display =\n",
              "        google.colab.kernel.accessAllowed ? 'block' : 'none';\n",
              "\n",
              "      async function convertToInteractive(key) {\n",
              "        const element = document.querySelector('#df-69fe7567-3061-4076-aad5-9b2abd299bbc');\n",
              "        const dataTable =\n",
              "          await google.colab.kernel.invokeFunction('convertToInteractive',\n",
              "                                                    [key], {});\n",
              "        if (!dataTable) return;\n",
              "\n",
              "        const docLinkHtml = 'Like what you see? Visit the ' +\n",
              "          '<a target=\"_blank\" href=https://colab.research.google.com/notebooks/data_table.ipynb>data table notebook</a>'\n",
              "          + ' to learn more about interactive tables.';\n",
              "        element.innerHTML = '';\n",
              "        dataTable['output_type'] = 'display_data';\n",
              "        await google.colab.output.renderOutput(dataTable, element);\n",
              "        const docLink = document.createElement('div');\n",
              "        docLink.innerHTML = docLinkHtml;\n",
              "        element.appendChild(docLink);\n",
              "      }\n",
              "    </script>\n",
              "  </div>\n",
              "\n",
              "\n",
              "<div id=\"df-f01da78b-2322-49fa-bd1a-441950838678\">\n",
              "  <button class=\"colab-df-quickchart\" onclick=\"quickchart('df-f01da78b-2322-49fa-bd1a-441950838678')\"\n",
              "            title=\"Suggest charts\"\n",
              "            style=\"display:none;\">\n",
              "\n",
              "<svg xmlns=\"http://www.w3.org/2000/svg\" height=\"24px\"viewBox=\"0 0 24 24\"\n",
              "     width=\"24px\">\n",
              "    <g>\n",
              "        <path d=\"M19 3H5c-1.1 0-2 .9-2 2v14c0 1.1.9 2 2 2h14c1.1 0 2-.9 2-2V5c0-1.1-.9-2-2-2zM9 17H7v-7h2v7zm4 0h-2V7h2v10zm4 0h-2v-4h2v4z\"/>\n",
              "    </g>\n",
              "</svg>\n",
              "  </button>\n",
              "\n",
              "<style>\n",
              "  .colab-df-quickchart {\n",
              "      --bg-color: #E8F0FE;\n",
              "      --fill-color: #1967D2;\n",
              "      --hover-bg-color: #E2EBFA;\n",
              "      --hover-fill-color: #174EA6;\n",
              "      --disabled-fill-color: #AAA;\n",
              "      --disabled-bg-color: #DDD;\n",
              "  }\n",
              "\n",
              "  [theme=dark] .colab-df-quickchart {\n",
              "      --bg-color: #3B4455;\n",
              "      --fill-color: #D2E3FC;\n",
              "      --hover-bg-color: #434B5C;\n",
              "      --hover-fill-color: #FFFFFF;\n",
              "      --disabled-bg-color: #3B4455;\n",
              "      --disabled-fill-color: #666;\n",
              "  }\n",
              "\n",
              "  .colab-df-quickchart {\n",
              "    background-color: var(--bg-color);\n",
              "    border: none;\n",
              "    border-radius: 50%;\n",
              "    cursor: pointer;\n",
              "    display: none;\n",
              "    fill: var(--fill-color);\n",
              "    height: 32px;\n",
              "    padding: 0;\n",
              "    width: 32px;\n",
              "  }\n",
              "\n",
              "  .colab-df-quickchart:hover {\n",
              "    background-color: var(--hover-bg-color);\n",
              "    box-shadow: 0 1px 2px rgba(60, 64, 67, 0.3), 0 1px 3px 1px rgba(60, 64, 67, 0.15);\n",
              "    fill: var(--button-hover-fill-color);\n",
              "  }\n",
              "\n",
              "  .colab-df-quickchart-complete:disabled,\n",
              "  .colab-df-quickchart-complete:disabled:hover {\n",
              "    background-color: var(--disabled-bg-color);\n",
              "    fill: var(--disabled-fill-color);\n",
              "    box-shadow: none;\n",
              "  }\n",
              "\n",
              "  .colab-df-spinner {\n",
              "    border: 2px solid var(--fill-color);\n",
              "    border-color: transparent;\n",
              "    border-bottom-color: var(--fill-color);\n",
              "    animation:\n",
              "      spin 1s steps(1) infinite;\n",
              "  }\n",
              "\n",
              "  @keyframes spin {\n",
              "    0% {\n",
              "      border-color: transparent;\n",
              "      border-bottom-color: var(--fill-color);\n",
              "      border-left-color: var(--fill-color);\n",
              "    }\n",
              "    20% {\n",
              "      border-color: transparent;\n",
              "      border-left-color: var(--fill-color);\n",
              "      border-top-color: var(--fill-color);\n",
              "    }\n",
              "    30% {\n",
              "      border-color: transparent;\n",
              "      border-left-color: var(--fill-color);\n",
              "      border-top-color: var(--fill-color);\n",
              "      border-right-color: var(--fill-color);\n",
              "    }\n",
              "    40% {\n",
              "      border-color: transparent;\n",
              "      border-right-color: var(--fill-color);\n",
              "      border-top-color: var(--fill-color);\n",
              "    }\n",
              "    60% {\n",
              "      border-color: transparent;\n",
              "      border-right-color: var(--fill-color);\n",
              "    }\n",
              "    80% {\n",
              "      border-color: transparent;\n",
              "      border-right-color: var(--fill-color);\n",
              "      border-bottom-color: var(--fill-color);\n",
              "    }\n",
              "    90% {\n",
              "      border-color: transparent;\n",
              "      border-bottom-color: var(--fill-color);\n",
              "    }\n",
              "  }\n",
              "</style>\n",
              "\n",
              "  <script>\n",
              "    async function quickchart(key) {\n",
              "      const quickchartButtonEl =\n",
              "        document.querySelector('#' + key + ' button');\n",
              "      quickchartButtonEl.disabled = true;  // To prevent multiple clicks.\n",
              "      quickchartButtonEl.classList.add('colab-df-spinner');\n",
              "      try {\n",
              "        const charts = await google.colab.kernel.invokeFunction(\n",
              "            'suggestCharts', [key], {});\n",
              "      } catch (error) {\n",
              "        console.error('Error during call to suggestCharts:', error);\n",
              "      }\n",
              "      quickchartButtonEl.classList.remove('colab-df-spinner');\n",
              "      quickchartButtonEl.classList.add('colab-df-quickchart-complete');\n",
              "    }\n",
              "    (() => {\n",
              "      let quickchartButtonEl =\n",
              "        document.querySelector('#df-f01da78b-2322-49fa-bd1a-441950838678 button');\n",
              "      quickchartButtonEl.style.display =\n",
              "        google.colab.kernel.accessAllowed ? 'block' : 'none';\n",
              "    })();\n",
              "  </script>\n",
              "</div>\n",
              "\n",
              "    </div>\n",
              "  </div>\n"
            ],
            "application/vnd.google.colaboratory.intrinsic+json": {
              "type": "dataframe",
              "variable_name": "df",
              "summary": "{\n  \"name\": \"df\",\n  \"rows\": 614,\n  \"fields\": [\n    {\n      \"column\": \"Loan_ID\",\n      \"properties\": {\n        \"dtype\": \"string\",\n        \"num_unique_values\": 614,\n        \"samples\": [\n          \"LP002139\",\n          \"LP002223\",\n          \"LP001570\"\n        ],\n        \"semantic_type\": \"\",\n        \"description\": \"\"\n      }\n    },\n    {\n      \"column\": \"Gender\",\n      \"properties\": {\n        \"dtype\": \"category\",\n        \"num_unique_values\": 2,\n        \"samples\": [\n          \"Female\",\n          \"Male\"\n        ],\n        \"semantic_type\": \"\",\n        \"description\": \"\"\n      }\n    },\n    {\n      \"column\": \"Married\",\n      \"properties\": {\n        \"dtype\": \"category\",\n        \"num_unique_values\": 2,\n        \"samples\": [\n          \"Yes\",\n          \"No\"\n        ],\n        \"semantic_type\": \"\",\n        \"description\": \"\"\n      }\n    },\n    {\n      \"column\": \"Dependents\",\n      \"properties\": {\n        \"dtype\": \"category\",\n        \"num_unique_values\": 4,\n        \"samples\": [\n          \"1\",\n          \"3+\"\n        ],\n        \"semantic_type\": \"\",\n        \"description\": \"\"\n      }\n    },\n    {\n      \"column\": \"Education\",\n      \"properties\": {\n        \"dtype\": \"category\",\n        \"num_unique_values\": 2,\n        \"samples\": [\n          \"Not Graduate\",\n          \"Graduate\"\n        ],\n        \"semantic_type\": \"\",\n        \"description\": \"\"\n      }\n    },\n    {\n      \"column\": \"Self_Employed\",\n      \"properties\": {\n        \"dtype\": \"category\",\n        \"num_unique_values\": 2,\n        \"samples\": [\n          \"Yes\",\n          \"No\"\n        ],\n        \"semantic_type\": \"\",\n        \"description\": \"\"\n      }\n    },\n    {\n      \"column\": \"ApplicantIncome\",\n      \"properties\": {\n        \"dtype\": \"number\",\n        \"std\": 6109,\n        \"min\": 150,\n        \"max\": 81000,\n        \"num_unique_values\": 505,\n        \"samples\": [\n          8333,\n          4342\n        ],\n        \"semantic_type\": \"\",\n        \"description\": \"\"\n      }\n    },\n    {\n      \"column\": \"CoapplicantIncome\",\n      \"properties\": {\n        \"dtype\": \"number\",\n        \"std\": 2926.2483692241917,\n        \"min\": 0.0,\n        \"max\": 41667.0,\n        \"num_unique_values\": 287,\n        \"samples\": [\n          1840.0,\n          2042.0\n        ],\n        \"semantic_type\": \"\",\n        \"description\": \"\"\n      }\n    },\n    {\n      \"column\": \"LoanAmount\",\n      \"properties\": {\n        \"dtype\": \"number\",\n        \"std\": 85.58732523570545,\n        \"min\": 9.0,\n        \"max\": 700.0,\n        \"num_unique_values\": 203,\n        \"samples\": [\n          100.0,\n          70.0\n        ],\n        \"semantic_type\": \"\",\n        \"description\": \"\"\n      }\n    },\n    {\n      \"column\": \"Loan_Amount_Term\",\n      \"properties\": {\n        \"dtype\": \"number\",\n        \"std\": 65.12040985461256,\n        \"min\": 12.0,\n        \"max\": 480.0,\n        \"num_unique_values\": 10,\n        \"samples\": [\n          84.0,\n          120.0\n        ],\n        \"semantic_type\": \"\",\n        \"description\": \"\"\n      }\n    },\n    {\n      \"column\": \"Credit_History\",\n      \"properties\": {\n        \"dtype\": \"number\",\n        \"std\": 0.3648783192364049,\n        \"min\": 0.0,\n        \"max\": 1.0,\n        \"num_unique_values\": 2,\n        \"samples\": [\n          0.0,\n          1.0\n        ],\n        \"semantic_type\": \"\",\n        \"description\": \"\"\n      }\n    },\n    {\n      \"column\": \"Property_Area\",\n      \"properties\": {\n        \"dtype\": \"category\",\n        \"num_unique_values\": 3,\n        \"samples\": [\n          \"Urban\",\n          \"Rural\"\n        ],\n        \"semantic_type\": \"\",\n        \"description\": \"\"\n      }\n    },\n    {\n      \"column\": \"Loan_Status\",\n      \"properties\": {\n        \"dtype\": \"category\",\n        \"num_unique_values\": 2,\n        \"samples\": [\n          \"N\",\n          \"Y\"\n        ],\n        \"semantic_type\": \"\",\n        \"description\": \"\"\n      }\n    }\n  ]\n}"
            }
          },
          "metadata": {},
          "execution_count": 168
        }
      ],
      "source": [
        "df.head()"
      ]
    },
    {
      "cell_type": "code",
      "execution_count": null,
      "metadata": {
        "id": "Jycx7MjL_DkV",
        "colab": {
          "base_uri": "https://localhost:8080/",
          "height": 257
        },
        "outputId": "a5190ff2-48d8-447b-9d21-eec0a9b68e7f"
      },
      "outputs": [
        {
          "output_type": "execute_result",
          "data": {
            "text/plain": [
              "      Loan_ID  Gender Married Dependents Education Self_Employed  \\\n",
              "608  LP002974    Male     Yes          0  Graduate            No   \n",
              "609  LP002978  Female      No          0  Graduate            No   \n",
              "610  LP002979    Male     Yes         3+  Graduate            No   \n",
              "611  LP002983    Male     Yes          1  Graduate            No   \n",
              "612  LP002984    Male     Yes          2  Graduate            No   \n",
              "613  LP002990  Female      No          0  Graduate           Yes   \n",
              "\n",
              "     ApplicantIncome  CoapplicantIncome  LoanAmount  Loan_Amount_Term  \\\n",
              "608             3232             1950.0       108.0             360.0   \n",
              "609             2900                0.0        71.0             360.0   \n",
              "610             4106                0.0        40.0             180.0   \n",
              "611             8072              240.0       253.0             360.0   \n",
              "612             7583                0.0       187.0             360.0   \n",
              "613             4583                0.0       133.0             360.0   \n",
              "\n",
              "     Credit_History Property_Area Loan_Status  \n",
              "608             1.0         Rural           Y  \n",
              "609             1.0         Rural           Y  \n",
              "610             1.0         Rural           Y  \n",
              "611             1.0         Urban           Y  \n",
              "612             1.0         Urban           Y  \n",
              "613             0.0     Semiurban           N  "
            ],
            "text/html": [
              "\n",
              "  <div id=\"df-3e27b971-15dd-4f69-a0ae-d4e549c050a2\" class=\"colab-df-container\">\n",
              "    <div>\n",
              "<style scoped>\n",
              "    .dataframe tbody tr th:only-of-type {\n",
              "        vertical-align: middle;\n",
              "    }\n",
              "\n",
              "    .dataframe tbody tr th {\n",
              "        vertical-align: top;\n",
              "    }\n",
              "\n",
              "    .dataframe thead th {\n",
              "        text-align: right;\n",
              "    }\n",
              "</style>\n",
              "<table border=\"1\" class=\"dataframe\">\n",
              "  <thead>\n",
              "    <tr style=\"text-align: right;\">\n",
              "      <th></th>\n",
              "      <th>Loan_ID</th>\n",
              "      <th>Gender</th>\n",
              "      <th>Married</th>\n",
              "      <th>Dependents</th>\n",
              "      <th>Education</th>\n",
              "      <th>Self_Employed</th>\n",
              "      <th>ApplicantIncome</th>\n",
              "      <th>CoapplicantIncome</th>\n",
              "      <th>LoanAmount</th>\n",
              "      <th>Loan_Amount_Term</th>\n",
              "      <th>Credit_History</th>\n",
              "      <th>Property_Area</th>\n",
              "      <th>Loan_Status</th>\n",
              "    </tr>\n",
              "  </thead>\n",
              "  <tbody>\n",
              "    <tr>\n",
              "      <th>608</th>\n",
              "      <td>LP002974</td>\n",
              "      <td>Male</td>\n",
              "      <td>Yes</td>\n",
              "      <td>0</td>\n",
              "      <td>Graduate</td>\n",
              "      <td>No</td>\n",
              "      <td>3232</td>\n",
              "      <td>1950.0</td>\n",
              "      <td>108.0</td>\n",
              "      <td>360.0</td>\n",
              "      <td>1.0</td>\n",
              "      <td>Rural</td>\n",
              "      <td>Y</td>\n",
              "    </tr>\n",
              "    <tr>\n",
              "      <th>609</th>\n",
              "      <td>LP002978</td>\n",
              "      <td>Female</td>\n",
              "      <td>No</td>\n",
              "      <td>0</td>\n",
              "      <td>Graduate</td>\n",
              "      <td>No</td>\n",
              "      <td>2900</td>\n",
              "      <td>0.0</td>\n",
              "      <td>71.0</td>\n",
              "      <td>360.0</td>\n",
              "      <td>1.0</td>\n",
              "      <td>Rural</td>\n",
              "      <td>Y</td>\n",
              "    </tr>\n",
              "    <tr>\n",
              "      <th>610</th>\n",
              "      <td>LP002979</td>\n",
              "      <td>Male</td>\n",
              "      <td>Yes</td>\n",
              "      <td>3+</td>\n",
              "      <td>Graduate</td>\n",
              "      <td>No</td>\n",
              "      <td>4106</td>\n",
              "      <td>0.0</td>\n",
              "      <td>40.0</td>\n",
              "      <td>180.0</td>\n",
              "      <td>1.0</td>\n",
              "      <td>Rural</td>\n",
              "      <td>Y</td>\n",
              "    </tr>\n",
              "    <tr>\n",
              "      <th>611</th>\n",
              "      <td>LP002983</td>\n",
              "      <td>Male</td>\n",
              "      <td>Yes</td>\n",
              "      <td>1</td>\n",
              "      <td>Graduate</td>\n",
              "      <td>No</td>\n",
              "      <td>8072</td>\n",
              "      <td>240.0</td>\n",
              "      <td>253.0</td>\n",
              "      <td>360.0</td>\n",
              "      <td>1.0</td>\n",
              "      <td>Urban</td>\n",
              "      <td>Y</td>\n",
              "    </tr>\n",
              "    <tr>\n",
              "      <th>612</th>\n",
              "      <td>LP002984</td>\n",
              "      <td>Male</td>\n",
              "      <td>Yes</td>\n",
              "      <td>2</td>\n",
              "      <td>Graduate</td>\n",
              "      <td>No</td>\n",
              "      <td>7583</td>\n",
              "      <td>0.0</td>\n",
              "      <td>187.0</td>\n",
              "      <td>360.0</td>\n",
              "      <td>1.0</td>\n",
              "      <td>Urban</td>\n",
              "      <td>Y</td>\n",
              "    </tr>\n",
              "    <tr>\n",
              "      <th>613</th>\n",
              "      <td>LP002990</td>\n",
              "      <td>Female</td>\n",
              "      <td>No</td>\n",
              "      <td>0</td>\n",
              "      <td>Graduate</td>\n",
              "      <td>Yes</td>\n",
              "      <td>4583</td>\n",
              "      <td>0.0</td>\n",
              "      <td>133.0</td>\n",
              "      <td>360.0</td>\n",
              "      <td>0.0</td>\n",
              "      <td>Semiurban</td>\n",
              "      <td>N</td>\n",
              "    </tr>\n",
              "  </tbody>\n",
              "</table>\n",
              "</div>\n",
              "    <div class=\"colab-df-buttons\">\n",
              "\n",
              "  <div class=\"colab-df-container\">\n",
              "    <button class=\"colab-df-convert\" onclick=\"convertToInteractive('df-3e27b971-15dd-4f69-a0ae-d4e549c050a2')\"\n",
              "            title=\"Convert this dataframe to an interactive table.\"\n",
              "            style=\"display:none;\">\n",
              "\n",
              "  <svg xmlns=\"http://www.w3.org/2000/svg\" height=\"24px\" viewBox=\"0 -960 960 960\">\n",
              "    <path d=\"M120-120v-720h720v720H120Zm60-500h600v-160H180v160Zm220 220h160v-160H400v160Zm0 220h160v-160H400v160ZM180-400h160v-160H180v160Zm440 0h160v-160H620v160ZM180-180h160v-160H180v160Zm440 0h160v-160H620v160Z\"/>\n",
              "  </svg>\n",
              "    </button>\n",
              "\n",
              "  <style>\n",
              "    .colab-df-container {\n",
              "      display:flex;\n",
              "      gap: 12px;\n",
              "    }\n",
              "\n",
              "    .colab-df-convert {\n",
              "      background-color: #E8F0FE;\n",
              "      border: none;\n",
              "      border-radius: 50%;\n",
              "      cursor: pointer;\n",
              "      display: none;\n",
              "      fill: #1967D2;\n",
              "      height: 32px;\n",
              "      padding: 0 0 0 0;\n",
              "      width: 32px;\n",
              "    }\n",
              "\n",
              "    .colab-df-convert:hover {\n",
              "      background-color: #E2EBFA;\n",
              "      box-shadow: 0px 1px 2px rgba(60, 64, 67, 0.3), 0px 1px 3px 1px rgba(60, 64, 67, 0.15);\n",
              "      fill: #174EA6;\n",
              "    }\n",
              "\n",
              "    .colab-df-buttons div {\n",
              "      margin-bottom: 4px;\n",
              "    }\n",
              "\n",
              "    [theme=dark] .colab-df-convert {\n",
              "      background-color: #3B4455;\n",
              "      fill: #D2E3FC;\n",
              "    }\n",
              "\n",
              "    [theme=dark] .colab-df-convert:hover {\n",
              "      background-color: #434B5C;\n",
              "      box-shadow: 0px 1px 3px 1px rgba(0, 0, 0, 0.15);\n",
              "      filter: drop-shadow(0px 1px 2px rgba(0, 0, 0, 0.3));\n",
              "      fill: #FFFFFF;\n",
              "    }\n",
              "  </style>\n",
              "\n",
              "    <script>\n",
              "      const buttonEl =\n",
              "        document.querySelector('#df-3e27b971-15dd-4f69-a0ae-d4e549c050a2 button.colab-df-convert');\n",
              "      buttonEl.style.display =\n",
              "        google.colab.kernel.accessAllowed ? 'block' : 'none';\n",
              "\n",
              "      async function convertToInteractive(key) {\n",
              "        const element = document.querySelector('#df-3e27b971-15dd-4f69-a0ae-d4e549c050a2');\n",
              "        const dataTable =\n",
              "          await google.colab.kernel.invokeFunction('convertToInteractive',\n",
              "                                                    [key], {});\n",
              "        if (!dataTable) return;\n",
              "\n",
              "        const docLinkHtml = 'Like what you see? Visit the ' +\n",
              "          '<a target=\"_blank\" href=https://colab.research.google.com/notebooks/data_table.ipynb>data table notebook</a>'\n",
              "          + ' to learn more about interactive tables.';\n",
              "        element.innerHTML = '';\n",
              "        dataTable['output_type'] = 'display_data';\n",
              "        await google.colab.output.renderOutput(dataTable, element);\n",
              "        const docLink = document.createElement('div');\n",
              "        docLink.innerHTML = docLinkHtml;\n",
              "        element.appendChild(docLink);\n",
              "      }\n",
              "    </script>\n",
              "  </div>\n",
              "\n",
              "\n",
              "<div id=\"df-ecaa4649-bc7e-4a65-b973-67f5c70a4e03\">\n",
              "  <button class=\"colab-df-quickchart\" onclick=\"quickchart('df-ecaa4649-bc7e-4a65-b973-67f5c70a4e03')\"\n",
              "            title=\"Suggest charts\"\n",
              "            style=\"display:none;\">\n",
              "\n",
              "<svg xmlns=\"http://www.w3.org/2000/svg\" height=\"24px\"viewBox=\"0 0 24 24\"\n",
              "     width=\"24px\">\n",
              "    <g>\n",
              "        <path d=\"M19 3H5c-1.1 0-2 .9-2 2v14c0 1.1.9 2 2 2h14c1.1 0 2-.9 2-2V5c0-1.1-.9-2-2-2zM9 17H7v-7h2v7zm4 0h-2V7h2v10zm4 0h-2v-4h2v4z\"/>\n",
              "    </g>\n",
              "</svg>\n",
              "  </button>\n",
              "\n",
              "<style>\n",
              "  .colab-df-quickchart {\n",
              "      --bg-color: #E8F0FE;\n",
              "      --fill-color: #1967D2;\n",
              "      --hover-bg-color: #E2EBFA;\n",
              "      --hover-fill-color: #174EA6;\n",
              "      --disabled-fill-color: #AAA;\n",
              "      --disabled-bg-color: #DDD;\n",
              "  }\n",
              "\n",
              "  [theme=dark] .colab-df-quickchart {\n",
              "      --bg-color: #3B4455;\n",
              "      --fill-color: #D2E3FC;\n",
              "      --hover-bg-color: #434B5C;\n",
              "      --hover-fill-color: #FFFFFF;\n",
              "      --disabled-bg-color: #3B4455;\n",
              "      --disabled-fill-color: #666;\n",
              "  }\n",
              "\n",
              "  .colab-df-quickchart {\n",
              "    background-color: var(--bg-color);\n",
              "    border: none;\n",
              "    border-radius: 50%;\n",
              "    cursor: pointer;\n",
              "    display: none;\n",
              "    fill: var(--fill-color);\n",
              "    height: 32px;\n",
              "    padding: 0;\n",
              "    width: 32px;\n",
              "  }\n",
              "\n",
              "  .colab-df-quickchart:hover {\n",
              "    background-color: var(--hover-bg-color);\n",
              "    box-shadow: 0 1px 2px rgba(60, 64, 67, 0.3), 0 1px 3px 1px rgba(60, 64, 67, 0.15);\n",
              "    fill: var(--button-hover-fill-color);\n",
              "  }\n",
              "\n",
              "  .colab-df-quickchart-complete:disabled,\n",
              "  .colab-df-quickchart-complete:disabled:hover {\n",
              "    background-color: var(--disabled-bg-color);\n",
              "    fill: var(--disabled-fill-color);\n",
              "    box-shadow: none;\n",
              "  }\n",
              "\n",
              "  .colab-df-spinner {\n",
              "    border: 2px solid var(--fill-color);\n",
              "    border-color: transparent;\n",
              "    border-bottom-color: var(--fill-color);\n",
              "    animation:\n",
              "      spin 1s steps(1) infinite;\n",
              "  }\n",
              "\n",
              "  @keyframes spin {\n",
              "    0% {\n",
              "      border-color: transparent;\n",
              "      border-bottom-color: var(--fill-color);\n",
              "      border-left-color: var(--fill-color);\n",
              "    }\n",
              "    20% {\n",
              "      border-color: transparent;\n",
              "      border-left-color: var(--fill-color);\n",
              "      border-top-color: var(--fill-color);\n",
              "    }\n",
              "    30% {\n",
              "      border-color: transparent;\n",
              "      border-left-color: var(--fill-color);\n",
              "      border-top-color: var(--fill-color);\n",
              "      border-right-color: var(--fill-color);\n",
              "    }\n",
              "    40% {\n",
              "      border-color: transparent;\n",
              "      border-right-color: var(--fill-color);\n",
              "      border-top-color: var(--fill-color);\n",
              "    }\n",
              "    60% {\n",
              "      border-color: transparent;\n",
              "      border-right-color: var(--fill-color);\n",
              "    }\n",
              "    80% {\n",
              "      border-color: transparent;\n",
              "      border-right-color: var(--fill-color);\n",
              "      border-bottom-color: var(--fill-color);\n",
              "    }\n",
              "    90% {\n",
              "      border-color: transparent;\n",
              "      border-bottom-color: var(--fill-color);\n",
              "    }\n",
              "  }\n",
              "</style>\n",
              "\n",
              "  <script>\n",
              "    async function quickchart(key) {\n",
              "      const quickchartButtonEl =\n",
              "        document.querySelector('#' + key + ' button');\n",
              "      quickchartButtonEl.disabled = true;  // To prevent multiple clicks.\n",
              "      quickchartButtonEl.classList.add('colab-df-spinner');\n",
              "      try {\n",
              "        const charts = await google.colab.kernel.invokeFunction(\n",
              "            'suggestCharts', [key], {});\n",
              "      } catch (error) {\n",
              "        console.error('Error during call to suggestCharts:', error);\n",
              "      }\n",
              "      quickchartButtonEl.classList.remove('colab-df-spinner');\n",
              "      quickchartButtonEl.classList.add('colab-df-quickchart-complete');\n",
              "    }\n",
              "    (() => {\n",
              "      let quickchartButtonEl =\n",
              "        document.querySelector('#df-ecaa4649-bc7e-4a65-b973-67f5c70a4e03 button');\n",
              "      quickchartButtonEl.style.display =\n",
              "        google.colab.kernel.accessAllowed ? 'block' : 'none';\n",
              "    })();\n",
              "  </script>\n",
              "</div>\n",
              "\n",
              "    </div>\n",
              "  </div>\n"
            ],
            "application/vnd.google.colaboratory.intrinsic+json": {
              "type": "dataframe",
              "summary": "{\n  \"name\": \"df\",\n  \"rows\": 6,\n  \"fields\": [\n    {\n      \"column\": \"Loan_ID\",\n      \"properties\": {\n        \"dtype\": \"string\",\n        \"num_unique_values\": 6,\n        \"samples\": [\n          \"LP002974\",\n          \"LP002978\",\n          \"LP002990\"\n        ],\n        \"semantic_type\": \"\",\n        \"description\": \"\"\n      }\n    },\n    {\n      \"column\": \"Gender\",\n      \"properties\": {\n        \"dtype\": \"category\",\n        \"num_unique_values\": 2,\n        \"samples\": [\n          \"Female\",\n          \"Male\"\n        ],\n        \"semantic_type\": \"\",\n        \"description\": \"\"\n      }\n    },\n    {\n      \"column\": \"Married\",\n      \"properties\": {\n        \"dtype\": \"category\",\n        \"num_unique_values\": 2,\n        \"samples\": [\n          \"No\",\n          \"Yes\"\n        ],\n        \"semantic_type\": \"\",\n        \"description\": \"\"\n      }\n    },\n    {\n      \"column\": \"Dependents\",\n      \"properties\": {\n        \"dtype\": \"string\",\n        \"num_unique_values\": 4,\n        \"samples\": [\n          \"3+\",\n          \"2\"\n        ],\n        \"semantic_type\": \"\",\n        \"description\": \"\"\n      }\n    },\n    {\n      \"column\": \"Education\",\n      \"properties\": {\n        \"dtype\": \"category\",\n        \"num_unique_values\": 1,\n        \"samples\": [\n          \"Graduate\"\n        ],\n        \"semantic_type\": \"\",\n        \"description\": \"\"\n      }\n    },\n    {\n      \"column\": \"Self_Employed\",\n      \"properties\": {\n        \"dtype\": \"category\",\n        \"num_unique_values\": 2,\n        \"samples\": [\n          \"Yes\"\n        ],\n        \"semantic_type\": \"\",\n        \"description\": \"\"\n      }\n    },\n    {\n      \"column\": \"ApplicantIncome\",\n      \"properties\": {\n        \"dtype\": \"number\",\n        \"std\": 2217,\n        \"min\": 2900,\n        \"max\": 8072,\n        \"num_unique_values\": 6,\n        \"samples\": [\n          3232\n        ],\n        \"semantic_type\": \"\",\n        \"description\": \"\"\n      }\n    },\n    {\n      \"column\": \"CoapplicantIncome\",\n      \"properties\": {\n        \"dtype\": \"number\",\n        \"std\": 782.4001533742181,\n        \"min\": 0.0,\n        \"max\": 1950.0,\n        \"num_unique_values\": 3,\n        \"samples\": [\n          1950.0\n        ],\n        \"semantic_type\": \"\",\n        \"description\": \"\"\n      }\n    },\n    {\n      \"column\": \"LoanAmount\",\n      \"properties\": {\n        \"dtype\": \"number\",\n        \"std\": 78.01025573602486,\n        \"min\": 40.0,\n        \"max\": 253.0,\n        \"num_unique_values\": 6,\n        \"samples\": [\n          108.0\n        ],\n        \"semantic_type\": \"\",\n        \"description\": \"\"\n      }\n    },\n    {\n      \"column\": \"Loan_Amount_Term\",\n      \"properties\": {\n        \"dtype\": \"number\",\n        \"std\": 73.48469228349535,\n        \"min\": 180.0,\n        \"max\": 360.0,\n        \"num_unique_values\": 2,\n        \"samples\": [\n          180.0\n        ],\n        \"semantic_type\": \"\",\n        \"description\": \"\"\n      }\n    },\n    {\n      \"column\": \"Credit_History\",\n      \"properties\": {\n        \"dtype\": \"number\",\n        \"std\": 0.408248290463863,\n        \"min\": 0.0,\n        \"max\": 1.0,\n        \"num_unique_values\": 2,\n        \"samples\": [\n          0.0\n        ],\n        \"semantic_type\": \"\",\n        \"description\": \"\"\n      }\n    },\n    {\n      \"column\": \"Property_Area\",\n      \"properties\": {\n        \"dtype\": \"string\",\n        \"num_unique_values\": 3,\n        \"samples\": [\n          \"Rural\"\n        ],\n        \"semantic_type\": \"\",\n        \"description\": \"\"\n      }\n    },\n    {\n      \"column\": \"Loan_Status\",\n      \"properties\": {\n        \"dtype\": \"category\",\n        \"num_unique_values\": 2,\n        \"samples\": [\n          \"N\"\n        ],\n        \"semantic_type\": \"\",\n        \"description\": \"\"\n      }\n    }\n  ]\n}"
            }
          },
          "metadata": {},
          "execution_count": 169
        }
      ],
      "source": [
        "df.tail(6)"
      ]
    },
    {
      "cell_type": "markdown",
      "metadata": {
        "id": "sS3UZWvT6xva"
      },
      "source": [
        "### How many rows and columns are in the dataset?\n"
      ]
    },
    {
      "cell_type": "code",
      "execution_count": null,
      "metadata": {
        "id": "kZAohyTzBCxv",
        "colab": {
          "base_uri": "https://localhost:8080/"
        },
        "outputId": "085334c8-844c-4d27-9421-0beffcde563d"
      },
      "outputs": [
        {
          "output_type": "stream",
          "name": "stdout",
          "text": [
            "<class 'pandas.core.frame.DataFrame'>\n",
            "RangeIndex: 614 entries, 0 to 613\n",
            "Data columns (total 13 columns):\n",
            " #   Column             Non-Null Count  Dtype  \n",
            "---  ------             --------------  -----  \n",
            " 0   Loan_ID            614 non-null    object \n",
            " 1   Gender             601 non-null    object \n",
            " 2   Married            611 non-null    object \n",
            " 3   Dependents         599 non-null    object \n",
            " 4   Education          614 non-null    object \n",
            " 5   Self_Employed      582 non-null    object \n",
            " 6   ApplicantIncome    614 non-null    int64  \n",
            " 7   CoapplicantIncome  614 non-null    float64\n",
            " 8   LoanAmount         592 non-null    float64\n",
            " 9   Loan_Amount_Term   600 non-null    float64\n",
            " 10  Credit_History     564 non-null    float64\n",
            " 11  Property_Area      614 non-null    object \n",
            " 12  Loan_Status        614 non-null    object \n",
            "dtypes: float64(4), int64(1), object(8)\n",
            "memory usage: 62.5+ KB\n"
          ]
        }
      ],
      "source": [
        "df.info() #way_1"
      ]
    },
    {
      "cell_type": "code",
      "execution_count": null,
      "metadata": {
        "id": "XwaJMjrEcNqO"
      },
      "outputs": [],
      "source": [
        "#Loan_Amount_Term      float64\n",
        "#Credit_History        float64\n",
        "\n",
        "#convert them to object type\n",
        "\n",
        "# Object\n",
        "# Nominal data: No specific order, like car colors.\n",
        "# Ordinal data: Has a specific order, like ranking or level (discrete).\n",
        "# Binary data : Accepts only two values (e.g., male, female); similar to nominal (discrete).\n",
        "\n"
      ]
    },
    {
      "cell_type": "code",
      "execution_count": null,
      "metadata": {
        "id": "4sDNqW-WjiPZ",
        "colab": {
          "base_uri": "https://localhost:8080/",
          "height": 54
        },
        "outputId": "dae6204d-9e5b-4870-c395-b3a3b7de1e38"
      },
      "outputs": [
        {
          "output_type": "execute_result",
          "data": {
            "text/plain": [
              "'Here, we are adding the round(0) function to avoid the error that\\noccurs when converting from float64 to int64\\nbecause we need to round the float numbers before converting them.'"
            ],
            "application/vnd.google.colaboratory.intrinsic+json": {
              "type": "string"
            }
          },
          "metadata": {},
          "execution_count": 172
        }
      ],
      "source": [
        "#To convert from float to int to string in the same step while keeping NaN values.\n",
        "df['Credit_History']=pd.to_numeric(df['Credit_History'],errors='coerce').round(0).astype('Int64').astype('string')\n",
        "\n",
        "\"\"\"Here, we are adding the round(0) function to avoid the error that\n",
        "occurs when converting from float64 to int64\n",
        "because we need to round the float numbers before converting them.\"\"\"\n",
        "\n",
        "#This code we can't use it if we have a mix data type"
      ]
    },
    {
      "cell_type": "code",
      "execution_count": null,
      "metadata": {
        "id": "NFPRDZxlkRxQ"
      },
      "outputs": [],
      "source": [
        "#convert the Loan_Amount_Term from mnthes to years\n",
        "df.rename(columns={'Loan_Amount_Term':'Loan_Amount_Year'},inplace=True)\n",
        "df['Loan_Amount_Year']=df['Loan_Amount_Year']/12\n",
        "\n",
        "df['Loan_Amount_Year']=pd.to_numeric(df['Loan_Amount_Year'],errors='coerce').round(0).astype('Int64').astype('string')"
      ]
    },
    {
      "cell_type": "code",
      "execution_count": null,
      "metadata": {
        "id": "Eg8m3PvgnWMb"
      },
      "outputs": [],
      "source": [
        "#using python replace all the values in 'Education'\n",
        "#'Graduate' change to 'G'\n",
        "#'Not Graduate' change to 'NG'\n",
        "\n",
        "len_1=len(df['Education'])\n",
        "for i in range(len_1):\n",
        "  if df['Education'][i]=='Graduate':\n",
        "      df['Education'][i]='G'\n",
        "  elif  df['Education'][i]=='Not Graduate':\n",
        "         df['Education'][i]='NG'"
      ]
    },
    {
      "cell_type": "code",
      "execution_count": null,
      "metadata": {
        "id": "xmzJFjMAn36p",
        "colab": {
          "base_uri": "https://localhost:8080/",
          "height": 226
        },
        "outputId": "de655e87-88cc-4c49-d57d-afd393344b88"
      },
      "outputs": [
        {
          "output_type": "execute_result",
          "data": {
            "text/plain": [
              "    Loan_ID Gender Married Dependents Education Self_Employed  \\\n",
              "0  LP001002      M      No          0         G            No   \n",
              "1  LP001003      M     Yes          1         G            No   \n",
              "2  LP001005      M     Yes          0         G           Yes   \n",
              "3  LP001006      M     Yes          0        NG            No   \n",
              "4  LP001008      M      No          0         G            No   \n",
              "\n",
              "   ApplicantIncome  CoapplicantIncome  LoanAmount Loan_Amount_Year  \\\n",
              "0             5849                0.0         NaN               30   \n",
              "1             4583             1508.0       128.0               30   \n",
              "2             3000                0.0        66.0               30   \n",
              "3             2583             2358.0       120.0               30   \n",
              "4             6000                0.0       141.0               30   \n",
              "\n",
              "  Credit_History Property_Area Loan_Status  \n",
              "0              1         Urban           Y  \n",
              "1              1         Rural           N  \n",
              "2              1         Urban           Y  \n",
              "3              1         Urban           Y  \n",
              "4              1         Urban           Y  "
            ],
            "text/html": [
              "\n",
              "  <div id=\"df-12adbcf5-038f-45a9-828c-04dca6c9bce7\" class=\"colab-df-container\">\n",
              "    <div>\n",
              "<style scoped>\n",
              "    .dataframe tbody tr th:only-of-type {\n",
              "        vertical-align: middle;\n",
              "    }\n",
              "\n",
              "    .dataframe tbody tr th {\n",
              "        vertical-align: top;\n",
              "    }\n",
              "\n",
              "    .dataframe thead th {\n",
              "        text-align: right;\n",
              "    }\n",
              "</style>\n",
              "<table border=\"1\" class=\"dataframe\">\n",
              "  <thead>\n",
              "    <tr style=\"text-align: right;\">\n",
              "      <th></th>\n",
              "      <th>Loan_ID</th>\n",
              "      <th>Gender</th>\n",
              "      <th>Married</th>\n",
              "      <th>Dependents</th>\n",
              "      <th>Education</th>\n",
              "      <th>Self_Employed</th>\n",
              "      <th>ApplicantIncome</th>\n",
              "      <th>CoapplicantIncome</th>\n",
              "      <th>LoanAmount</th>\n",
              "      <th>Loan_Amount_Year</th>\n",
              "      <th>Credit_History</th>\n",
              "      <th>Property_Area</th>\n",
              "      <th>Loan_Status</th>\n",
              "    </tr>\n",
              "  </thead>\n",
              "  <tbody>\n",
              "    <tr>\n",
              "      <th>0</th>\n",
              "      <td>LP001002</td>\n",
              "      <td>M</td>\n",
              "      <td>No</td>\n",
              "      <td>0</td>\n",
              "      <td>G</td>\n",
              "      <td>No</td>\n",
              "      <td>5849</td>\n",
              "      <td>0.0</td>\n",
              "      <td>NaN</td>\n",
              "      <td>30</td>\n",
              "      <td>1</td>\n",
              "      <td>Urban</td>\n",
              "      <td>Y</td>\n",
              "    </tr>\n",
              "    <tr>\n",
              "      <th>1</th>\n",
              "      <td>LP001003</td>\n",
              "      <td>M</td>\n",
              "      <td>Yes</td>\n",
              "      <td>1</td>\n",
              "      <td>G</td>\n",
              "      <td>No</td>\n",
              "      <td>4583</td>\n",
              "      <td>1508.0</td>\n",
              "      <td>128.0</td>\n",
              "      <td>30</td>\n",
              "      <td>1</td>\n",
              "      <td>Rural</td>\n",
              "      <td>N</td>\n",
              "    </tr>\n",
              "    <tr>\n",
              "      <th>2</th>\n",
              "      <td>LP001005</td>\n",
              "      <td>M</td>\n",
              "      <td>Yes</td>\n",
              "      <td>0</td>\n",
              "      <td>G</td>\n",
              "      <td>Yes</td>\n",
              "      <td>3000</td>\n",
              "      <td>0.0</td>\n",
              "      <td>66.0</td>\n",
              "      <td>30</td>\n",
              "      <td>1</td>\n",
              "      <td>Urban</td>\n",
              "      <td>Y</td>\n",
              "    </tr>\n",
              "    <tr>\n",
              "      <th>3</th>\n",
              "      <td>LP001006</td>\n",
              "      <td>M</td>\n",
              "      <td>Yes</td>\n",
              "      <td>0</td>\n",
              "      <td>NG</td>\n",
              "      <td>No</td>\n",
              "      <td>2583</td>\n",
              "      <td>2358.0</td>\n",
              "      <td>120.0</td>\n",
              "      <td>30</td>\n",
              "      <td>1</td>\n",
              "      <td>Urban</td>\n",
              "      <td>Y</td>\n",
              "    </tr>\n",
              "    <tr>\n",
              "      <th>4</th>\n",
              "      <td>LP001008</td>\n",
              "      <td>M</td>\n",
              "      <td>No</td>\n",
              "      <td>0</td>\n",
              "      <td>G</td>\n",
              "      <td>No</td>\n",
              "      <td>6000</td>\n",
              "      <td>0.0</td>\n",
              "      <td>141.0</td>\n",
              "      <td>30</td>\n",
              "      <td>1</td>\n",
              "      <td>Urban</td>\n",
              "      <td>Y</td>\n",
              "    </tr>\n",
              "  </tbody>\n",
              "</table>\n",
              "</div>\n",
              "    <div class=\"colab-df-buttons\">\n",
              "\n",
              "  <div class=\"colab-df-container\">\n",
              "    <button class=\"colab-df-convert\" onclick=\"convertToInteractive('df-12adbcf5-038f-45a9-828c-04dca6c9bce7')\"\n",
              "            title=\"Convert this dataframe to an interactive table.\"\n",
              "            style=\"display:none;\">\n",
              "\n",
              "  <svg xmlns=\"http://www.w3.org/2000/svg\" height=\"24px\" viewBox=\"0 -960 960 960\">\n",
              "    <path d=\"M120-120v-720h720v720H120Zm60-500h600v-160H180v160Zm220 220h160v-160H400v160Zm0 220h160v-160H400v160ZM180-400h160v-160H180v160Zm440 0h160v-160H620v160ZM180-180h160v-160H180v160Zm440 0h160v-160H620v160Z\"/>\n",
              "  </svg>\n",
              "    </button>\n",
              "\n",
              "  <style>\n",
              "    .colab-df-container {\n",
              "      display:flex;\n",
              "      gap: 12px;\n",
              "    }\n",
              "\n",
              "    .colab-df-convert {\n",
              "      background-color: #E8F0FE;\n",
              "      border: none;\n",
              "      border-radius: 50%;\n",
              "      cursor: pointer;\n",
              "      display: none;\n",
              "      fill: #1967D2;\n",
              "      height: 32px;\n",
              "      padding: 0 0 0 0;\n",
              "      width: 32px;\n",
              "    }\n",
              "\n",
              "    .colab-df-convert:hover {\n",
              "      background-color: #E2EBFA;\n",
              "      box-shadow: 0px 1px 2px rgba(60, 64, 67, 0.3), 0px 1px 3px 1px rgba(60, 64, 67, 0.15);\n",
              "      fill: #174EA6;\n",
              "    }\n",
              "\n",
              "    .colab-df-buttons div {\n",
              "      margin-bottom: 4px;\n",
              "    }\n",
              "\n",
              "    [theme=dark] .colab-df-convert {\n",
              "      background-color: #3B4455;\n",
              "      fill: #D2E3FC;\n",
              "    }\n",
              "\n",
              "    [theme=dark] .colab-df-convert:hover {\n",
              "      background-color: #434B5C;\n",
              "      box-shadow: 0px 1px 3px 1px rgba(0, 0, 0, 0.15);\n",
              "      filter: drop-shadow(0px 1px 2px rgba(0, 0, 0, 0.3));\n",
              "      fill: #FFFFFF;\n",
              "    }\n",
              "  </style>\n",
              "\n",
              "    <script>\n",
              "      const buttonEl =\n",
              "        document.querySelector('#df-12adbcf5-038f-45a9-828c-04dca6c9bce7 button.colab-df-convert');\n",
              "      buttonEl.style.display =\n",
              "        google.colab.kernel.accessAllowed ? 'block' : 'none';\n",
              "\n",
              "      async function convertToInteractive(key) {\n",
              "        const element = document.querySelector('#df-12adbcf5-038f-45a9-828c-04dca6c9bce7');\n",
              "        const dataTable =\n",
              "          await google.colab.kernel.invokeFunction('convertToInteractive',\n",
              "                                                    [key], {});\n",
              "        if (!dataTable) return;\n",
              "\n",
              "        const docLinkHtml = 'Like what you see? Visit the ' +\n",
              "          '<a target=\"_blank\" href=https://colab.research.google.com/notebooks/data_table.ipynb>data table notebook</a>'\n",
              "          + ' to learn more about interactive tables.';\n",
              "        element.innerHTML = '';\n",
              "        dataTable['output_type'] = 'display_data';\n",
              "        await google.colab.output.renderOutput(dataTable, element);\n",
              "        const docLink = document.createElement('div');\n",
              "        docLink.innerHTML = docLinkHtml;\n",
              "        element.appendChild(docLink);\n",
              "      }\n",
              "    </script>\n",
              "  </div>\n",
              "\n",
              "\n",
              "<div id=\"df-54b26701-4202-4996-8018-6d8edeb054e7\">\n",
              "  <button class=\"colab-df-quickchart\" onclick=\"quickchart('df-54b26701-4202-4996-8018-6d8edeb054e7')\"\n",
              "            title=\"Suggest charts\"\n",
              "            style=\"display:none;\">\n",
              "\n",
              "<svg xmlns=\"http://www.w3.org/2000/svg\" height=\"24px\"viewBox=\"0 0 24 24\"\n",
              "     width=\"24px\">\n",
              "    <g>\n",
              "        <path d=\"M19 3H5c-1.1 0-2 .9-2 2v14c0 1.1.9 2 2 2h14c1.1 0 2-.9 2-2V5c0-1.1-.9-2-2-2zM9 17H7v-7h2v7zm4 0h-2V7h2v10zm4 0h-2v-4h2v4z\"/>\n",
              "    </g>\n",
              "</svg>\n",
              "  </button>\n",
              "\n",
              "<style>\n",
              "  .colab-df-quickchart {\n",
              "      --bg-color: #E8F0FE;\n",
              "      --fill-color: #1967D2;\n",
              "      --hover-bg-color: #E2EBFA;\n",
              "      --hover-fill-color: #174EA6;\n",
              "      --disabled-fill-color: #AAA;\n",
              "      --disabled-bg-color: #DDD;\n",
              "  }\n",
              "\n",
              "  [theme=dark] .colab-df-quickchart {\n",
              "      --bg-color: #3B4455;\n",
              "      --fill-color: #D2E3FC;\n",
              "      --hover-bg-color: #434B5C;\n",
              "      --hover-fill-color: #FFFFFF;\n",
              "      --disabled-bg-color: #3B4455;\n",
              "      --disabled-fill-color: #666;\n",
              "  }\n",
              "\n",
              "  .colab-df-quickchart {\n",
              "    background-color: var(--bg-color);\n",
              "    border: none;\n",
              "    border-radius: 50%;\n",
              "    cursor: pointer;\n",
              "    display: none;\n",
              "    fill: var(--fill-color);\n",
              "    height: 32px;\n",
              "    padding: 0;\n",
              "    width: 32px;\n",
              "  }\n",
              "\n",
              "  .colab-df-quickchart:hover {\n",
              "    background-color: var(--hover-bg-color);\n",
              "    box-shadow: 0 1px 2px rgba(60, 64, 67, 0.3), 0 1px 3px 1px rgba(60, 64, 67, 0.15);\n",
              "    fill: var(--button-hover-fill-color);\n",
              "  }\n",
              "\n",
              "  .colab-df-quickchart-complete:disabled,\n",
              "  .colab-df-quickchart-complete:disabled:hover {\n",
              "    background-color: var(--disabled-bg-color);\n",
              "    fill: var(--disabled-fill-color);\n",
              "    box-shadow: none;\n",
              "  }\n",
              "\n",
              "  .colab-df-spinner {\n",
              "    border: 2px solid var(--fill-color);\n",
              "    border-color: transparent;\n",
              "    border-bottom-color: var(--fill-color);\n",
              "    animation:\n",
              "      spin 1s steps(1) infinite;\n",
              "  }\n",
              "\n",
              "  @keyframes spin {\n",
              "    0% {\n",
              "      border-color: transparent;\n",
              "      border-bottom-color: var(--fill-color);\n",
              "      border-left-color: var(--fill-color);\n",
              "    }\n",
              "    20% {\n",
              "      border-color: transparent;\n",
              "      border-left-color: var(--fill-color);\n",
              "      border-top-color: var(--fill-color);\n",
              "    }\n",
              "    30% {\n",
              "      border-color: transparent;\n",
              "      border-left-color: var(--fill-color);\n",
              "      border-top-color: var(--fill-color);\n",
              "      border-right-color: var(--fill-color);\n",
              "    }\n",
              "    40% {\n",
              "      border-color: transparent;\n",
              "      border-right-color: var(--fill-color);\n",
              "      border-top-color: var(--fill-color);\n",
              "    }\n",
              "    60% {\n",
              "      border-color: transparent;\n",
              "      border-right-color: var(--fill-color);\n",
              "    }\n",
              "    80% {\n",
              "      border-color: transparent;\n",
              "      border-right-color: var(--fill-color);\n",
              "      border-bottom-color: var(--fill-color);\n",
              "    }\n",
              "    90% {\n",
              "      border-color: transparent;\n",
              "      border-bottom-color: var(--fill-color);\n",
              "    }\n",
              "  }\n",
              "</style>\n",
              "\n",
              "  <script>\n",
              "    async function quickchart(key) {\n",
              "      const quickchartButtonEl =\n",
              "        document.querySelector('#' + key + ' button');\n",
              "      quickchartButtonEl.disabled = true;  // To prevent multiple clicks.\n",
              "      quickchartButtonEl.classList.add('colab-df-spinner');\n",
              "      try {\n",
              "        const charts = await google.colab.kernel.invokeFunction(\n",
              "            'suggestCharts', [key], {});\n",
              "      } catch (error) {\n",
              "        console.error('Error during call to suggestCharts:', error);\n",
              "      }\n",
              "      quickchartButtonEl.classList.remove('colab-df-spinner');\n",
              "      quickchartButtonEl.classList.add('colab-df-quickchart-complete');\n",
              "    }\n",
              "    (() => {\n",
              "      let quickchartButtonEl =\n",
              "        document.querySelector('#df-54b26701-4202-4996-8018-6d8edeb054e7 button');\n",
              "      quickchartButtonEl.style.display =\n",
              "        google.colab.kernel.accessAllowed ? 'block' : 'none';\n",
              "    })();\n",
              "  </script>\n",
              "</div>\n",
              "\n",
              "    </div>\n",
              "  </div>\n"
            ],
            "application/vnd.google.colaboratory.intrinsic+json": {
              "type": "dataframe",
              "variable_name": "df",
              "summary": "{\n  \"name\": \"df\",\n  \"rows\": 614,\n  \"fields\": [\n    {\n      \"column\": \"Loan_ID\",\n      \"properties\": {\n        \"dtype\": \"string\",\n        \"num_unique_values\": 614,\n        \"samples\": [\n          \"LP002139\",\n          \"LP002223\",\n          \"LP001570\"\n        ],\n        \"semantic_type\": \"\",\n        \"description\": \"\"\n      }\n    },\n    {\n      \"column\": \"Gender\",\n      \"properties\": {\n        \"dtype\": \"category\",\n        \"num_unique_values\": 2,\n        \"samples\": [\n          \"F\",\n          \"M\"\n        ],\n        \"semantic_type\": \"\",\n        \"description\": \"\"\n      }\n    },\n    {\n      \"column\": \"Married\",\n      \"properties\": {\n        \"dtype\": \"category\",\n        \"num_unique_values\": 2,\n        \"samples\": [\n          \"Yes\",\n          \"No\"\n        ],\n        \"semantic_type\": \"\",\n        \"description\": \"\"\n      }\n    },\n    {\n      \"column\": \"Dependents\",\n      \"properties\": {\n        \"dtype\": \"category\",\n        \"num_unique_values\": 4,\n        \"samples\": [\n          \"1\",\n          \"3+\"\n        ],\n        \"semantic_type\": \"\",\n        \"description\": \"\"\n      }\n    },\n    {\n      \"column\": \"Education\",\n      \"properties\": {\n        \"dtype\": \"category\",\n        \"num_unique_values\": 2,\n        \"samples\": [\n          \"NG\",\n          \"G\"\n        ],\n        \"semantic_type\": \"\",\n        \"description\": \"\"\n      }\n    },\n    {\n      \"column\": \"Self_Employed\",\n      \"properties\": {\n        \"dtype\": \"category\",\n        \"num_unique_values\": 2,\n        \"samples\": [\n          \"Yes\",\n          \"No\"\n        ],\n        \"semantic_type\": \"\",\n        \"description\": \"\"\n      }\n    },\n    {\n      \"column\": \"ApplicantIncome\",\n      \"properties\": {\n        \"dtype\": \"number\",\n        \"std\": 6109,\n        \"min\": 150,\n        \"max\": 81000,\n        \"num_unique_values\": 505,\n        \"samples\": [\n          8333,\n          4342\n        ],\n        \"semantic_type\": \"\",\n        \"description\": \"\"\n      }\n    },\n    {\n      \"column\": \"CoapplicantIncome\",\n      \"properties\": {\n        \"dtype\": \"number\",\n        \"std\": 2926.2483692241917,\n        \"min\": 0.0,\n        \"max\": 41667.0,\n        \"num_unique_values\": 287,\n        \"samples\": [\n          1840.0,\n          2042.0\n        ],\n        \"semantic_type\": \"\",\n        \"description\": \"\"\n      }\n    },\n    {\n      \"column\": \"LoanAmount\",\n      \"properties\": {\n        \"dtype\": \"number\",\n        \"std\": 85.58732523570545,\n        \"min\": 9.0,\n        \"max\": 700.0,\n        \"num_unique_values\": 203,\n        \"samples\": [\n          100.0,\n          70.0\n        ],\n        \"semantic_type\": \"\",\n        \"description\": \"\"\n      }\n    },\n    {\n      \"column\": \"Loan_Amount_Year\",\n      \"properties\": {\n        \"dtype\": \"string\",\n        \"num_unique_values\": 10,\n        \"samples\": [\n          \"7\",\n          \"10\"\n        ],\n        \"semantic_type\": \"\",\n        \"description\": \"\"\n      }\n    },\n    {\n      \"column\": \"Credit_History\",\n      \"properties\": {\n        \"dtype\": \"string\",\n        \"num_unique_values\": 2,\n        \"samples\": [\n          \"0\",\n          \"1\"\n        ],\n        \"semantic_type\": \"\",\n        \"description\": \"\"\n      }\n    },\n    {\n      \"column\": \"Property_Area\",\n      \"properties\": {\n        \"dtype\": \"category\",\n        \"num_unique_values\": 3,\n        \"samples\": [\n          \"Urban\",\n          \"Rural\"\n        ],\n        \"semantic_type\": \"\",\n        \"description\": \"\"\n      }\n    },\n    {\n      \"column\": \"Loan_Status\",\n      \"properties\": {\n        \"dtype\": \"category\",\n        \"num_unique_values\": 2,\n        \"samples\": [\n          \"N\",\n          \"Y\"\n        ],\n        \"semantic_type\": \"\",\n        \"description\": \"\"\n      }\n    }\n  ]\n}"
            }
          },
          "metadata": {},
          "execution_count": 175
        }
      ],
      "source": [
        "# using pandas to  replace all values in 'Gender'\n",
        "#'Male change to M'\n",
        "#'Female change to F'\n",
        "# in this case we are using map function\n",
        "\n",
        "cat_map={'Male':'M','Female':'F'}\n",
        "df['Gender']=df_copy['Gender'].map(cat_map)\n",
        "df.head()"
      ]
    },
    {
      "cell_type": "code",
      "execution_count": null,
      "metadata": {
        "id": "e0b0Y12DS-kG"
      },
      "outputs": [],
      "source": [
        "#rename the coulumn name\n",
        "# we will rename  two columns (ApplicantIncome\t, CoapplicantIncome) ti (AI,CAI)\n",
        "df.rename(columns={'ApplicantIncome':'AI','CoapplicantIncome':'CAI'},inplace=True)"
      ]
    },
    {
      "cell_type": "code",
      "execution_count": null,
      "metadata": {
        "id": "JiugigLfTnxs"
      },
      "outputs": [],
      "source": [
        "#Drop the column we use the drop function there is anothe atrupete function is inplace=True to update the data\n",
        "df.drop(columns=['Loan_ID'],inplace=True)"
      ]
    },
    {
      "cell_type": "markdown",
      "metadata": {
        "id": "k9E9lZoS6xva"
      },
      "source": [
        "### Count the total number of missing values in the dataset.\n"
      ]
    },
    {
      "cell_type": "code",
      "execution_count": null,
      "metadata": {
        "id": "42dtV-tqDFWD",
        "colab": {
          "base_uri": "https://localhost:8080/",
          "height": 460
        },
        "outputId": "5d631e28-a804-4138-8a7e-45d599e1c654"
      },
      "outputs": [
        {
          "output_type": "execute_result",
          "data": {
            "text/plain": [
              "Gender              13\n",
              "Married              3\n",
              "Dependents          15\n",
              "Education            0\n",
              "Self_Employed       32\n",
              "AI                   0\n",
              "CAI                  0\n",
              "LoanAmount          22\n",
              "Loan_Amount_Year    14\n",
              "Credit_History      50\n",
              "Property_Area        0\n",
              "Loan_Status          0\n",
              "dtype: int64"
            ],
            "text/html": [
              "<div>\n",
              "<style scoped>\n",
              "    .dataframe tbody tr th:only-of-type {\n",
              "        vertical-align: middle;\n",
              "    }\n",
              "\n",
              "    .dataframe tbody tr th {\n",
              "        vertical-align: top;\n",
              "    }\n",
              "\n",
              "    .dataframe thead th {\n",
              "        text-align: right;\n",
              "    }\n",
              "</style>\n",
              "<table border=\"1\" class=\"dataframe\">\n",
              "  <thead>\n",
              "    <tr style=\"text-align: right;\">\n",
              "      <th></th>\n",
              "      <th>0</th>\n",
              "    </tr>\n",
              "  </thead>\n",
              "  <tbody>\n",
              "    <tr>\n",
              "      <th>Gender</th>\n",
              "      <td>13</td>\n",
              "    </tr>\n",
              "    <tr>\n",
              "      <th>Married</th>\n",
              "      <td>3</td>\n",
              "    </tr>\n",
              "    <tr>\n",
              "      <th>Dependents</th>\n",
              "      <td>15</td>\n",
              "    </tr>\n",
              "    <tr>\n",
              "      <th>Education</th>\n",
              "      <td>0</td>\n",
              "    </tr>\n",
              "    <tr>\n",
              "      <th>Self_Employed</th>\n",
              "      <td>32</td>\n",
              "    </tr>\n",
              "    <tr>\n",
              "      <th>AI</th>\n",
              "      <td>0</td>\n",
              "    </tr>\n",
              "    <tr>\n",
              "      <th>CAI</th>\n",
              "      <td>0</td>\n",
              "    </tr>\n",
              "    <tr>\n",
              "      <th>LoanAmount</th>\n",
              "      <td>22</td>\n",
              "    </tr>\n",
              "    <tr>\n",
              "      <th>Loan_Amount_Year</th>\n",
              "      <td>14</td>\n",
              "    </tr>\n",
              "    <tr>\n",
              "      <th>Credit_History</th>\n",
              "      <td>50</td>\n",
              "    </tr>\n",
              "    <tr>\n",
              "      <th>Property_Area</th>\n",
              "      <td>0</td>\n",
              "    </tr>\n",
              "    <tr>\n",
              "      <th>Loan_Status</th>\n",
              "      <td>0</td>\n",
              "    </tr>\n",
              "  </tbody>\n",
              "</table>\n",
              "</div><br><label><b>dtype:</b> int64</label>"
            ]
          },
          "metadata": {},
          "execution_count": 178
        }
      ],
      "source": [
        "df.isnull().sum()"
      ]
    },
    {
      "cell_type": "code",
      "execution_count": null,
      "metadata": {
        "id": "vBDaxYmjSUDg",
        "colab": {
          "base_uri": "https://localhost:8080/",
          "height": 72
        },
        "outputId": "f16528a7-7291-4297-8431-8436ec235213"
      },
      "outputs": [
        {
          "output_type": "execute_result",
          "data": {
            "text/plain": [
              "'If you are training a customer classification model and the same customer appears ten times,\\nthe model may overestimate their importance,leading to inaccurate results.\\nThis issue can also occur with certain features.\\nWhile duplication in analysis may not always be removed,\\nit can be addressed in machine learning to improve accuracy'"
            ],
            "application/vnd.google.colaboratory.intrinsic+json": {
              "type": "string"
            }
          },
          "metadata": {},
          "execution_count": 179
        }
      ],
      "source": [
        "# Duplicate\n",
        "\"\"\"If you are training a customer classification model and the same customer appears ten times,\n",
        "the model may overestimate their importance,leading to inaccurate results.\n",
        "This issue can also occur with certain features.\n",
        "While duplication in analysis may not always be removed,\n",
        "it can be addressed in machine learning to improve accuracy\"\"\""
      ]
    },
    {
      "cell_type": "code",
      "execution_count": null,
      "metadata": {
        "id": "F9TAQ15ySg5e",
        "colab": {
          "base_uri": "https://localhost:8080/"
        },
        "outputId": "04f01af7-dfb1-43f0-a018-4409224c7f00"
      },
      "outputs": [
        {
          "output_type": "execute_result",
          "data": {
            "text/plain": [
              "np.int64(0)"
            ]
          },
          "metadata": {},
          "execution_count": 180
        }
      ],
      "source": [
        "df.duplicated().sum()# the data is clean"
      ]
    },
    {
      "cell_type": "code",
      "execution_count": null,
      "metadata": {
        "id": "WkJDrQXuH0M2",
        "colab": {
          "base_uri": "https://localhost:8080/"
        },
        "outputId": "4087796c-bd5a-4b91-d7ec-e54441ae0333"
      },
      "outputs": [
        {
          "output_type": "execute_result",
          "data": {
            "text/plain": [
              "Index(['Gender', 'Married', 'Dependents', 'Education', 'Self_Employed', 'AI',\n",
              "       'CAI', 'LoanAmount', 'Loan_Amount_Year', 'Credit_History',\n",
              "       'Property_Area', 'Loan_Status'],\n",
              "      dtype='object')"
            ]
          },
          "metadata": {},
          "execution_count": 181
        }
      ],
      "source": [
        "df.columns  #to now the columns name\n"
      ]
    },
    {
      "cell_type": "markdown",
      "metadata": {
        "id": "rWvrBhIO6xva"
      },
      "source": [
        "### What is the average loan amount?"
      ]
    },
    {
      "cell_type": "code",
      "execution_count": null,
      "metadata": {
        "id": "xqsABhOYLK9U",
        "colab": {
          "base_uri": "https://localhost:8080/"
        },
        "outputId": "649d64d5-2efb-44fd-f6f2-4fae4ba301c4"
      },
      "outputs": [
        {
          "output_type": "execute_result",
          "data": {
            "text/plain": [
              "np.float64(146.41216216216216)"
            ]
          },
          "metadata": {},
          "execution_count": 182
        }
      ],
      "source": [
        "df['LoanAmount'].mean()"
      ]
    },
    {
      "cell_type": "code",
      "execution_count": null,
      "metadata": {
        "id": "XkACU8K6DXNu",
        "colab": {
          "base_uri": "https://localhost:8080/"
        },
        "outputId": "5e7b4c2c-5c31-4ff1-b7a8-656557726d74"
      },
      "outputs": [
        {
          "output_type": "execute_result",
          "data": {
            "text/plain": [
              "128.0"
            ]
          },
          "metadata": {},
          "execution_count": 183
        }
      ],
      "source": [
        "#median\n",
        "df['LoanAmount'].median()"
      ]
    },
    {
      "cell_type": "markdown",
      "metadata": {
        "id": "orKqp1946xva"
      },
      "source": [
        "###  What are the highest and lowest loan amounts?\n",
        "\n"
      ]
    },
    {
      "cell_type": "code",
      "execution_count": null,
      "metadata": {
        "id": "rSOdYTn1XgUV",
        "colab": {
          "base_uri": "https://localhost:8080/"
        },
        "outputId": "c35b5bec-60dc-4071-b1ad-828cb0297678"
      },
      "outputs": [
        {
          "output_type": "stream",
          "name": "stdout",
          "text": [
            "max: 700.0 min : 9.0\n"
          ]
        }
      ],
      "source": [
        "LoanAmount_max=df['LoanAmount'].max()\n",
        "LoanAmount_min=df['LoanAmount'].min()\n",
        "print('max:',LoanAmount_max,'min :',LoanAmount_min)\n",
        "#The minimum loan amount is unrealistic."
      ]
    },
    {
      "cell_type": "code",
      "execution_count": null,
      "metadata": {
        "id": "Qf-LLsDeG_TD",
        "colab": {
          "base_uri": "https://localhost:8080/",
          "height": 115
        },
        "outputId": "89b8546e-079c-4b10-9bc7-1138b0d59170"
      },
      "outputs": [
        {
          "output_type": "execute_result",
          "data": {
            "text/plain": [
              "171    Y\n",
              "Name: Loan_Status, dtype: object"
            ],
            "text/html": [
              "<div>\n",
              "<style scoped>\n",
              "    .dataframe tbody tr th:only-of-type {\n",
              "        vertical-align: middle;\n",
              "    }\n",
              "\n",
              "    .dataframe tbody tr th {\n",
              "        vertical-align: top;\n",
              "    }\n",
              "\n",
              "    .dataframe thead th {\n",
              "        text-align: right;\n",
              "    }\n",
              "</style>\n",
              "<table border=\"1\" class=\"dataframe\">\n",
              "  <thead>\n",
              "    <tr style=\"text-align: right;\">\n",
              "      <th></th>\n",
              "      <th>Loan_Status</th>\n",
              "    </tr>\n",
              "  </thead>\n",
              "  <tbody>\n",
              "    <tr>\n",
              "      <th>171</th>\n",
              "      <td>Y</td>\n",
              "    </tr>\n",
              "  </tbody>\n",
              "</table>\n",
              "</div><br><label><b>dtype:</b> object</label>"
            ]
          },
          "metadata": {},
          "execution_count": 185
        }
      ],
      "source": [
        "df[df['LoanAmount']==700]['Loan_Status']"
      ]
    },
    {
      "cell_type": "code",
      "execution_count": null,
      "metadata": {
        "id": "FvQkHetlHIM8",
        "colab": {
          "base_uri": "https://localhost:8080/",
          "height": 115
        },
        "outputId": "18c89c0d-9b45-4748-94aa-13134c14068e"
      },
      "outputs": [
        {
          "output_type": "execute_result",
          "data": {
            "text/plain": [
              "568    N\n",
              "Name: Loan_Status, dtype: object"
            ],
            "text/html": [
              "<div>\n",
              "<style scoped>\n",
              "    .dataframe tbody tr th:only-of-type {\n",
              "        vertical-align: middle;\n",
              "    }\n",
              "\n",
              "    .dataframe tbody tr th {\n",
              "        vertical-align: top;\n",
              "    }\n",
              "\n",
              "    .dataframe thead th {\n",
              "        text-align: right;\n",
              "    }\n",
              "</style>\n",
              "<table border=\"1\" class=\"dataframe\">\n",
              "  <thead>\n",
              "    <tr style=\"text-align: right;\">\n",
              "      <th></th>\n",
              "      <th>Loan_Status</th>\n",
              "    </tr>\n",
              "  </thead>\n",
              "  <tbody>\n",
              "    <tr>\n",
              "      <th>568</th>\n",
              "      <td>N</td>\n",
              "    </tr>\n",
              "  </tbody>\n",
              "</table>\n",
              "</div><br><label><b>dtype:</b> object</label>"
            ]
          },
          "metadata": {},
          "execution_count": 186
        }
      ],
      "source": [
        "df[df['LoanAmount']==9]['Loan_Status']"
      ]
    },
    {
      "cell_type": "code",
      "execution_count": null,
      "metadata": {
        "id": "XZY-KcRtHaJi"
      },
      "outputs": [],
      "source": [
        "#The highest loan amount was approved, while the lowest was rejected"
      ]
    },
    {
      "cell_type": "code",
      "execution_count": null,
      "metadata": {
        "id": "-6HrQlIAJogL",
        "colab": {
          "base_uri": "https://localhost:8080/",
          "height": 100
        },
        "outputId": "0c9006ba-2446-4e21-b6c1-32974d24ccf7"
      },
      "outputs": [
        {
          "output_type": "execute_result",
          "data": {
            "text/plain": [
              "    Gender Married Dependents Education Self_Employed     AI  CAI  LoanAmount  \\\n",
              "171    NaN     Yes         3+         G            No  51763  0.0       700.0   \n",
              "\n",
              "    Loan_Amount_Year Credit_History Property_Area Loan_Status  \n",
              "171               25              1         Urban           Y  "
            ],
            "text/html": [
              "\n",
              "  <div id=\"df-be0a3595-a5d2-49f9-94c1-5d54dfb2e55c\" class=\"colab-df-container\">\n",
              "    <div>\n",
              "<style scoped>\n",
              "    .dataframe tbody tr th:only-of-type {\n",
              "        vertical-align: middle;\n",
              "    }\n",
              "\n",
              "    .dataframe tbody tr th {\n",
              "        vertical-align: top;\n",
              "    }\n",
              "\n",
              "    .dataframe thead th {\n",
              "        text-align: right;\n",
              "    }\n",
              "</style>\n",
              "<table border=\"1\" class=\"dataframe\">\n",
              "  <thead>\n",
              "    <tr style=\"text-align: right;\">\n",
              "      <th></th>\n",
              "      <th>Gender</th>\n",
              "      <th>Married</th>\n",
              "      <th>Dependents</th>\n",
              "      <th>Education</th>\n",
              "      <th>Self_Employed</th>\n",
              "      <th>AI</th>\n",
              "      <th>CAI</th>\n",
              "      <th>LoanAmount</th>\n",
              "      <th>Loan_Amount_Year</th>\n",
              "      <th>Credit_History</th>\n",
              "      <th>Property_Area</th>\n",
              "      <th>Loan_Status</th>\n",
              "    </tr>\n",
              "  </thead>\n",
              "  <tbody>\n",
              "    <tr>\n",
              "      <th>171</th>\n",
              "      <td>NaN</td>\n",
              "      <td>Yes</td>\n",
              "      <td>3+</td>\n",
              "      <td>G</td>\n",
              "      <td>No</td>\n",
              "      <td>51763</td>\n",
              "      <td>0.0</td>\n",
              "      <td>700.0</td>\n",
              "      <td>25</td>\n",
              "      <td>1</td>\n",
              "      <td>Urban</td>\n",
              "      <td>Y</td>\n",
              "    </tr>\n",
              "  </tbody>\n",
              "</table>\n",
              "</div>\n",
              "    <div class=\"colab-df-buttons\">\n",
              "\n",
              "  <div class=\"colab-df-container\">\n",
              "    <button class=\"colab-df-convert\" onclick=\"convertToInteractive('df-be0a3595-a5d2-49f9-94c1-5d54dfb2e55c')\"\n",
              "            title=\"Convert this dataframe to an interactive table.\"\n",
              "            style=\"display:none;\">\n",
              "\n",
              "  <svg xmlns=\"http://www.w3.org/2000/svg\" height=\"24px\" viewBox=\"0 -960 960 960\">\n",
              "    <path d=\"M120-120v-720h720v720H120Zm60-500h600v-160H180v160Zm220 220h160v-160H400v160Zm0 220h160v-160H400v160ZM180-400h160v-160H180v160Zm440 0h160v-160H620v160ZM180-180h160v-160H180v160Zm440 0h160v-160H620v160Z\"/>\n",
              "  </svg>\n",
              "    </button>\n",
              "\n",
              "  <style>\n",
              "    .colab-df-container {\n",
              "      display:flex;\n",
              "      gap: 12px;\n",
              "    }\n",
              "\n",
              "    .colab-df-convert {\n",
              "      background-color: #E8F0FE;\n",
              "      border: none;\n",
              "      border-radius: 50%;\n",
              "      cursor: pointer;\n",
              "      display: none;\n",
              "      fill: #1967D2;\n",
              "      height: 32px;\n",
              "      padding: 0 0 0 0;\n",
              "      width: 32px;\n",
              "    }\n",
              "\n",
              "    .colab-df-convert:hover {\n",
              "      background-color: #E2EBFA;\n",
              "      box-shadow: 0px 1px 2px rgba(60, 64, 67, 0.3), 0px 1px 3px 1px rgba(60, 64, 67, 0.15);\n",
              "      fill: #174EA6;\n",
              "    }\n",
              "\n",
              "    .colab-df-buttons div {\n",
              "      margin-bottom: 4px;\n",
              "    }\n",
              "\n",
              "    [theme=dark] .colab-df-convert {\n",
              "      background-color: #3B4455;\n",
              "      fill: #D2E3FC;\n",
              "    }\n",
              "\n",
              "    [theme=dark] .colab-df-convert:hover {\n",
              "      background-color: #434B5C;\n",
              "      box-shadow: 0px 1px 3px 1px rgba(0, 0, 0, 0.15);\n",
              "      filter: drop-shadow(0px 1px 2px rgba(0, 0, 0, 0.3));\n",
              "      fill: #FFFFFF;\n",
              "    }\n",
              "  </style>\n",
              "\n",
              "    <script>\n",
              "      const buttonEl =\n",
              "        document.querySelector('#df-be0a3595-a5d2-49f9-94c1-5d54dfb2e55c button.colab-df-convert');\n",
              "      buttonEl.style.display =\n",
              "        google.colab.kernel.accessAllowed ? 'block' : 'none';\n",
              "\n",
              "      async function convertToInteractive(key) {\n",
              "        const element = document.querySelector('#df-be0a3595-a5d2-49f9-94c1-5d54dfb2e55c');\n",
              "        const dataTable =\n",
              "          await google.colab.kernel.invokeFunction('convertToInteractive',\n",
              "                                                    [key], {});\n",
              "        if (!dataTable) return;\n",
              "\n",
              "        const docLinkHtml = 'Like what you see? Visit the ' +\n",
              "          '<a target=\"_blank\" href=https://colab.research.google.com/notebooks/data_table.ipynb>data table notebook</a>'\n",
              "          + ' to learn more about interactive tables.';\n",
              "        element.innerHTML = '';\n",
              "        dataTable['output_type'] = 'display_data';\n",
              "        await google.colab.output.renderOutput(dataTable, element);\n",
              "        const docLink = document.createElement('div');\n",
              "        docLink.innerHTML = docLinkHtml;\n",
              "        element.appendChild(docLink);\n",
              "      }\n",
              "    </script>\n",
              "  </div>\n",
              "\n",
              "\n",
              "    </div>\n",
              "  </div>\n"
            ],
            "application/vnd.google.colaboratory.intrinsic+json": {
              "type": "dataframe",
              "repr_error": "0"
            }
          },
          "metadata": {},
          "execution_count": 188
        }
      ],
      "source": [
        "df[df['LoanAmount']==700]"
      ]
    },
    {
      "cell_type": "code",
      "execution_count": null,
      "metadata": {
        "id": "NOx7lTZWKvfu",
        "colab": {
          "base_uri": "https://localhost:8080/"
        },
        "outputId": "03476955-4fa7-4813-d310-a974aa1b3792"
      },
      "outputs": [
        {
          "output_type": "execute_result",
          "data": {
            "text/plain": [
              "np.float64(5403.459283387622)"
            ]
          },
          "metadata": {},
          "execution_count": 189
        }
      ],
      "source": [
        "df['AI'].mean()\n",
        " #The applicant with the highest loan amount has a salary close to the average income."
      ]
    },
    {
      "cell_type": "code",
      "execution_count": null,
      "metadata": {
        "id": "vFCx9ExGD1yM",
        "colab": {
          "base_uri": "https://localhost:8080/",
          "height": 458
        },
        "outputId": "4d4865e3-1690-4eb7-8b4b-6d96dd990625"
      },
      "outputs": [
        {
          "output_type": "execute_result",
          "data": {
            "text/plain": [
              "5      267.0\n",
              "7      158.0\n",
              "8      168.0\n",
              "9      349.0\n",
              "12     200.0\n",
              "       ...  \n",
              "604    496.0\n",
              "606    173.0\n",
              "607    157.0\n",
              "611    253.0\n",
              "612    187.0\n",
              "Name: LoanAmount, Length: 211, dtype: float64"
            ],
            "text/html": [
              "<div>\n",
              "<style scoped>\n",
              "    .dataframe tbody tr th:only-of-type {\n",
              "        vertical-align: middle;\n",
              "    }\n",
              "\n",
              "    .dataframe tbody tr th {\n",
              "        vertical-align: top;\n",
              "    }\n",
              "\n",
              "    .dataframe thead th {\n",
              "        text-align: right;\n",
              "    }\n",
              "</style>\n",
              "<table border=\"1\" class=\"dataframe\">\n",
              "  <thead>\n",
              "    <tr style=\"text-align: right;\">\n",
              "      <th></th>\n",
              "      <th>LoanAmount</th>\n",
              "    </tr>\n",
              "  </thead>\n",
              "  <tbody>\n",
              "    <tr>\n",
              "      <th>5</th>\n",
              "      <td>267.0</td>\n",
              "    </tr>\n",
              "    <tr>\n",
              "      <th>7</th>\n",
              "      <td>158.0</td>\n",
              "    </tr>\n",
              "    <tr>\n",
              "      <th>8</th>\n",
              "      <td>168.0</td>\n",
              "    </tr>\n",
              "    <tr>\n",
              "      <th>9</th>\n",
              "      <td>349.0</td>\n",
              "    </tr>\n",
              "    <tr>\n",
              "      <th>12</th>\n",
              "      <td>200.0</td>\n",
              "    </tr>\n",
              "    <tr>\n",
              "      <th>...</th>\n",
              "      <td>...</td>\n",
              "    </tr>\n",
              "    <tr>\n",
              "      <th>604</th>\n",
              "      <td>496.0</td>\n",
              "    </tr>\n",
              "    <tr>\n",
              "      <th>606</th>\n",
              "      <td>173.0</td>\n",
              "    </tr>\n",
              "    <tr>\n",
              "      <th>607</th>\n",
              "      <td>157.0</td>\n",
              "    </tr>\n",
              "    <tr>\n",
              "      <th>611</th>\n",
              "      <td>253.0</td>\n",
              "    </tr>\n",
              "    <tr>\n",
              "      <th>612</th>\n",
              "      <td>187.0</td>\n",
              "    </tr>\n",
              "  </tbody>\n",
              "</table>\n",
              "<p>211 rows × 1 columns</p>\n",
              "</div><br><label><b>dtype:</b> float64</label>"
            ]
          },
          "metadata": {},
          "execution_count": 190
        }
      ],
      "source": [
        "df[df['LoanAmount']>=146]['LoanAmount']"
      ]
    },
    {
      "cell_type": "code",
      "execution_count": null,
      "metadata": {
        "id": "Ca_aSHicDGE-"
      },
      "outputs": [],
      "source": [
        "#211 loan amounts are greater than the  LoanAmount mean."
      ]
    },
    {
      "cell_type": "code",
      "execution_count": null,
      "metadata": {
        "id": "WdZiI-9HC0me",
        "colab": {
          "base_uri": "https://localhost:8080/",
          "height": 178
        },
        "outputId": "0519c2d0-5161-4cbe-9c8c-6be3b65c1b83"
      },
      "outputs": [
        {
          "output_type": "execute_result",
          "data": {
            "text/plain": [
              "Loan_Status\n",
              "Y    137\n",
              "N     74\n",
              "Name: count, dtype: int64"
            ],
            "text/html": [
              "<div>\n",
              "<style scoped>\n",
              "    .dataframe tbody tr th:only-of-type {\n",
              "        vertical-align: middle;\n",
              "    }\n",
              "\n",
              "    .dataframe tbody tr th {\n",
              "        vertical-align: top;\n",
              "    }\n",
              "\n",
              "    .dataframe thead th {\n",
              "        text-align: right;\n",
              "    }\n",
              "</style>\n",
              "<table border=\"1\" class=\"dataframe\">\n",
              "  <thead>\n",
              "    <tr style=\"text-align: right;\">\n",
              "      <th></th>\n",
              "      <th>count</th>\n",
              "    </tr>\n",
              "    <tr>\n",
              "      <th>Loan_Status</th>\n",
              "      <th></th>\n",
              "    </tr>\n",
              "  </thead>\n",
              "  <tbody>\n",
              "    <tr>\n",
              "      <th>Y</th>\n",
              "      <td>137</td>\n",
              "    </tr>\n",
              "    <tr>\n",
              "      <th>N</th>\n",
              "      <td>74</td>\n",
              "    </tr>\n",
              "  </tbody>\n",
              "</table>\n",
              "</div><br><label><b>dtype:</b> int64</label>"
            ]
          },
          "metadata": {},
          "execution_count": 192
        }
      ],
      "source": [
        "df[df['LoanAmount']>=146]['Loan_Status'].value_counts()\n"
      ]
    },
    {
      "cell_type": "code",
      "execution_count": null,
      "metadata": {
        "id": "QPexgECAYvZF"
      },
      "outputs": [],
      "source": [
        "#It is likely that the higher the loan amount, the higher the chance of approval."
      ]
    },
    {
      "cell_type": "markdown",
      "metadata": {
        "id": "iKqedg_96xva"
      },
      "source": [
        "### How many loans were approved (Loan_Status = 'Y') and how many were rejected (Loan_Status = 'N')?"
      ]
    },
    {
      "cell_type": "code",
      "execution_count": null,
      "metadata": {
        "id": "WB7cdq6cZM4p",
        "colab": {
          "base_uri": "https://localhost:8080/",
          "height": 178
        },
        "outputId": "45b8e36e-5d96-4520-82c1-275ed42778d8"
      },
      "outputs": [
        {
          "output_type": "execute_result",
          "data": {
            "text/plain": [
              "Loan_Status\n",
              "Y    422\n",
              "N    192\n",
              "Name: count, dtype: int64"
            ],
            "text/html": [
              "<div>\n",
              "<style scoped>\n",
              "    .dataframe tbody tr th:only-of-type {\n",
              "        vertical-align: middle;\n",
              "    }\n",
              "\n",
              "    .dataframe tbody tr th {\n",
              "        vertical-align: top;\n",
              "    }\n",
              "\n",
              "    .dataframe thead th {\n",
              "        text-align: right;\n",
              "    }\n",
              "</style>\n",
              "<table border=\"1\" class=\"dataframe\">\n",
              "  <thead>\n",
              "    <tr style=\"text-align: right;\">\n",
              "      <th></th>\n",
              "      <th>count</th>\n",
              "    </tr>\n",
              "    <tr>\n",
              "      <th>Loan_Status</th>\n",
              "      <th></th>\n",
              "    </tr>\n",
              "  </thead>\n",
              "  <tbody>\n",
              "    <tr>\n",
              "      <th>Y</th>\n",
              "      <td>422</td>\n",
              "    </tr>\n",
              "    <tr>\n",
              "      <th>N</th>\n",
              "      <td>192</td>\n",
              "    </tr>\n",
              "  </tbody>\n",
              "</table>\n",
              "</div><br><label><b>dtype:</b> int64</label>"
            ]
          },
          "metadata": {},
          "execution_count": 194
        }
      ],
      "source": [
        "#to the columns that have category we use th count not max or min\n",
        "df['Loan_Status'].value_counts()\n"
      ]
    },
    {
      "cell_type": "code",
      "execution_count": null,
      "metadata": {
        "id": "BNDPQlOagUVD"
      },
      "outputs": [],
      "source": [
        "#the data size=614 and the loa_ststus_Yes=422\n",
        "#Most were approved, meaning easy approval or qualified applicants\n",
        "#loan_ststus_No=192\n",
        "#Exploring the rejection reasons"
      ]
    },
    {
      "cell_type": "code",
      "execution_count": null,
      "metadata": {
        "id": "SeyaPN-watGg",
        "colab": {
          "base_uri": "https://localhost:8080/",
          "height": 300
        },
        "outputId": "20b71a6e-b272-44bc-ca85-376739910bf1"
      },
      "outputs": [
        {
          "output_type": "execute_result",
          "data": {
            "text/plain": [
              "                 AI           CAI  LoanAmount\n",
              "count    614.000000    614.000000  592.000000\n",
              "mean    5403.459283   1621.245798  146.412162\n",
              "std     6109.041673   2926.248369   85.587325\n",
              "min      150.000000      0.000000    9.000000\n",
              "25%     2877.500000      0.000000  100.000000\n",
              "50%     3812.500000   1188.500000  128.000000\n",
              "75%     5795.000000   2297.250000  168.000000\n",
              "max    81000.000000  41667.000000  700.000000"
            ],
            "text/html": [
              "\n",
              "  <div id=\"df-5b249f09-d652-4c68-8dc0-e75bf473804d\" class=\"colab-df-container\">\n",
              "    <div>\n",
              "<style scoped>\n",
              "    .dataframe tbody tr th:only-of-type {\n",
              "        vertical-align: middle;\n",
              "    }\n",
              "\n",
              "    .dataframe tbody tr th {\n",
              "        vertical-align: top;\n",
              "    }\n",
              "\n",
              "    .dataframe thead th {\n",
              "        text-align: right;\n",
              "    }\n",
              "</style>\n",
              "<table border=\"1\" class=\"dataframe\">\n",
              "  <thead>\n",
              "    <tr style=\"text-align: right;\">\n",
              "      <th></th>\n",
              "      <th>AI</th>\n",
              "      <th>CAI</th>\n",
              "      <th>LoanAmount</th>\n",
              "    </tr>\n",
              "  </thead>\n",
              "  <tbody>\n",
              "    <tr>\n",
              "      <th>count</th>\n",
              "      <td>614.000000</td>\n",
              "      <td>614.000000</td>\n",
              "      <td>592.000000</td>\n",
              "    </tr>\n",
              "    <tr>\n",
              "      <th>mean</th>\n",
              "      <td>5403.459283</td>\n",
              "      <td>1621.245798</td>\n",
              "      <td>146.412162</td>\n",
              "    </tr>\n",
              "    <tr>\n",
              "      <th>std</th>\n",
              "      <td>6109.041673</td>\n",
              "      <td>2926.248369</td>\n",
              "      <td>85.587325</td>\n",
              "    </tr>\n",
              "    <tr>\n",
              "      <th>min</th>\n",
              "      <td>150.000000</td>\n",
              "      <td>0.000000</td>\n",
              "      <td>9.000000</td>\n",
              "    </tr>\n",
              "    <tr>\n",
              "      <th>25%</th>\n",
              "      <td>2877.500000</td>\n",
              "      <td>0.000000</td>\n",
              "      <td>100.000000</td>\n",
              "    </tr>\n",
              "    <tr>\n",
              "      <th>50%</th>\n",
              "      <td>3812.500000</td>\n",
              "      <td>1188.500000</td>\n",
              "      <td>128.000000</td>\n",
              "    </tr>\n",
              "    <tr>\n",
              "      <th>75%</th>\n",
              "      <td>5795.000000</td>\n",
              "      <td>2297.250000</td>\n",
              "      <td>168.000000</td>\n",
              "    </tr>\n",
              "    <tr>\n",
              "      <th>max</th>\n",
              "      <td>81000.000000</td>\n",
              "      <td>41667.000000</td>\n",
              "      <td>700.000000</td>\n",
              "    </tr>\n",
              "  </tbody>\n",
              "</table>\n",
              "</div>\n",
              "    <div class=\"colab-df-buttons\">\n",
              "\n",
              "  <div class=\"colab-df-container\">\n",
              "    <button class=\"colab-df-convert\" onclick=\"convertToInteractive('df-5b249f09-d652-4c68-8dc0-e75bf473804d')\"\n",
              "            title=\"Convert this dataframe to an interactive table.\"\n",
              "            style=\"display:none;\">\n",
              "\n",
              "  <svg xmlns=\"http://www.w3.org/2000/svg\" height=\"24px\" viewBox=\"0 -960 960 960\">\n",
              "    <path d=\"M120-120v-720h720v720H120Zm60-500h600v-160H180v160Zm220 220h160v-160H400v160Zm0 220h160v-160H400v160ZM180-400h160v-160H180v160Zm440 0h160v-160H620v160ZM180-180h160v-160H180v160Zm440 0h160v-160H620v160Z\"/>\n",
              "  </svg>\n",
              "    </button>\n",
              "\n",
              "  <style>\n",
              "    .colab-df-container {\n",
              "      display:flex;\n",
              "      gap: 12px;\n",
              "    }\n",
              "\n",
              "    .colab-df-convert {\n",
              "      background-color: #E8F0FE;\n",
              "      border: none;\n",
              "      border-radius: 50%;\n",
              "      cursor: pointer;\n",
              "      display: none;\n",
              "      fill: #1967D2;\n",
              "      height: 32px;\n",
              "      padding: 0 0 0 0;\n",
              "      width: 32px;\n",
              "    }\n",
              "\n",
              "    .colab-df-convert:hover {\n",
              "      background-color: #E2EBFA;\n",
              "      box-shadow: 0px 1px 2px rgba(60, 64, 67, 0.3), 0px 1px 3px 1px rgba(60, 64, 67, 0.15);\n",
              "      fill: #174EA6;\n",
              "    }\n",
              "\n",
              "    .colab-df-buttons div {\n",
              "      margin-bottom: 4px;\n",
              "    }\n",
              "\n",
              "    [theme=dark] .colab-df-convert {\n",
              "      background-color: #3B4455;\n",
              "      fill: #D2E3FC;\n",
              "    }\n",
              "\n",
              "    [theme=dark] .colab-df-convert:hover {\n",
              "      background-color: #434B5C;\n",
              "      box-shadow: 0px 1px 3px 1px rgba(0, 0, 0, 0.15);\n",
              "      filter: drop-shadow(0px 1px 2px rgba(0, 0, 0, 0.3));\n",
              "      fill: #FFFFFF;\n",
              "    }\n",
              "  </style>\n",
              "\n",
              "    <script>\n",
              "      const buttonEl =\n",
              "        document.querySelector('#df-5b249f09-d652-4c68-8dc0-e75bf473804d button.colab-df-convert');\n",
              "      buttonEl.style.display =\n",
              "        google.colab.kernel.accessAllowed ? 'block' : 'none';\n",
              "\n",
              "      async function convertToInteractive(key) {\n",
              "        const element = document.querySelector('#df-5b249f09-d652-4c68-8dc0-e75bf473804d');\n",
              "        const dataTable =\n",
              "          await google.colab.kernel.invokeFunction('convertToInteractive',\n",
              "                                                    [key], {});\n",
              "        if (!dataTable) return;\n",
              "\n",
              "        const docLinkHtml = 'Like what you see? Visit the ' +\n",
              "          '<a target=\"_blank\" href=https://colab.research.google.com/notebooks/data_table.ipynb>data table notebook</a>'\n",
              "          + ' to learn more about interactive tables.';\n",
              "        element.innerHTML = '';\n",
              "        dataTable['output_type'] = 'display_data';\n",
              "        await google.colab.output.renderOutput(dataTable, element);\n",
              "        const docLink = document.createElement('div');\n",
              "        docLink.innerHTML = docLinkHtml;\n",
              "        element.appendChild(docLink);\n",
              "      }\n",
              "    </script>\n",
              "  </div>\n",
              "\n",
              "\n",
              "<div id=\"df-13f3645d-8596-4cf6-9316-7c882cd67b48\">\n",
              "  <button class=\"colab-df-quickchart\" onclick=\"quickchart('df-13f3645d-8596-4cf6-9316-7c882cd67b48')\"\n",
              "            title=\"Suggest charts\"\n",
              "            style=\"display:none;\">\n",
              "\n",
              "<svg xmlns=\"http://www.w3.org/2000/svg\" height=\"24px\"viewBox=\"0 0 24 24\"\n",
              "     width=\"24px\">\n",
              "    <g>\n",
              "        <path d=\"M19 3H5c-1.1 0-2 .9-2 2v14c0 1.1.9 2 2 2h14c1.1 0 2-.9 2-2V5c0-1.1-.9-2-2-2zM9 17H7v-7h2v7zm4 0h-2V7h2v10zm4 0h-2v-4h2v4z\"/>\n",
              "    </g>\n",
              "</svg>\n",
              "  </button>\n",
              "\n",
              "<style>\n",
              "  .colab-df-quickchart {\n",
              "      --bg-color: #E8F0FE;\n",
              "      --fill-color: #1967D2;\n",
              "      --hover-bg-color: #E2EBFA;\n",
              "      --hover-fill-color: #174EA6;\n",
              "      --disabled-fill-color: #AAA;\n",
              "      --disabled-bg-color: #DDD;\n",
              "  }\n",
              "\n",
              "  [theme=dark] .colab-df-quickchart {\n",
              "      --bg-color: #3B4455;\n",
              "      --fill-color: #D2E3FC;\n",
              "      --hover-bg-color: #434B5C;\n",
              "      --hover-fill-color: #FFFFFF;\n",
              "      --disabled-bg-color: #3B4455;\n",
              "      --disabled-fill-color: #666;\n",
              "  }\n",
              "\n",
              "  .colab-df-quickchart {\n",
              "    background-color: var(--bg-color);\n",
              "    border: none;\n",
              "    border-radius: 50%;\n",
              "    cursor: pointer;\n",
              "    display: none;\n",
              "    fill: var(--fill-color);\n",
              "    height: 32px;\n",
              "    padding: 0;\n",
              "    width: 32px;\n",
              "  }\n",
              "\n",
              "  .colab-df-quickchart:hover {\n",
              "    background-color: var(--hover-bg-color);\n",
              "    box-shadow: 0 1px 2px rgba(60, 64, 67, 0.3), 0 1px 3px 1px rgba(60, 64, 67, 0.15);\n",
              "    fill: var(--button-hover-fill-color);\n",
              "  }\n",
              "\n",
              "  .colab-df-quickchart-complete:disabled,\n",
              "  .colab-df-quickchart-complete:disabled:hover {\n",
              "    background-color: var(--disabled-bg-color);\n",
              "    fill: var(--disabled-fill-color);\n",
              "    box-shadow: none;\n",
              "  }\n",
              "\n",
              "  .colab-df-spinner {\n",
              "    border: 2px solid var(--fill-color);\n",
              "    border-color: transparent;\n",
              "    border-bottom-color: var(--fill-color);\n",
              "    animation:\n",
              "      spin 1s steps(1) infinite;\n",
              "  }\n",
              "\n",
              "  @keyframes spin {\n",
              "    0% {\n",
              "      border-color: transparent;\n",
              "      border-bottom-color: var(--fill-color);\n",
              "      border-left-color: var(--fill-color);\n",
              "    }\n",
              "    20% {\n",
              "      border-color: transparent;\n",
              "      border-left-color: var(--fill-color);\n",
              "      border-top-color: var(--fill-color);\n",
              "    }\n",
              "    30% {\n",
              "      border-color: transparent;\n",
              "      border-left-color: var(--fill-color);\n",
              "      border-top-color: var(--fill-color);\n",
              "      border-right-color: var(--fill-color);\n",
              "    }\n",
              "    40% {\n",
              "      border-color: transparent;\n",
              "      border-right-color: var(--fill-color);\n",
              "      border-top-color: var(--fill-color);\n",
              "    }\n",
              "    60% {\n",
              "      border-color: transparent;\n",
              "      border-right-color: var(--fill-color);\n",
              "    }\n",
              "    80% {\n",
              "      border-color: transparent;\n",
              "      border-right-color: var(--fill-color);\n",
              "      border-bottom-color: var(--fill-color);\n",
              "    }\n",
              "    90% {\n",
              "      border-color: transparent;\n",
              "      border-bottom-color: var(--fill-color);\n",
              "    }\n",
              "  }\n",
              "</style>\n",
              "\n",
              "  <script>\n",
              "    async function quickchart(key) {\n",
              "      const quickchartButtonEl =\n",
              "        document.querySelector('#' + key + ' button');\n",
              "      quickchartButtonEl.disabled = true;  // To prevent multiple clicks.\n",
              "      quickchartButtonEl.classList.add('colab-df-spinner');\n",
              "      try {\n",
              "        const charts = await google.colab.kernel.invokeFunction(\n",
              "            'suggestCharts', [key], {});\n",
              "      } catch (error) {\n",
              "        console.error('Error during call to suggestCharts:', error);\n",
              "      }\n",
              "      quickchartButtonEl.classList.remove('colab-df-spinner');\n",
              "      quickchartButtonEl.classList.add('colab-df-quickchart-complete');\n",
              "    }\n",
              "    (() => {\n",
              "      let quickchartButtonEl =\n",
              "        document.querySelector('#df-13f3645d-8596-4cf6-9316-7c882cd67b48 button');\n",
              "      quickchartButtonEl.style.display =\n",
              "        google.colab.kernel.accessAllowed ? 'block' : 'none';\n",
              "    })();\n",
              "  </script>\n",
              "</div>\n",
              "\n",
              "    </div>\n",
              "  </div>\n"
            ],
            "application/vnd.google.colaboratory.intrinsic+json": {
              "type": "dataframe",
              "summary": "{\n  \"name\": \"df\",\n  \"rows\": 8,\n  \"fields\": [\n    {\n      \"column\": \"AI\",\n      \"properties\": {\n        \"dtype\": \"number\",\n        \"std\": 27480.19432327756,\n        \"min\": 150.0,\n        \"max\": 81000.0,\n        \"num_unique_values\": 8,\n        \"samples\": [\n          5403.459283387622,\n          3812.5,\n          614.0\n        ],\n        \"semantic_type\": \"\",\n        \"description\": \"\"\n      }\n    },\n    {\n      \"column\": \"CAI\",\n      \"properties\": {\n        \"dtype\": \"number\",\n        \"std\": 14332.564053846478,\n        \"min\": 0.0,\n        \"max\": 41667.0,\n        \"num_unique_values\": 7,\n        \"samples\": [\n          614.0,\n          1621.2457980271008,\n          2297.25\n        ],\n        \"semantic_type\": \"\",\n        \"description\": \"\"\n      }\n    },\n    {\n      \"column\": \"LoanAmount\",\n      \"properties\": {\n        \"dtype\": \"number\",\n        \"std\": 256.0091610169859,\n        \"min\": 9.0,\n        \"max\": 700.0,\n        \"num_unique_values\": 8,\n        \"samples\": [\n          146.41216216216216,\n          128.0,\n          592.0\n        ],\n        \"semantic_type\": \"\",\n        \"description\": \"\"\n      }\n    }\n  ]\n}"
            }
          },
          "metadata": {},
          "execution_count": 196
        }
      ],
      "source": [
        "df.describe() # it is just for the columns have numeracy data"
      ]
    },
    {
      "cell_type": "code",
      "execution_count": null,
      "metadata": {
        "id": "I-sZhAq6cFwx",
        "colab": {
          "base_uri": "https://localhost:8080/",
          "height": 115
        },
        "outputId": "6737e3f8-0298-4aed-cf1e-546569716ccd"
      },
      "outputs": [
        {
          "output_type": "execute_result",
          "data": {
            "text/plain": [
              "409    N\n",
              "Name: Loan_Status, dtype: object"
            ],
            "text/html": [
              "<div>\n",
              "<style scoped>\n",
              "    .dataframe tbody tr th:only-of-type {\n",
              "        vertical-align: middle;\n",
              "    }\n",
              "\n",
              "    .dataframe tbody tr th {\n",
              "        vertical-align: top;\n",
              "    }\n",
              "\n",
              "    .dataframe thead th {\n",
              "        text-align: right;\n",
              "    }\n",
              "</style>\n",
              "<table border=\"1\" class=\"dataframe\">\n",
              "  <thead>\n",
              "    <tr style=\"text-align: right;\">\n",
              "      <th></th>\n",
              "      <th>Loan_Status</th>\n",
              "    </tr>\n",
              "  </thead>\n",
              "  <tbody>\n",
              "    <tr>\n",
              "      <th>409</th>\n",
              "      <td>N</td>\n",
              "    </tr>\n",
              "  </tbody>\n",
              "</table>\n",
              "</div><br><label><b>dtype:</b> object</label>"
            ]
          },
          "metadata": {},
          "execution_count": 197
        }
      ],
      "source": [
        "df[df['AI']==81000.000000]['Loan_Status']\n",
        "#The highest salary was not approved for a loan.\n"
      ]
    },
    {
      "cell_type": "code",
      "execution_count": null,
      "metadata": {
        "id": "7S5-ICODOaS6",
        "colab": {
          "base_uri": "https://localhost:8080/",
          "height": 100
        },
        "outputId": "1a032ab4-9e26-4ce0-c230-6586dbede5d5"
      },
      "outputs": [
        {
          "output_type": "execute_result",
          "data": {
            "text/plain": [
              "    Gender Married Dependents Education Self_Employed     AI  CAI  LoanAmount  \\\n",
              "409      M     Yes         3+         G            No  81000  0.0       360.0   \n",
              "\n",
              "    Loan_Amount_Year Credit_History Property_Area Loan_Status  \n",
              "409               30              0         Rural           N  "
            ],
            "text/html": [
              "\n",
              "  <div id=\"df-960149d7-f99b-4364-a685-94d057b789e4\" class=\"colab-df-container\">\n",
              "    <div>\n",
              "<style scoped>\n",
              "    .dataframe tbody tr th:only-of-type {\n",
              "        vertical-align: middle;\n",
              "    }\n",
              "\n",
              "    .dataframe tbody tr th {\n",
              "        vertical-align: top;\n",
              "    }\n",
              "\n",
              "    .dataframe thead th {\n",
              "        text-align: right;\n",
              "    }\n",
              "</style>\n",
              "<table border=\"1\" class=\"dataframe\">\n",
              "  <thead>\n",
              "    <tr style=\"text-align: right;\">\n",
              "      <th></th>\n",
              "      <th>Gender</th>\n",
              "      <th>Married</th>\n",
              "      <th>Dependents</th>\n",
              "      <th>Education</th>\n",
              "      <th>Self_Employed</th>\n",
              "      <th>AI</th>\n",
              "      <th>CAI</th>\n",
              "      <th>LoanAmount</th>\n",
              "      <th>Loan_Amount_Year</th>\n",
              "      <th>Credit_History</th>\n",
              "      <th>Property_Area</th>\n",
              "      <th>Loan_Status</th>\n",
              "    </tr>\n",
              "  </thead>\n",
              "  <tbody>\n",
              "    <tr>\n",
              "      <th>409</th>\n",
              "      <td>M</td>\n",
              "      <td>Yes</td>\n",
              "      <td>3+</td>\n",
              "      <td>G</td>\n",
              "      <td>No</td>\n",
              "      <td>81000</td>\n",
              "      <td>0.0</td>\n",
              "      <td>360.0</td>\n",
              "      <td>30</td>\n",
              "      <td>0</td>\n",
              "      <td>Rural</td>\n",
              "      <td>N</td>\n",
              "    </tr>\n",
              "  </tbody>\n",
              "</table>\n",
              "</div>\n",
              "    <div class=\"colab-df-buttons\">\n",
              "\n",
              "  <div class=\"colab-df-container\">\n",
              "    <button class=\"colab-df-convert\" onclick=\"convertToInteractive('df-960149d7-f99b-4364-a685-94d057b789e4')\"\n",
              "            title=\"Convert this dataframe to an interactive table.\"\n",
              "            style=\"display:none;\">\n",
              "\n",
              "  <svg xmlns=\"http://www.w3.org/2000/svg\" height=\"24px\" viewBox=\"0 -960 960 960\">\n",
              "    <path d=\"M120-120v-720h720v720H120Zm60-500h600v-160H180v160Zm220 220h160v-160H400v160Zm0 220h160v-160H400v160ZM180-400h160v-160H180v160Zm440 0h160v-160H620v160ZM180-180h160v-160H180v160Zm440 0h160v-160H620v160Z\"/>\n",
              "  </svg>\n",
              "    </button>\n",
              "\n",
              "  <style>\n",
              "    .colab-df-container {\n",
              "      display:flex;\n",
              "      gap: 12px;\n",
              "    }\n",
              "\n",
              "    .colab-df-convert {\n",
              "      background-color: #E8F0FE;\n",
              "      border: none;\n",
              "      border-radius: 50%;\n",
              "      cursor: pointer;\n",
              "      display: none;\n",
              "      fill: #1967D2;\n",
              "      height: 32px;\n",
              "      padding: 0 0 0 0;\n",
              "      width: 32px;\n",
              "    }\n",
              "\n",
              "    .colab-df-convert:hover {\n",
              "      background-color: #E2EBFA;\n",
              "      box-shadow: 0px 1px 2px rgba(60, 64, 67, 0.3), 0px 1px 3px 1px rgba(60, 64, 67, 0.15);\n",
              "      fill: #174EA6;\n",
              "    }\n",
              "\n",
              "    .colab-df-buttons div {\n",
              "      margin-bottom: 4px;\n",
              "    }\n",
              "\n",
              "    [theme=dark] .colab-df-convert {\n",
              "      background-color: #3B4455;\n",
              "      fill: #D2E3FC;\n",
              "    }\n",
              "\n",
              "    [theme=dark] .colab-df-convert:hover {\n",
              "      background-color: #434B5C;\n",
              "      box-shadow: 0px 1px 3px 1px rgba(0, 0, 0, 0.15);\n",
              "      filter: drop-shadow(0px 1px 2px rgba(0, 0, 0, 0.3));\n",
              "      fill: #FFFFFF;\n",
              "    }\n",
              "  </style>\n",
              "\n",
              "    <script>\n",
              "      const buttonEl =\n",
              "        document.querySelector('#df-960149d7-f99b-4364-a685-94d057b789e4 button.colab-df-convert');\n",
              "      buttonEl.style.display =\n",
              "        google.colab.kernel.accessAllowed ? 'block' : 'none';\n",
              "\n",
              "      async function convertToInteractive(key) {\n",
              "        const element = document.querySelector('#df-960149d7-f99b-4364-a685-94d057b789e4');\n",
              "        const dataTable =\n",
              "          await google.colab.kernel.invokeFunction('convertToInteractive',\n",
              "                                                    [key], {});\n",
              "        if (!dataTable) return;\n",
              "\n",
              "        const docLinkHtml = 'Like what you see? Visit the ' +\n",
              "          '<a target=\"_blank\" href=https://colab.research.google.com/notebooks/data_table.ipynb>data table notebook</a>'\n",
              "          + ' to learn more about interactive tables.';\n",
              "        element.innerHTML = '';\n",
              "        dataTable['output_type'] = 'display_data';\n",
              "        await google.colab.output.renderOutput(dataTable, element);\n",
              "        const docLink = document.createElement('div');\n",
              "        docLink.innerHTML = docLinkHtml;\n",
              "        element.appendChild(docLink);\n",
              "      }\n",
              "    </script>\n",
              "  </div>\n",
              "\n",
              "\n",
              "    </div>\n",
              "  </div>\n"
            ],
            "application/vnd.google.colaboratory.intrinsic+json": {
              "type": "dataframe",
              "summary": "{\n  \"name\": \"df[df['AI']==81000]\",\n  \"rows\": 1,\n  \"fields\": [\n    {\n      \"column\": \"Gender\",\n      \"properties\": {\n        \"dtype\": \"string\",\n        \"num_unique_values\": 1,\n        \"samples\": [\n          \"M\"\n        ],\n        \"semantic_type\": \"\",\n        \"description\": \"\"\n      }\n    },\n    {\n      \"column\": \"Married\",\n      \"properties\": {\n        \"dtype\": \"string\",\n        \"num_unique_values\": 1,\n        \"samples\": [\n          \"Yes\"\n        ],\n        \"semantic_type\": \"\",\n        \"description\": \"\"\n      }\n    },\n    {\n      \"column\": \"Dependents\",\n      \"properties\": {\n        \"dtype\": \"string\",\n        \"num_unique_values\": 1,\n        \"samples\": [\n          \"3+\"\n        ],\n        \"semantic_type\": \"\",\n        \"description\": \"\"\n      }\n    },\n    {\n      \"column\": \"Education\",\n      \"properties\": {\n        \"dtype\": \"string\",\n        \"num_unique_values\": 1,\n        \"samples\": [\n          \"G\"\n        ],\n        \"semantic_type\": \"\",\n        \"description\": \"\"\n      }\n    },\n    {\n      \"column\": \"Self_Employed\",\n      \"properties\": {\n        \"dtype\": \"string\",\n        \"num_unique_values\": 1,\n        \"samples\": [\n          \"No\"\n        ],\n        \"semantic_type\": \"\",\n        \"description\": \"\"\n      }\n    },\n    {\n      \"column\": \"AI\",\n      \"properties\": {\n        \"dtype\": \"number\",\n        \"std\": null,\n        \"min\": 81000,\n        \"max\": 81000,\n        \"num_unique_values\": 1,\n        \"samples\": [\n          81000\n        ],\n        \"semantic_type\": \"\",\n        \"description\": \"\"\n      }\n    },\n    {\n      \"column\": \"CAI\",\n      \"properties\": {\n        \"dtype\": \"number\",\n        \"std\": null,\n        \"min\": 0.0,\n        \"max\": 0.0,\n        \"num_unique_values\": 1,\n        \"samples\": [\n          0.0\n        ],\n        \"semantic_type\": \"\",\n        \"description\": \"\"\n      }\n    },\n    {\n      \"column\": \"LoanAmount\",\n      \"properties\": {\n        \"dtype\": \"number\",\n        \"std\": null,\n        \"min\": 360.0,\n        \"max\": 360.0,\n        \"num_unique_values\": 1,\n        \"samples\": [\n          360.0\n        ],\n        \"semantic_type\": \"\",\n        \"description\": \"\"\n      }\n    },\n    {\n      \"column\": \"Loan_Amount_Year\",\n      \"properties\": {\n        \"dtype\": \"string\",\n        \"num_unique_values\": 1,\n        \"samples\": [\n          \"30\"\n        ],\n        \"semantic_type\": \"\",\n        \"description\": \"\"\n      }\n    },\n    {\n      \"column\": \"Credit_History\",\n      \"properties\": {\n        \"dtype\": \"string\",\n        \"num_unique_values\": 1,\n        \"samples\": [\n          \"0\"\n        ],\n        \"semantic_type\": \"\",\n        \"description\": \"\"\n      }\n    },\n    {\n      \"column\": \"Property_Area\",\n      \"properties\": {\n        \"dtype\": \"string\",\n        \"num_unique_values\": 1,\n        \"samples\": [\n          \"Rural\"\n        ],\n        \"semantic_type\": \"\",\n        \"description\": \"\"\n      }\n    },\n    {\n      \"column\": \"Loan_Status\",\n      \"properties\": {\n        \"dtype\": \"string\",\n        \"num_unique_values\": 1,\n        \"samples\": [\n          \"N\"\n        ],\n        \"semantic_type\": \"\",\n        \"description\": \"\"\n      }\n    }\n  ]\n}"
            }
          },
          "metadata": {},
          "execution_count": 198
        }
      ],
      "source": [
        "df[df['AI']==81000]"
      ]
    },
    {
      "cell_type": "code",
      "execution_count": null,
      "metadata": {
        "id": "ELvjjJDhQIxA"
      },
      "outputs": [],
      "source": [
        "#Ensure that the reason for rejection is Rural and that the bank is biased in granting loans."
      ]
    },
    {
      "cell_type": "markdown",
      "metadata": {
        "id": "STri6e6H6xva"
      },
      "source": [
        "### How many loans were applied for in each property area (Urban, Rural, Semiurban)?"
      ]
    },
    {
      "cell_type": "code",
      "execution_count": null,
      "metadata": {
        "id": "DDctuhIeoJCH",
        "colab": {
          "base_uri": "https://localhost:8080/",
          "height": 209
        },
        "outputId": "dcc2718d-4d7a-4712-bb34-676dbcba18ee"
      },
      "outputs": [
        {
          "output_type": "execute_result",
          "data": {
            "text/plain": [
              "Property_Area\n",
              "Semiurban    233\n",
              "Urban        202\n",
              "Rural        179\n",
              "Name: count, dtype: int64"
            ],
            "text/html": [
              "<div>\n",
              "<style scoped>\n",
              "    .dataframe tbody tr th:only-of-type {\n",
              "        vertical-align: middle;\n",
              "    }\n",
              "\n",
              "    .dataframe tbody tr th {\n",
              "        vertical-align: top;\n",
              "    }\n",
              "\n",
              "    .dataframe thead th {\n",
              "        text-align: right;\n",
              "    }\n",
              "</style>\n",
              "<table border=\"1\" class=\"dataframe\">\n",
              "  <thead>\n",
              "    <tr style=\"text-align: right;\">\n",
              "      <th></th>\n",
              "      <th>count</th>\n",
              "    </tr>\n",
              "    <tr>\n",
              "      <th>Property_Area</th>\n",
              "      <th></th>\n",
              "    </tr>\n",
              "  </thead>\n",
              "  <tbody>\n",
              "    <tr>\n",
              "      <th>Semiurban</th>\n",
              "      <td>233</td>\n",
              "    </tr>\n",
              "    <tr>\n",
              "      <th>Urban</th>\n",
              "      <td>202</td>\n",
              "    </tr>\n",
              "    <tr>\n",
              "      <th>Rural</th>\n",
              "      <td>179</td>\n",
              "    </tr>\n",
              "  </tbody>\n",
              "</table>\n",
              "</div><br><label><b>dtype:</b> int64</label>"
            ]
          },
          "metadata": {},
          "execution_count": 200
        }
      ],
      "source": [
        "df['Property_Area'].value_counts()"
      ]
    },
    {
      "cell_type": "code",
      "execution_count": null,
      "metadata": {
        "id": "ImuoBCDjQQLa",
        "colab": {
          "base_uri": "https://localhost:8080/",
          "height": 178
        },
        "outputId": "fe7f812c-a94b-4ef8-8477-ab1388ae2d7b"
      },
      "outputs": [
        {
          "output_type": "execute_result",
          "data": {
            "text/plain": [
              "Loan_Status\n",
              "Y    110\n",
              "N     69\n",
              "Name: count, dtype: int64"
            ],
            "text/html": [
              "<div>\n",
              "<style scoped>\n",
              "    .dataframe tbody tr th:only-of-type {\n",
              "        vertical-align: middle;\n",
              "    }\n",
              "\n",
              "    .dataframe tbody tr th {\n",
              "        vertical-align: top;\n",
              "    }\n",
              "\n",
              "    .dataframe thead th {\n",
              "        text-align: right;\n",
              "    }\n",
              "</style>\n",
              "<table border=\"1\" class=\"dataframe\">\n",
              "  <thead>\n",
              "    <tr style=\"text-align: right;\">\n",
              "      <th></th>\n",
              "      <th>count</th>\n",
              "    </tr>\n",
              "    <tr>\n",
              "      <th>Loan_Status</th>\n",
              "      <th></th>\n",
              "    </tr>\n",
              "  </thead>\n",
              "  <tbody>\n",
              "    <tr>\n",
              "      <th>Y</th>\n",
              "      <td>110</td>\n",
              "    </tr>\n",
              "    <tr>\n",
              "      <th>N</th>\n",
              "      <td>69</td>\n",
              "    </tr>\n",
              "  </tbody>\n",
              "</table>\n",
              "</div><br><label><b>dtype:</b> int64</label>"
            ]
          },
          "metadata": {},
          "execution_count": 201
        }
      ],
      "source": [
        "df[df['Property_Area']=='Rural']['Loan_Status'].value_counts()"
      ]
    },
    {
      "cell_type": "code",
      "execution_count": null,
      "metadata": {
        "id": "xwM1KwYuRWMm"
      },
      "outputs": [],
      "source": [
        "#Rural=179\n",
        "#Loan_Status_Yes=110\n",
        "#The approval rate for Rural applicants is higher than the rejection rate."
      ]
    },
    {
      "cell_type": "code",
      "execution_count": null,
      "metadata": {
        "id": "nKMTc2CM_Rni",
        "colab": {
          "base_uri": "https://localhost:8080/",
          "height": 178
        },
        "outputId": "50378b65-67bb-446f-9e9c-c737db76dc4d"
      },
      "outputs": [
        {
          "output_type": "execute_result",
          "data": {
            "text/plain": [
              "Gender\n",
              "M    489\n",
              "F    112\n",
              "Name: count, dtype: int64"
            ],
            "text/html": [
              "<div>\n",
              "<style scoped>\n",
              "    .dataframe tbody tr th:only-of-type {\n",
              "        vertical-align: middle;\n",
              "    }\n",
              "\n",
              "    .dataframe tbody tr th {\n",
              "        vertical-align: top;\n",
              "    }\n",
              "\n",
              "    .dataframe thead th {\n",
              "        text-align: right;\n",
              "    }\n",
              "</style>\n",
              "<table border=\"1\" class=\"dataframe\">\n",
              "  <thead>\n",
              "    <tr style=\"text-align: right;\">\n",
              "      <th></th>\n",
              "      <th>count</th>\n",
              "    </tr>\n",
              "    <tr>\n",
              "      <th>Gender</th>\n",
              "      <th></th>\n",
              "    </tr>\n",
              "  </thead>\n",
              "  <tbody>\n",
              "    <tr>\n",
              "      <th>M</th>\n",
              "      <td>489</td>\n",
              "    </tr>\n",
              "    <tr>\n",
              "      <th>F</th>\n",
              "      <td>112</td>\n",
              "    </tr>\n",
              "  </tbody>\n",
              "</table>\n",
              "</div><br><label><b>dtype:</b> int64</label>"
            ]
          },
          "metadata": {},
          "execution_count": 203
        }
      ],
      "source": [
        "df['Gender'].value_counts()\n",
        "#The number of male loan applicants is higher than the number of female applicants."
      ]
    },
    {
      "cell_type": "code",
      "execution_count": null,
      "metadata": {
        "id": "Vel7zkO-FdIm",
        "colab": {
          "base_uri": "https://localhost:8080/"
        },
        "outputId": "4028b172-b4e1-497a-a684-cbec6a341806"
      },
      "outputs": [
        {
          "output_type": "execute_result",
          "data": {
            "text/plain": [
              "339"
            ]
          },
          "metadata": {},
          "execution_count": 204
        }
      ],
      "source": [
        "df[(df['Gender']=='M') & (df['Loan_Status']=='Y')].shape[0]"
      ]
    },
    {
      "cell_type": "code",
      "execution_count": null,
      "metadata": {
        "id": "X5_oXWsTGo6v",
        "colab": {
          "base_uri": "https://localhost:8080/"
        },
        "outputId": "34476100-950e-4d6d-a030-4bdac37d3179"
      },
      "outputs": [
        {
          "output_type": "execute_result",
          "data": {
            "text/plain": [
              "159"
            ]
          },
          "metadata": {},
          "execution_count": 205
        }
      ],
      "source": [
        "df[(df['Gender']=='M') & (df['Dependents'] != '0') & (df['Loan_Status']=='Y')].shape[0]"
      ]
    },
    {
      "cell_type": "code",
      "execution_count": null,
      "metadata": {
        "id": "CSCaoKpAKpHn",
        "colab": {
          "base_uri": "https://localhost:8080/"
        },
        "outputId": "1e6721a8-64e7-4a4c-decc-c8b0944ae9ec"
      },
      "outputs": [
        {
          "output_type": "execute_result",
          "data": {
            "text/plain": [
              "180"
            ]
          },
          "metadata": {},
          "execution_count": 206
        }
      ],
      "source": [
        "df[(df['Gender']=='M') & (df['Dependents'] == '0') & (df['Loan_Status']=='Y')].shape[0]"
      ]
    },
    {
      "cell_type": "code",
      "execution_count": null,
      "metadata": {
        "id": "gpeTZYn3LHgW"
      },
      "outputs": [],
      "source": [
        "#Male applicants have a similar approval rate, regardless of dependency status"
      ]
    },
    {
      "cell_type": "code",
      "execution_count": null,
      "metadata": {
        "id": "z84yJ3FDYqS0",
        "colab": {
          "base_uri": "https://localhost:8080/"
        },
        "outputId": "c5a5e73f-5b56-4749-e4af-cd8da7d4a121"
      },
      "outputs": [
        {
          "output_type": "execute_result",
          "data": {
            "text/plain": [
              "75"
            ]
          },
          "metadata": {},
          "execution_count": 208
        }
      ],
      "source": [
        "df[(df['Gender']=='F') & (df['Loan_Status']=='Y')].shape[0]"
      ]
    },
    {
      "cell_type": "code",
      "execution_count": null,
      "metadata": {
        "id": "xjD0IZM3MEWh",
        "colab": {
          "base_uri": "https://localhost:8080/"
        },
        "outputId": "3e40c3be-dabb-4382-8a18-40f9b3145a70"
      },
      "outputs": [
        {
          "output_type": "execute_result",
          "data": {
            "text/plain": [
              "21"
            ]
          },
          "metadata": {},
          "execution_count": 209
        }
      ],
      "source": [
        "df[(df['Gender']=='F') & (df['Dependents'] != '0') & (df['Loan_Status']=='Y')].shape[0]"
      ]
    },
    {
      "cell_type": "code",
      "execution_count": null,
      "metadata": {
        "id": "cuSnF7fTWuch",
        "colab": {
          "base_uri": "https://localhost:8080/"
        },
        "outputId": "0a6c363e-c8ba-468f-e4ef-592faff931d7"
      },
      "outputs": [
        {
          "output_type": "execute_result",
          "data": {
            "text/plain": [
              "54"
            ]
          },
          "metadata": {},
          "execution_count": 210
        }
      ],
      "source": [
        "df[(df['Gender']=='F') & (df['Dependents'] == '0') & (df['Loan_Status']=='Y')].shape[0]"
      ]
    },
    {
      "cell_type": "code",
      "execution_count": null,
      "metadata": {
        "id": "AxJXLgH_ZoTl",
        "colab": {
          "base_uri": "https://localhost:8080/",
          "height": 54
        },
        "outputId": "e50090e9-95fc-4e6f-e8e7-001998495a62"
      },
      "outputs": [
        {
          "output_type": "execute_result",
          "data": {
            "text/plain": [
              "'The loan approval rate for males is approximately 69.3%,\\nwhich is very close to the 67% approval rate for females,\\nindicating no significant gender bias in loan approvals.'"
            ],
            "application/vnd.google.colaboratory.intrinsic+json": {
              "type": "string"
            }
          },
          "metadata": {},
          "execution_count": 211
        }
      ],
      "source": [
        "\"\"\"The loan approval rate for males is approximately 69.3%,\n",
        "which is very close to the 67% approval rate for females,\n",
        "indicating no significant gender bias in loan approvals.\"\"\""
      ]
    },
    {
      "cell_type": "code",
      "execution_count": null,
      "metadata": {
        "id": "hS1ltfhNOWoq"
      },
      "outputs": [],
      "source": [
        "#The bank seems to favor non-dependent females over dependent females.\n"
      ]
    },
    {
      "cell_type": "code",
      "execution_count": null,
      "metadata": {
        "id": "xlu7vosFajpO",
        "colab": {
          "base_uri": "https://localhost:8080/"
        },
        "outputId": "a11445d8-79fa-40b1-c772-aeb0b2f5f112"
      },
      "outputs": [
        {
          "output_type": "execute_result",
          "data": {
            "text/plain": [
              "np.float64(5263.814159292036)"
            ]
          },
          "metadata": {},
          "execution_count": 213
        }
      ],
      "source": [
        "df[(df['Gender']=='M') & (df['Loan_Status']=='Y')]['AI'].mean()"
      ]
    },
    {
      "cell_type": "code",
      "execution_count": null,
      "metadata": {
        "id": "IBeoGPnrbHii",
        "colab": {
          "base_uri": "https://localhost:8080/"
        },
        "outputId": "e914b552-f129-4e00-9b25-4197c588d3fa"
      },
      "outputs": [
        {
          "output_type": "execute_result",
          "data": {
            "text/plain": [
              "np.float64(5859.24)"
            ]
          },
          "metadata": {},
          "execution_count": 214
        }
      ],
      "source": [
        "df[(df['Gender']=='M') & (df['Loan_Status']=='N')]['AI'].mean()"
      ]
    },
    {
      "cell_type": "code",
      "execution_count": null,
      "metadata": {
        "id": "pm2zw4lpbSJ-"
      },
      "outputs": [],
      "source": [
        "#Approved male applicants have a lower average income than those who were not approved."
      ]
    },
    {
      "cell_type": "code",
      "execution_count": null,
      "metadata": {
        "id": "9Pxt-XGUb94N",
        "colab": {
          "base_uri": "https://localhost:8080/"
        },
        "outputId": "08027537-ef01-48fc-dccc-b5506e0f3b22"
      },
      "outputs": [
        {
          "output_type": "execute_result",
          "data": {
            "text/plain": [
              "np.float64(4915.8533333333335)"
            ]
          },
          "metadata": {},
          "execution_count": 216
        }
      ],
      "source": [
        "df[(df['Gender']=='F') & (df['Loan_Status']=='Y')]['AI'].mean()"
      ]
    },
    {
      "cell_type": "code",
      "execution_count": null,
      "metadata": {
        "id": "OBt4HJmfcDGy",
        "colab": {
          "base_uri": "https://localhost:8080/"
        },
        "outputId": "4a37ee46-c1cd-498f-a7b9-5321ab6d6034"
      },
      "outputs": [
        {
          "output_type": "execute_result",
          "data": {
            "text/plain": [
              "np.float64(4091.3513513513512)"
            ]
          },
          "metadata": {},
          "execution_count": 217
        }
      ],
      "source": [
        "df[(df['Gender']=='F') & (df['Loan_Status']=='N')]['AI'].mean()"
      ]
    },
    {
      "cell_type": "code",
      "execution_count": null,
      "metadata": {
        "id": "FByX9T_qcuRl",
        "colab": {
          "base_uri": "https://localhost:8080/",
          "height": 382
        },
        "outputId": "7ad0e538-b0c8-453e-ea52-e6f7d416bd0a"
      },
      "outputs": [
        {
          "output_type": "execute_result",
          "data": {
            "text/plain": [
              "    Gender Married Dependents Education Self_Employed     AI  CAI  LoanAmount  \\\n",
              "54       F     Yes          1         G           Yes  11500  0.0       286.0   \n",
              "113      F      No          1         G           Yes   7451  0.0         NaN   \n",
              "146      F     Yes          2         G            No  14866  0.0        70.0   \n",
              "293      F      No        NaN         G            No   5417  0.0       143.0   \n",
              "430      F      No          1         G           Yes   8624  0.0       150.0   \n",
              "435      F     NaN        NaN         G            No  10047  0.0         NaN   \n",
              "463      F      No          1        NG           NaN   5191  0.0       132.0   \n",
              "509      F      No          1         G            No  13262  0.0        40.0   \n",
              "561      F     Yes          1         G           Yes  19484  0.0       600.0   \n",
              "604      F     Yes          1         G            No  12000  0.0       496.0   \n",
              "\n",
              "    Loan_Amount_Year Credit_History Property_Area Loan_Status  \n",
              "54                30              0         Urban           N  \n",
              "113               30              1     Semiurban           Y  \n",
              "146               30              1         Urban           Y  \n",
              "293               40              0         Urban           N  \n",
              "430               30              1     Semiurban           Y  \n",
              "435               20              1     Semiurban           Y  \n",
              "463               30              1     Semiurban           Y  \n",
              "509               30              1         Urban           Y  \n",
              "561               30              1     Semiurban           Y  \n",
              "604               30              1     Semiurban           Y  "
            ],
            "text/html": [
              "\n",
              "  <div id=\"df-6d12c556-21cd-467e-9b10-18fc6eb4930e\" class=\"colab-df-container\">\n",
              "    <div>\n",
              "<style scoped>\n",
              "    .dataframe tbody tr th:only-of-type {\n",
              "        vertical-align: middle;\n",
              "    }\n",
              "\n",
              "    .dataframe tbody tr th {\n",
              "        vertical-align: top;\n",
              "    }\n",
              "\n",
              "    .dataframe thead th {\n",
              "        text-align: right;\n",
              "    }\n",
              "</style>\n",
              "<table border=\"1\" class=\"dataframe\">\n",
              "  <thead>\n",
              "    <tr style=\"text-align: right;\">\n",
              "      <th></th>\n",
              "      <th>Gender</th>\n",
              "      <th>Married</th>\n",
              "      <th>Dependents</th>\n",
              "      <th>Education</th>\n",
              "      <th>Self_Employed</th>\n",
              "      <th>AI</th>\n",
              "      <th>CAI</th>\n",
              "      <th>LoanAmount</th>\n",
              "      <th>Loan_Amount_Year</th>\n",
              "      <th>Credit_History</th>\n",
              "      <th>Property_Area</th>\n",
              "      <th>Loan_Status</th>\n",
              "    </tr>\n",
              "  </thead>\n",
              "  <tbody>\n",
              "    <tr>\n",
              "      <th>54</th>\n",
              "      <td>F</td>\n",
              "      <td>Yes</td>\n",
              "      <td>1</td>\n",
              "      <td>G</td>\n",
              "      <td>Yes</td>\n",
              "      <td>11500</td>\n",
              "      <td>0.0</td>\n",
              "      <td>286.0</td>\n",
              "      <td>30</td>\n",
              "      <td>0</td>\n",
              "      <td>Urban</td>\n",
              "      <td>N</td>\n",
              "    </tr>\n",
              "    <tr>\n",
              "      <th>113</th>\n",
              "      <td>F</td>\n",
              "      <td>No</td>\n",
              "      <td>1</td>\n",
              "      <td>G</td>\n",
              "      <td>Yes</td>\n",
              "      <td>7451</td>\n",
              "      <td>0.0</td>\n",
              "      <td>NaN</td>\n",
              "      <td>30</td>\n",
              "      <td>1</td>\n",
              "      <td>Semiurban</td>\n",
              "      <td>Y</td>\n",
              "    </tr>\n",
              "    <tr>\n",
              "      <th>146</th>\n",
              "      <td>F</td>\n",
              "      <td>Yes</td>\n",
              "      <td>2</td>\n",
              "      <td>G</td>\n",
              "      <td>No</td>\n",
              "      <td>14866</td>\n",
              "      <td>0.0</td>\n",
              "      <td>70.0</td>\n",
              "      <td>30</td>\n",
              "      <td>1</td>\n",
              "      <td>Urban</td>\n",
              "      <td>Y</td>\n",
              "    </tr>\n",
              "    <tr>\n",
              "      <th>293</th>\n",
              "      <td>F</td>\n",
              "      <td>No</td>\n",
              "      <td>NaN</td>\n",
              "      <td>G</td>\n",
              "      <td>No</td>\n",
              "      <td>5417</td>\n",
              "      <td>0.0</td>\n",
              "      <td>143.0</td>\n",
              "      <td>40</td>\n",
              "      <td>0</td>\n",
              "      <td>Urban</td>\n",
              "      <td>N</td>\n",
              "    </tr>\n",
              "    <tr>\n",
              "      <th>430</th>\n",
              "      <td>F</td>\n",
              "      <td>No</td>\n",
              "      <td>1</td>\n",
              "      <td>G</td>\n",
              "      <td>Yes</td>\n",
              "      <td>8624</td>\n",
              "      <td>0.0</td>\n",
              "      <td>150.0</td>\n",
              "      <td>30</td>\n",
              "      <td>1</td>\n",
              "      <td>Semiurban</td>\n",
              "      <td>Y</td>\n",
              "    </tr>\n",
              "    <tr>\n",
              "      <th>435</th>\n",
              "      <td>F</td>\n",
              "      <td>NaN</td>\n",
              "      <td>NaN</td>\n",
              "      <td>G</td>\n",
              "      <td>No</td>\n",
              "      <td>10047</td>\n",
              "      <td>0.0</td>\n",
              "      <td>NaN</td>\n",
              "      <td>20</td>\n",
              "      <td>1</td>\n",
              "      <td>Semiurban</td>\n",
              "      <td>Y</td>\n",
              "    </tr>\n",
              "    <tr>\n",
              "      <th>463</th>\n",
              "      <td>F</td>\n",
              "      <td>No</td>\n",
              "      <td>1</td>\n",
              "      <td>NG</td>\n",
              "      <td>NaN</td>\n",
              "      <td>5191</td>\n",
              "      <td>0.0</td>\n",
              "      <td>132.0</td>\n",
              "      <td>30</td>\n",
              "      <td>1</td>\n",
              "      <td>Semiurban</td>\n",
              "      <td>Y</td>\n",
              "    </tr>\n",
              "    <tr>\n",
              "      <th>509</th>\n",
              "      <td>F</td>\n",
              "      <td>No</td>\n",
              "      <td>1</td>\n",
              "      <td>G</td>\n",
              "      <td>No</td>\n",
              "      <td>13262</td>\n",
              "      <td>0.0</td>\n",
              "      <td>40.0</td>\n",
              "      <td>30</td>\n",
              "      <td>1</td>\n",
              "      <td>Urban</td>\n",
              "      <td>Y</td>\n",
              "    </tr>\n",
              "    <tr>\n",
              "      <th>561</th>\n",
              "      <td>F</td>\n",
              "      <td>Yes</td>\n",
              "      <td>1</td>\n",
              "      <td>G</td>\n",
              "      <td>Yes</td>\n",
              "      <td>19484</td>\n",
              "      <td>0.0</td>\n",
              "      <td>600.0</td>\n",
              "      <td>30</td>\n",
              "      <td>1</td>\n",
              "      <td>Semiurban</td>\n",
              "      <td>Y</td>\n",
              "    </tr>\n",
              "    <tr>\n",
              "      <th>604</th>\n",
              "      <td>F</td>\n",
              "      <td>Yes</td>\n",
              "      <td>1</td>\n",
              "      <td>G</td>\n",
              "      <td>No</td>\n",
              "      <td>12000</td>\n",
              "      <td>0.0</td>\n",
              "      <td>496.0</td>\n",
              "      <td>30</td>\n",
              "      <td>1</td>\n",
              "      <td>Semiurban</td>\n",
              "      <td>Y</td>\n",
              "    </tr>\n",
              "  </tbody>\n",
              "</table>\n",
              "</div>\n",
              "    <div class=\"colab-df-buttons\">\n",
              "\n",
              "  <div class=\"colab-df-container\">\n",
              "    <button class=\"colab-df-convert\" onclick=\"convertToInteractive('df-6d12c556-21cd-467e-9b10-18fc6eb4930e')\"\n",
              "            title=\"Convert this dataframe to an interactive table.\"\n",
              "            style=\"display:none;\">\n",
              "\n",
              "  <svg xmlns=\"http://www.w3.org/2000/svg\" height=\"24px\" viewBox=\"0 -960 960 960\">\n",
              "    <path d=\"M120-120v-720h720v720H120Zm60-500h600v-160H180v160Zm220 220h160v-160H400v160Zm0 220h160v-160H400v160ZM180-400h160v-160H180v160Zm440 0h160v-160H620v160ZM180-180h160v-160H180v160Zm440 0h160v-160H620v160Z\"/>\n",
              "  </svg>\n",
              "    </button>\n",
              "\n",
              "  <style>\n",
              "    .colab-df-container {\n",
              "      display:flex;\n",
              "      gap: 12px;\n",
              "    }\n",
              "\n",
              "    .colab-df-convert {\n",
              "      background-color: #E8F0FE;\n",
              "      border: none;\n",
              "      border-radius: 50%;\n",
              "      cursor: pointer;\n",
              "      display: none;\n",
              "      fill: #1967D2;\n",
              "      height: 32px;\n",
              "      padding: 0 0 0 0;\n",
              "      width: 32px;\n",
              "    }\n",
              "\n",
              "    .colab-df-convert:hover {\n",
              "      background-color: #E2EBFA;\n",
              "      box-shadow: 0px 1px 2px rgba(60, 64, 67, 0.3), 0px 1px 3px 1px rgba(60, 64, 67, 0.15);\n",
              "      fill: #174EA6;\n",
              "    }\n",
              "\n",
              "    .colab-df-buttons div {\n",
              "      margin-bottom: 4px;\n",
              "    }\n",
              "\n",
              "    [theme=dark] .colab-df-convert {\n",
              "      background-color: #3B4455;\n",
              "      fill: #D2E3FC;\n",
              "    }\n",
              "\n",
              "    [theme=dark] .colab-df-convert:hover {\n",
              "      background-color: #434B5C;\n",
              "      box-shadow: 0px 1px 3px 1px rgba(0, 0, 0, 0.15);\n",
              "      filter: drop-shadow(0px 1px 2px rgba(0, 0, 0, 0.3));\n",
              "      fill: #FFFFFF;\n",
              "    }\n",
              "  </style>\n",
              "\n",
              "    <script>\n",
              "      const buttonEl =\n",
              "        document.querySelector('#df-6d12c556-21cd-467e-9b10-18fc6eb4930e button.colab-df-convert');\n",
              "      buttonEl.style.display =\n",
              "        google.colab.kernel.accessAllowed ? 'block' : 'none';\n",
              "\n",
              "      async function convertToInteractive(key) {\n",
              "        const element = document.querySelector('#df-6d12c556-21cd-467e-9b10-18fc6eb4930e');\n",
              "        const dataTable =\n",
              "          await google.colab.kernel.invokeFunction('convertToInteractive',\n",
              "                                                    [key], {});\n",
              "        if (!dataTable) return;\n",
              "\n",
              "        const docLinkHtml = 'Like what you see? Visit the ' +\n",
              "          '<a target=\"_blank\" href=https://colab.research.google.com/notebooks/data_table.ipynb>data table notebook</a>'\n",
              "          + ' to learn more about interactive tables.';\n",
              "        element.innerHTML = '';\n",
              "        dataTable['output_type'] = 'display_data';\n",
              "        await google.colab.output.renderOutput(dataTable, element);\n",
              "        const docLink = document.createElement('div');\n",
              "        docLink.innerHTML = docLinkHtml;\n",
              "        element.appendChild(docLink);\n",
              "      }\n",
              "    </script>\n",
              "  </div>\n",
              "\n",
              "\n",
              "<div id=\"df-35145534-3a8d-4d78-a3d4-07c8bece8652\">\n",
              "  <button class=\"colab-df-quickchart\" onclick=\"quickchart('df-35145534-3a8d-4d78-a3d4-07c8bece8652')\"\n",
              "            title=\"Suggest charts\"\n",
              "            style=\"display:none;\">\n",
              "\n",
              "<svg xmlns=\"http://www.w3.org/2000/svg\" height=\"24px\"viewBox=\"0 0 24 24\"\n",
              "     width=\"24px\">\n",
              "    <g>\n",
              "        <path d=\"M19 3H5c-1.1 0-2 .9-2 2v14c0 1.1.9 2 2 2h14c1.1 0 2-.9 2-2V5c0-1.1-.9-2-2-2zM9 17H7v-7h2v7zm4 0h-2V7h2v10zm4 0h-2v-4h2v4z\"/>\n",
              "    </g>\n",
              "</svg>\n",
              "  </button>\n",
              "\n",
              "<style>\n",
              "  .colab-df-quickchart {\n",
              "      --bg-color: #E8F0FE;\n",
              "      --fill-color: #1967D2;\n",
              "      --hover-bg-color: #E2EBFA;\n",
              "      --hover-fill-color: #174EA6;\n",
              "      --disabled-fill-color: #AAA;\n",
              "      --disabled-bg-color: #DDD;\n",
              "  }\n",
              "\n",
              "  [theme=dark] .colab-df-quickchart {\n",
              "      --bg-color: #3B4455;\n",
              "      --fill-color: #D2E3FC;\n",
              "      --hover-bg-color: #434B5C;\n",
              "      --hover-fill-color: #FFFFFF;\n",
              "      --disabled-bg-color: #3B4455;\n",
              "      --disabled-fill-color: #666;\n",
              "  }\n",
              "\n",
              "  .colab-df-quickchart {\n",
              "    background-color: var(--bg-color);\n",
              "    border: none;\n",
              "    border-radius: 50%;\n",
              "    cursor: pointer;\n",
              "    display: none;\n",
              "    fill: var(--fill-color);\n",
              "    height: 32px;\n",
              "    padding: 0;\n",
              "    width: 32px;\n",
              "  }\n",
              "\n",
              "  .colab-df-quickchart:hover {\n",
              "    background-color: var(--hover-bg-color);\n",
              "    box-shadow: 0 1px 2px rgba(60, 64, 67, 0.3), 0 1px 3px 1px rgba(60, 64, 67, 0.15);\n",
              "    fill: var(--button-hover-fill-color);\n",
              "  }\n",
              "\n",
              "  .colab-df-quickchart-complete:disabled,\n",
              "  .colab-df-quickchart-complete:disabled:hover {\n",
              "    background-color: var(--disabled-bg-color);\n",
              "    fill: var(--disabled-fill-color);\n",
              "    box-shadow: none;\n",
              "  }\n",
              "\n",
              "  .colab-df-spinner {\n",
              "    border: 2px solid var(--fill-color);\n",
              "    border-color: transparent;\n",
              "    border-bottom-color: var(--fill-color);\n",
              "    animation:\n",
              "      spin 1s steps(1) infinite;\n",
              "  }\n",
              "\n",
              "  @keyframes spin {\n",
              "    0% {\n",
              "      border-color: transparent;\n",
              "      border-bottom-color: var(--fill-color);\n",
              "      border-left-color: var(--fill-color);\n",
              "    }\n",
              "    20% {\n",
              "      border-color: transparent;\n",
              "      border-left-color: var(--fill-color);\n",
              "      border-top-color: var(--fill-color);\n",
              "    }\n",
              "    30% {\n",
              "      border-color: transparent;\n",
              "      border-left-color: var(--fill-color);\n",
              "      border-top-color: var(--fill-color);\n",
              "      border-right-color: var(--fill-color);\n",
              "    }\n",
              "    40% {\n",
              "      border-color: transparent;\n",
              "      border-right-color: var(--fill-color);\n",
              "      border-top-color: var(--fill-color);\n",
              "    }\n",
              "    60% {\n",
              "      border-color: transparent;\n",
              "      border-right-color: var(--fill-color);\n",
              "    }\n",
              "    80% {\n",
              "      border-color: transparent;\n",
              "      border-right-color: var(--fill-color);\n",
              "      border-bottom-color: var(--fill-color);\n",
              "    }\n",
              "    90% {\n",
              "      border-color: transparent;\n",
              "      border-bottom-color: var(--fill-color);\n",
              "    }\n",
              "  }\n",
              "</style>\n",
              "\n",
              "  <script>\n",
              "    async function quickchart(key) {\n",
              "      const quickchartButtonEl =\n",
              "        document.querySelector('#' + key + ' button');\n",
              "      quickchartButtonEl.disabled = true;  // To prevent multiple clicks.\n",
              "      quickchartButtonEl.classList.add('colab-df-spinner');\n",
              "      try {\n",
              "        const charts = await google.colab.kernel.invokeFunction(\n",
              "            'suggestCharts', [key], {});\n",
              "      } catch (error) {\n",
              "        console.error('Error during call to suggestCharts:', error);\n",
              "      }\n",
              "      quickchartButtonEl.classList.remove('colab-df-spinner');\n",
              "      quickchartButtonEl.classList.add('colab-df-quickchart-complete');\n",
              "    }\n",
              "    (() => {\n",
              "      let quickchartButtonEl =\n",
              "        document.querySelector('#df-35145534-3a8d-4d78-a3d4-07c8bece8652 button');\n",
              "      quickchartButtonEl.style.display =\n",
              "        google.colab.kernel.accessAllowed ? 'block' : 'none';\n",
              "    })();\n",
              "  </script>\n",
              "</div>\n",
              "\n",
              "    </div>\n",
              "  </div>\n"
            ],
            "application/vnd.google.colaboratory.intrinsic+json": {
              "type": "dataframe",
              "summary": "{\n  \"name\": \"df[(df['Gender']=='F')& (df['Dependents'] != '0') & (df['AI']>=4915) ]\",\n  \"rows\": 10,\n  \"fields\": [\n    {\n      \"column\": \"Gender\",\n      \"properties\": {\n        \"dtype\": \"category\",\n        \"num_unique_values\": 1,\n        \"samples\": [\n          \"F\"\n        ],\n        \"semantic_type\": \"\",\n        \"description\": \"\"\n      }\n    },\n    {\n      \"column\": \"Married\",\n      \"properties\": {\n        \"dtype\": \"category\",\n        \"num_unique_values\": 2,\n        \"samples\": [\n          \"No\"\n        ],\n        \"semantic_type\": \"\",\n        \"description\": \"\"\n      }\n    },\n    {\n      \"column\": \"Dependents\",\n      \"properties\": {\n        \"dtype\": \"category\",\n        \"num_unique_values\": 2,\n        \"samples\": [\n          \"2\"\n        ],\n        \"semantic_type\": \"\",\n        \"description\": \"\"\n      }\n    },\n    {\n      \"column\": \"Education\",\n      \"properties\": {\n        \"dtype\": \"category\",\n        \"num_unique_values\": 2,\n        \"samples\": [\n          \"NG\"\n        ],\n        \"semantic_type\": \"\",\n        \"description\": \"\"\n      }\n    },\n    {\n      \"column\": \"Self_Employed\",\n      \"properties\": {\n        \"dtype\": \"category\",\n        \"num_unique_values\": 2,\n        \"samples\": [\n          \"No\"\n        ],\n        \"semantic_type\": \"\",\n        \"description\": \"\"\n      }\n    },\n    {\n      \"column\": \"AI\",\n      \"properties\": {\n        \"dtype\": \"number\",\n        \"std\": 4433,\n        \"min\": 5191,\n        \"max\": 19484,\n        \"num_unique_values\": 10,\n        \"samples\": [\n          19484\n        ],\n        \"semantic_type\": \"\",\n        \"description\": \"\"\n      }\n    },\n    {\n      \"column\": \"CAI\",\n      \"properties\": {\n        \"dtype\": \"number\",\n        \"std\": 0.0,\n        \"min\": 0.0,\n        \"max\": 0.0,\n        \"num_unique_values\": 1,\n        \"samples\": [\n          0.0\n        ],\n        \"semantic_type\": \"\",\n        \"description\": \"\"\n      }\n    },\n    {\n      \"column\": \"LoanAmount\",\n      \"properties\": {\n        \"dtype\": \"number\",\n        \"std\": 205.39991480037182,\n        \"min\": 40.0,\n        \"max\": 600.0,\n        \"num_unique_values\": 8,\n        \"samples\": [\n          70.0\n        ],\n        \"semantic_type\": \"\",\n        \"description\": \"\"\n      }\n    },\n    {\n      \"column\": \"Loan_Amount_Year\",\n      \"properties\": {\n        \"dtype\": \"string\",\n        \"num_unique_values\": 3,\n        \"samples\": [\n          \"30\"\n        ],\n        \"semantic_type\": \"\",\n        \"description\": \"\"\n      }\n    },\n    {\n      \"column\": \"Credit_History\",\n      \"properties\": {\n        \"dtype\": \"string\",\n        \"num_unique_values\": 2,\n        \"samples\": [\n          \"1\"\n        ],\n        \"semantic_type\": \"\",\n        \"description\": \"\"\n      }\n    },\n    {\n      \"column\": \"Property_Area\",\n      \"properties\": {\n        \"dtype\": \"category\",\n        \"num_unique_values\": 2,\n        \"samples\": [\n          \"Semiurban\"\n        ],\n        \"semantic_type\": \"\",\n        \"description\": \"\"\n      }\n    },\n    {\n      \"column\": \"Loan_Status\",\n      \"properties\": {\n        \"dtype\": \"category\",\n        \"num_unique_values\": 2,\n        \"samples\": [\n          \"Y\"\n        ],\n        \"semantic_type\": \"\",\n        \"description\": \"\"\n      }\n    }\n  ]\n}"
            }
          },
          "metadata": {},
          "execution_count": 218
        }
      ],
      "source": [
        "df[(df['Gender']=='F')& (df['Dependents'] != '0') & (df['AI']>=4915) ]"
      ]
    },
    {
      "cell_type": "code",
      "execution_count": null,
      "metadata": {
        "id": "x041h4GnJCnR",
        "colab": {
          "base_uri": "https://localhost:8080/"
        },
        "outputId": "e3cc52bd-673e-4dbb-c0d4-8503e38326c1"
      },
      "outputs": [
        {
          "output_type": "execute_result",
          "data": {
            "text/plain": [
              "203"
            ]
          },
          "metadata": {},
          "execution_count": 219
        }
      ],
      "source": [
        "#show the unique\n",
        "df['LoanAmount'].nunique()"
      ]
    },
    {
      "cell_type": "code",
      "source": [
        "df['Education'].value_counts()"
      ],
      "metadata": {
        "id": "hyCFbJox1KfE",
        "colab": {
          "base_uri": "https://localhost:8080/",
          "height": 178
        },
        "outputId": "6394394c-e15a-4f15-e55f-84107b6b6a3c"
      },
      "execution_count": null,
      "outputs": [
        {
          "output_type": "execute_result",
          "data": {
            "text/plain": [
              "Education\n",
              "G     480\n",
              "NG    134\n",
              "Name: count, dtype: int64"
            ],
            "text/html": [
              "<div>\n",
              "<style scoped>\n",
              "    .dataframe tbody tr th:only-of-type {\n",
              "        vertical-align: middle;\n",
              "    }\n",
              "\n",
              "    .dataframe tbody tr th {\n",
              "        vertical-align: top;\n",
              "    }\n",
              "\n",
              "    .dataframe thead th {\n",
              "        text-align: right;\n",
              "    }\n",
              "</style>\n",
              "<table border=\"1\" class=\"dataframe\">\n",
              "  <thead>\n",
              "    <tr style=\"text-align: right;\">\n",
              "      <th></th>\n",
              "      <th>count</th>\n",
              "    </tr>\n",
              "    <tr>\n",
              "      <th>Education</th>\n",
              "      <th></th>\n",
              "    </tr>\n",
              "  </thead>\n",
              "  <tbody>\n",
              "    <tr>\n",
              "      <th>G</th>\n",
              "      <td>480</td>\n",
              "    </tr>\n",
              "    <tr>\n",
              "      <th>NG</th>\n",
              "      <td>134</td>\n",
              "    </tr>\n",
              "  </tbody>\n",
              "</table>\n",
              "</div><br><label><b>dtype:</b> int64</label>"
            ]
          },
          "metadata": {},
          "execution_count": 220
        }
      ]
    },
    {
      "cell_type": "code",
      "source": [
        "per_graduate=(480/614)*100\n",
        "per_Notgraduate=(134/614)*100\n",
        "print('\\n',per_graduate,'\\n', per_Notgraduate)"
      ],
      "metadata": {
        "id": "TqQnTs3b1rni",
        "colab": {
          "base_uri": "https://localhost:8080/"
        },
        "outputId": "85d8f22f-e90f-445d-830a-e656f960a5f6"
      },
      "execution_count": null,
      "outputs": [
        {
          "output_type": "stream",
          "name": "stdout",
          "text": [
            "\n",
            " 78.17589576547232 \n",
            " 21.824104234527688\n"
          ]
        }
      ]
    },
    {
      "cell_type": "code",
      "source": [
        "\"\"\"The percentage(78%) of individuals who completed their education and applied\n",
        " for a loan is higher than the percentage(21%) of those who did not complete their education and applied for a loan\"\"\""
      ],
      "metadata": {
        "id": "ryN9ubdx_T-0",
        "colab": {
          "base_uri": "https://localhost:8080/",
          "height": 54
        },
        "outputId": "607f6e3e-558a-49a0-e093-ef6fe80d8858"
      },
      "execution_count": null,
      "outputs": [
        {
          "output_type": "execute_result",
          "data": {
            "text/plain": [
              "'The percentage(78%) of individuals who completed their education and applied\\n for a loan is higher than the percentage(21%) of those who did not complete their education and applied for a loan'"
            ],
            "application/vnd.google.colaboratory.intrinsic+json": {
              "type": "string"
            }
          },
          "metadata": {},
          "execution_count": 222
        }
      ]
    },
    {
      "cell_type": "code",
      "source": [
        "df[(df['Education']=='NG') & (df['Loan_Status']=='Y')].shape[0]"
      ],
      "metadata": {
        "id": "3WvEia8-2oNa",
        "colab": {
          "base_uri": "https://localhost:8080/"
        },
        "outputId": "0f21607c-2f19-41f9-b006-bb720b622188"
      },
      "execution_count": null,
      "outputs": [
        {
          "output_type": "execute_result",
          "data": {
            "text/plain": [
              "82"
            ]
          },
          "metadata": {},
          "execution_count": 223
        }
      ]
    },
    {
      "cell_type": "code",
      "source": [
        "(82/134)*100"
      ],
      "metadata": {
        "id": "amg2bBIL3RYR",
        "colab": {
          "base_uri": "https://localhost:8080/"
        },
        "outputId": "4c9558e9-cee0-4e8d-bbf7-a2cb324276ca"
      },
      "execution_count": null,
      "outputs": [
        {
          "output_type": "execute_result",
          "data": {
            "text/plain": [
              "61.19402985074627"
            ]
          },
          "metadata": {},
          "execution_count": 224
        }
      ]
    },
    {
      "cell_type": "code",
      "source": [
        "df[(df['Education']=='NG') & (df['Loan_Status']=='N')].shape[0]"
      ],
      "metadata": {
        "id": "sfLVid3-3cC4",
        "colab": {
          "base_uri": "https://localhost:8080/"
        },
        "outputId": "dc1f8ae7-8309-4198-c2a3-66c5bb170d2c"
      },
      "execution_count": null,
      "outputs": [
        {
          "output_type": "execute_result",
          "data": {
            "text/plain": [
              "52"
            ]
          },
          "metadata": {},
          "execution_count": 225
        }
      ]
    },
    {
      "cell_type": "code",
      "source": [
        "(52/134)*100"
      ],
      "metadata": {
        "id": "HbR86jMB3kG7",
        "colab": {
          "base_uri": "https://localhost:8080/"
        },
        "outputId": "55770b1d-3836-4eed-81e4-788e9157dbbc"
      },
      "execution_count": null,
      "outputs": [
        {
          "output_type": "execute_result",
          "data": {
            "text/plain": [
              "38.80597014925373"
            ]
          },
          "metadata": {},
          "execution_count": 226
        }
      ]
    },
    {
      "cell_type": "code",
      "source": [
        "\"\"\"The percentage(61%) of non-educated individuals (NG) who were approved for a loan is higher\n",
        " than the percentage(38%) of non-educated individuals who were denied a loan.\"\"\""
      ],
      "metadata": {
        "id": "BpSJA4TtAvUg",
        "colab": {
          "base_uri": "https://localhost:8080/",
          "height": 54
        },
        "outputId": "9520578a-8656-4dd3-9b75-067c1e6e2499"
      },
      "execution_count": null,
      "outputs": [
        {
          "output_type": "execute_result",
          "data": {
            "text/plain": [
              "'The percentage(61%) of non-educated individuals (NG) who were approved for a loan is higher\\n than the percentage(38%) of non-educated individuals who were denied a loan.'"
            ],
            "application/vnd.google.colaboratory.intrinsic+json": {
              "type": "string"
            }
          },
          "metadata": {},
          "execution_count": 227
        }
      ]
    },
    {
      "cell_type": "code",
      "source": [
        "df[(df['Education']=='G') & (df['Loan_Status']=='Y')].shape[0]"
      ],
      "metadata": {
        "id": "8XFmLBv5-W_8",
        "colab": {
          "base_uri": "https://localhost:8080/"
        },
        "outputId": "8896bc6e-2f8f-4b5e-c908-687a320b3785"
      },
      "execution_count": null,
      "outputs": [
        {
          "output_type": "execute_result",
          "data": {
            "text/plain": [
              "340"
            ]
          },
          "metadata": {},
          "execution_count": 228
        }
      ]
    },
    {
      "cell_type": "code",
      "source": [
        "(340/480)*100"
      ],
      "metadata": {
        "id": "KaP11VSP-pBF",
        "colab": {
          "base_uri": "https://localhost:8080/"
        },
        "outputId": "57847883-4fc8-46b7-8b48-da9005a99abd"
      },
      "execution_count": null,
      "outputs": [
        {
          "output_type": "execute_result",
          "data": {
            "text/plain": [
              "70.83333333333334"
            ]
          },
          "metadata": {},
          "execution_count": 229
        }
      ]
    },
    {
      "cell_type": "code",
      "source": [
        "\"\"\"The percentage(70%) of educated individuals (G) who were approved for a loan is higher\n",
        "than the percentage(30%) of educated individuals who were denied a loan\"\"\""
      ],
      "metadata": {
        "id": "PiYArxoV-92v",
        "colab": {
          "base_uri": "https://localhost:8080/",
          "height": 54
        },
        "outputId": "115638b4-5667-4307-f66a-9d6c23ef7687"
      },
      "execution_count": null,
      "outputs": [
        {
          "output_type": "execute_result",
          "data": {
            "text/plain": [
              "'The percentage(70%) of educated individuals (G) who were approved for a loan is higher\\nthan the percentage(30%) of educated individuals who were denied a loan'"
            ],
            "application/vnd.google.colaboratory.intrinsic+json": {
              "type": "string"
            }
          },
          "metadata": {},
          "execution_count": 230
        }
      ]
    },
    {
      "cell_type": "markdown",
      "source": [
        "# Visualization"
      ],
      "metadata": {
        "id": "qOI3TaikCDf4"
      }
    },
    {
      "cell_type": "code",
      "source": [
        "import seaborn as sns\n",
        "import matplotlib.pyplot as plt"
      ],
      "metadata": {
        "id": "izLo5_58Cc-4"
      },
      "execution_count": null,
      "outputs": []
    },
    {
      "cell_type": "code",
      "source": [
        "plt.figure(figsize=(8,6))\n",
        "sns.boxplot(x=df['LoanAmount'])\n",
        "plt.show()"
      ],
      "metadata": {
        "id": "YcO8DnL7DP0p",
        "colab": {
          "base_uri": "https://localhost:8080/",
          "height": 550
        },
        "outputId": "dc63b9c6-d1ca-49f0-a2ca-5c7ca3dadfed"
      },
      "execution_count": null,
      "outputs": [
        {
          "output_type": "display_data",
          "data": {
            "text/plain": [
              "<Figure size 800x600 with 1 Axes>"
            ],
            "image/png": "[encoded data removed]"
          },
          "metadata": {}
        }
      ]
    },
    {
      "cell_type": "code",
      "source": [
        "df[df['LoanAmount']>=280].shape[0]\n",
        "#There are 35 outliers in the loan amounts distribution"
      ],
      "metadata": {
        "id": "lPcxCPStCZB5",
        "colab": {
          "base_uri": "https://localhost:8080/"
        },
        "outputId": "516ec51b-86a0-40d8-8eda-1a176537e0ac"
      },
      "execution_count": null,
      "outputs": [
        {
          "output_type": "execute_result",
          "data": {
            "text/plain": [
              "35"
            ]
          },
          "metadata": {},
          "execution_count": 233
        }
      ]
    },
    {
      "cell_type": "markdown",
      "source": [
        "The outliers in the LoanAmount column are more common among those who were approved or not"
      ],
      "metadata": {
        "id": "Id_dqGt4yiy8"
      }
    },
    {
      "cell_type": "code",
      "source": [
        "plt.figure(figsize=(6,6))\n",
        "sns.boxplot(x=df['LoanAmount'],y=df['Loan_Status'])\n",
        "plt.show()"
      ],
      "metadata": {
        "id": "YC-5IlpCzoU1",
        "colab": {
          "base_uri": "https://localhost:8080/",
          "height": 550
        },
        "outputId": "090f2676-4068-469f-c2e2-b685596cd9de"
      },
      "execution_count": null,
      "outputs": [
        {
          "output_type": "display_data",
          "data": {
            "text/plain": [
              "<Figure size 600x600 with 1 Axes>"
            ],
            "image/png": "[encoded data removed]"
          },
          "metadata": {}
        }
      ]
    },
    {
      "cell_type": "code",
      "source": [
        "plt.figure(figsize=(6,6))\n",
        "sns.boxplot(x=df['LoanAmount'],y=df['Gender'])\n",
        "plt.show()"
      ],
      "metadata": {
        "id": "UsqcsGM51mCT",
        "colab": {
          "base_uri": "https://localhost:8080/",
          "height": 550
        },
        "outputId": "d74caa5a-de8d-4d8b-f808-9845b73b8232"
      },
      "execution_count": null,
      "outputs": [
        {
          "output_type": "display_data",
          "data": {
            "text/plain": [
              "<Figure size 600x600 with 1 Axes>"
            ],
            "image/png": "[encoded data removed]"
          },
          "metadata": {}
        }
      ]
    },
    {
      "cell_type": "code",
      "source": [
        "plt.figure(figsize=(4,4))\n",
        "sns.barplot(x=df['Loan_Status'],y=df['LoanAmount'],palette='coolwarm')\n",
        "plt.show()"
      ],
      "metadata": {
        "id": "8flL0kepHxuQ",
        "colab": {
          "base_uri": "https://localhost:8080/",
          "height": 396
        },
        "outputId": "8f439f1c-96e2-423a-e903-e6a8197fee41"
      },
      "execution_count": null,
      "outputs": [
        {
          "output_type": "display_data",
          "data": {
            "text/plain": [
              "<Figure size 400x400 with 1 Axes>"
            ],
            "image/png": "[encoded data removed]"
          },
          "metadata": {}
        }
      ]
    },
    {
      "cell_type": "code",
      "source": [
        "plt.figure(figsize=(4, 4))\n",
        "sns.heatmap(df.corr(numeric_only=True), annot=True)\n",
        "plt.show()\n"
      ],
      "metadata": {
        "id": "rDWjURPWKq7A",
        "colab": {
          "base_uri": "https://localhost:8080/",
          "height": 379
        },
        "outputId": "5f6cd5b1-becb-4eef-f7e2-a59e333cf3f2"
      },
      "execution_count": null,
      "outputs": [
        {
          "output_type": "display_data",
          "data": {
            "text/plain": [
              "<Figure size 400x400 with 2 Axes>"
            ],
            "image/png": "[encoded data removed]"
          },
          "metadata": {}
        }
      ]
    },
    {
      "cell_type": "code",
      "source": [
        "#distribution : usind to numeric data\n",
        "sns.set(style='darkgrid')\n",
        "fig,axs=plt.subplots(1,3,figsize=(10,4))\n",
        "sns.histplot(df['AI'],ax=axs[0])\n",
        "sns.histplot(df['CAI'],ax=axs[1])\n",
        "sns.histplot(df['LoanAmount'],ax=axs[2])\n"
      ],
      "metadata": {
        "id": "XJB9rTIXLXIT",
        "colab": {
          "base_uri": "https://localhost:8080/",
          "height": 418
        },
        "outputId": "ed9c5fa3-a21f-4bd9-cacf-1f0041cd296c"
      },
      "execution_count": null,
      "outputs": [
        {
          "output_type": "execute_result",
          "data": {
            "text/plain": [
              "<Axes: xlabel='LoanAmount', ylabel='Count'>"
            ]
          },
          "metadata": {},
          "execution_count": 238
        },
        {
          "output_type": "display_data",
          "data": {
            "text/plain": [
              "<Figure size 1000x400 with 3 Axes>"
            ],
            "image/png": "[encoded data removed]"
          },
          "metadata": {}
        }
      ]
    },
    {
      "cell_type": "code",
      "source": [
        "df.describe()"
      ],
      "metadata": {
        "id": "YXtY7Xgx_Njw",
        "colab": {
          "base_uri": "https://localhost:8080/",
          "height": 300
        },
        "outputId": "21073465-e268-468f-a88f-a8b797966053"
      },
      "execution_count": null,
      "outputs": [
        {
          "output_type": "execute_result",
          "data": {
            "text/plain": [
              "                 AI           CAI  LoanAmount\n",
              "count    614.000000    614.000000  592.000000\n",
              "mean    5403.459283   1621.245798  146.412162\n",
              "std     6109.041673   2926.248369   85.587325\n",
              "min      150.000000      0.000000    9.000000\n",
              "25%     2877.500000      0.000000  100.000000\n",
              "50%     3812.500000   1188.500000  128.000000\n",
              "75%     5795.000000   2297.250000  168.000000\n",
              "max    81000.000000  41667.000000  700.000000"
            ],
            "text/html": [
              "\n",
              "  <div id=\"df-e69a6d8f-b2fc-406e-bf42-edf1a0d367f2\" class=\"colab-df-container\">\n",
              "    <div>\n",
              "<style scoped>\n",
              "    .dataframe tbody tr th:only-of-type {\n",
              "        vertical-align: middle;\n",
              "    }\n",
              "\n",
              "    .dataframe tbody tr th {\n",
              "        vertical-align: top;\n",
              "    }\n",
              "\n",
              "    .dataframe thead th {\n",
              "        text-align: right;\n",
              "    }\n",
              "</style>\n",
              "<table border=\"1\" class=\"dataframe\">\n",
              "  <thead>\n",
              "    <tr style=\"text-align: right;\">\n",
              "      <th></th>\n",
              "      <th>AI</th>\n",
              "      <th>CAI</th>\n",
              "      <th>LoanAmount</th>\n",
              "    </tr>\n",
              "  </thead>\n",
              "  <tbody>\n",
              "    <tr>\n",
              "      <th>count</th>\n",
              "      <td>614.000000</td>\n",
              "      <td>614.000000</td>\n",
              "      <td>592.000000</td>\n",
              "    </tr>\n",
              "    <tr>\n",
              "      <th>mean</th>\n",
              "      <td>5403.459283</td>\n",
              "      <td>1621.245798</td>\n",
              "      <td>146.412162</td>\n",
              "    </tr>\n",
              "    <tr>\n",
              "      <th>std</th>\n",
              "      <td>6109.041673</td>\n",
              "      <td>2926.248369</td>\n",
              "      <td>85.587325</td>\n",
              "    </tr>\n",
              "    <tr>\n",
              "      <th>min</th>\n",
              "      <td>150.000000</td>\n",
              "      <td>0.000000</td>\n",
              "      <td>9.000000</td>\n",
              "    </tr>\n",
              "    <tr>\n",
              "      <th>25%</th>\n",
              "      <td>2877.500000</td>\n",
              "      <td>0.000000</td>\n",
              "      <td>100.000000</td>\n",
              "    </tr>\n",
              "    <tr>\n",
              "      <th>50%</th>\n",
              "      <td>3812.500000</td>\n",
              "      <td>1188.500000</td>\n",
              "      <td>128.000000</td>\n",
              "    </tr>\n",
              "    <tr>\n",
              "      <th>75%</th>\n",
              "      <td>5795.000000</td>\n",
              "      <td>2297.250000</td>\n",
              "      <td>168.000000</td>\n",
              "    </tr>\n",
              "    <tr>\n",
              "      <th>max</th>\n",
              "      <td>81000.000000</td>\n",
              "      <td>41667.000000</td>\n",
              "      <td>700.000000</td>\n",
              "    </tr>\n",
              "  </tbody>\n",
              "</table>\n",
              "</div>\n",
              "    <div class=\"colab-df-buttons\">\n",
              "\n",
              "  <div class=\"colab-df-container\">\n",
              "    <button class=\"colab-df-convert\" onclick=\"convertToInteractive('df-e69a6d8f-b2fc-406e-bf42-edf1a0d367f2')\"\n",
              "            title=\"Convert this dataframe to an interactive table.\"\n",
              "            style=\"display:none;\">\n",
              "\n",
              "  <svg xmlns=\"http://www.w3.org/2000/svg\" height=\"24px\" viewBox=\"0 -960 960 960\">\n",
              "    <path d=\"M120-120v-720h720v720H120Zm60-500h600v-160H180v160Zm220 220h160v-160H400v160Zm0 220h160v-160H400v160ZM180-400h160v-160H180v160Zm440 0h160v-160H620v160ZM180-180h160v-160H180v160Zm440 0h160v-160H620v160Z\"/>\n",
              "  </svg>\n",
              "    </button>\n",
              "\n",
              "  <style>\n",
              "    .colab-df-container {\n",
              "      display:flex;\n",
              "      gap: 12px;\n",
              "    }\n",
              "\n",
              "    .colab-df-convert {\n",
              "      background-color: #E8F0FE;\n",
              "      border: none;\n",
              "      border-radius: 50%;\n",
              "      cursor: pointer;\n",
              "      display: none;\n",
              "      fill: #1967D2;\n",
              "      height: 32px;\n",
              "      padding: 0 0 0 0;\n",
              "      width: 32px;\n",
              "    }\n",
              "\n",
              "    .colab-df-convert:hover {\n",
              "      background-color: #E2EBFA;\n",
              "      box-shadow: 0px 1px 2px rgba(60, 64, 67, 0.3), 0px 1px 3px 1px rgba(60, 64, 67, 0.15);\n",
              "      fill: #174EA6;\n",
              "    }\n",
              "\n",
              "    .colab-df-buttons div {\n",
              "      margin-bottom: 4px;\n",
              "    }\n",
              "\n",
              "    [theme=dark] .colab-df-convert {\n",
              "      background-color: #3B4455;\n",
              "      fill: #D2E3FC;\n",
              "    }\n",
              "\n",
              "    [theme=dark] .colab-df-convert:hover {\n",
              "      background-color: #434B5C;\n",
              "      box-shadow: 0px 1px 3px 1px rgba(0, 0, 0, 0.15);\n",
              "      filter: drop-shadow(0px 1px 2px rgba(0, 0, 0, 0.3));\n",
              "      fill: #FFFFFF;\n",
              "    }\n",
              "  </style>\n",
              "\n",
              "    <script>\n",
              "      const buttonEl =\n",
              "        document.querySelector('#df-e69a6d8f-b2fc-406e-bf42-edf1a0d367f2 button.colab-df-convert');\n",
              "      buttonEl.style.display =\n",
              "        google.colab.kernel.accessAllowed ? 'block' : 'none';\n",
              "\n",
              "      async function convertToInteractive(key) {\n",
              "        const element = document.querySelector('#df-e69a6d8f-b2fc-406e-bf42-edf1a0d367f2');\n",
              "        const dataTable =\n",
              "          await google.colab.kernel.invokeFunction('convertToInteractive',\n",
              "                                                    [key], {});\n",
              "        if (!dataTable) return;\n",
              "\n",
              "        const docLinkHtml = 'Like what you see? Visit the ' +\n",
              "          '<a target=\"_blank\" href=https://colab.research.google.com/notebooks/data_table.ipynb>data table notebook</a>'\n",
              "          + ' to learn more about interactive tables.';\n",
              "        element.innerHTML = '';\n",
              "        dataTable['output_type'] = 'display_data';\n",
              "        await google.colab.output.renderOutput(dataTable, element);\n",
              "        const docLink = document.createElement('div');\n",
              "        docLink.innerHTML = docLinkHtml;\n",
              "        element.appendChild(docLink);\n",
              "      }\n",
              "    </script>\n",
              "  </div>\n",
              "\n",
              "\n",
              "<div id=\"df-15e69ba3-9752-42bd-ab6e-e15ef8c6c526\">\n",
              "  <button class=\"colab-df-quickchart\" onclick=\"quickchart('df-15e69ba3-9752-42bd-ab6e-e15ef8c6c526')\"\n",
              "            title=\"Suggest charts\"\n",
              "            style=\"display:none;\">\n",
              "\n",
              "<svg xmlns=\"http://www.w3.org/2000/svg\" height=\"24px\"viewBox=\"0 0 24 24\"\n",
              "     width=\"24px\">\n",
              "    <g>\n",
              "        <path d=\"M19 3H5c-1.1 0-2 .9-2 2v14c0 1.1.9 2 2 2h14c1.1 0 2-.9 2-2V5c0-1.1-.9-2-2-2zM9 17H7v-7h2v7zm4 0h-2V7h2v10zm4 0h-2v-4h2v4z\"/>\n",
              "    </g>\n",
              "</svg>\n",
              "  </button>\n",
              "\n",
              "<style>\n",
              "  .colab-df-quickchart {\n",
              "      --bg-color: #E8F0FE;\n",
              "      --fill-color: #1967D2;\n",
              "      --hover-bg-color: #E2EBFA;\n",
              "      --hover-fill-color: #174EA6;\n",
              "      --disabled-fill-color: #AAA;\n",
              "      --disabled-bg-color: #DDD;\n",
              "  }\n",
              "\n",
              "  [theme=dark] .colab-df-quickchart {\n",
              "      --bg-color: #3B4455;\n",
              "      --fill-color: #D2E3FC;\n",
              "      --hover-bg-color: #434B5C;\n",
              "      --hover-fill-color: #FFFFFF;\n",
              "      --disabled-bg-color: #3B4455;\n",
              "      --disabled-fill-color: #666;\n",
              "  }\n",
              "\n",
              "  .colab-df-quickchart {\n",
              "    background-color: var(--bg-color);\n",
              "    border: none;\n",
              "    border-radius: 50%;\n",
              "    cursor: pointer;\n",
              "    display: none;\n",
              "    fill: var(--fill-color);\n",
              "    height: 32px;\n",
              "    padding: 0;\n",
              "    width: 32px;\n",
              "  }\n",
              "\n",
              "  .colab-df-quickchart:hover {\n",
              "    background-color: var(--hover-bg-color);\n",
              "    box-shadow: 0 1px 2px rgba(60, 64, 67, 0.3), 0 1px 3px 1px rgba(60, 64, 67, 0.15);\n",
              "    fill: var(--button-hover-fill-color);\n",
              "  }\n",
              "\n",
              "  .colab-df-quickchart-complete:disabled,\n",
              "  .colab-df-quickchart-complete:disabled:hover {\n",
              "    background-color: var(--disabled-bg-color);\n",
              "    fill: var(--disabled-fill-color);\n",
              "    box-shadow: none;\n",
              "  }\n",
              "\n",
              "  .colab-df-spinner {\n",
              "    border: 2px solid var(--fill-color);\n",
              "    border-color: transparent;\n",
              "    border-bottom-color: var(--fill-color);\n",
              "    animation:\n",
              "      spin 1s steps(1) infinite;\n",
              "  }\n",
              "\n",
              "  @keyframes spin {\n",
              "    0% {\n",
              "      border-color: transparent;\n",
              "      border-bottom-color: var(--fill-color);\n",
              "      border-left-color: var(--fill-color);\n",
              "    }\n",
              "    20% {\n",
              "      border-color: transparent;\n",
              "      border-left-color: var(--fill-color);\n",
              "      border-top-color: var(--fill-color);\n",
              "    }\n",
              "    30% {\n",
              "      border-color: transparent;\n",
              "      border-left-color: var(--fill-color);\n",
              "      border-top-color: var(--fill-color);\n",
              "      border-right-color: var(--fill-color);\n",
              "    }\n",
              "    40% {\n",
              "      border-color: transparent;\n",
              "      border-right-color: var(--fill-color);\n",
              "      border-top-color: var(--fill-color);\n",
              "    }\n",
              "    60% {\n",
              "      border-color: transparent;\n",
              "      border-right-color: var(--fill-color);\n",
              "    }\n",
              "    80% {\n",
              "      border-color: transparent;\n",
              "      border-right-color: var(--fill-color);\n",
              "      border-bottom-color: var(--fill-color);\n",
              "    }\n",
              "    90% {\n",
              "      border-color: transparent;\n",
              "      border-bottom-color: var(--fill-color);\n",
              "    }\n",
              "  }\n",
              "</style>\n",
              "\n",
              "  <script>\n",
              "    async function quickchart(key) {\n",
              "      const quickchartButtonEl =\n",
              "        document.querySelector('#' + key + ' button');\n",
              "      quickchartButtonEl.disabled = true;  // To prevent multiple clicks.\n",
              "      quickchartButtonEl.classList.add('colab-df-spinner');\n",
              "      try {\n",
              "        const charts = await google.colab.kernel.invokeFunction(\n",
              "            'suggestCharts', [key], {});\n",
              "      } catch (error) {\n",
              "        console.error('Error during call to suggestCharts:', error);\n",
              "      }\n",
              "      quickchartButtonEl.classList.remove('colab-df-spinner');\n",
              "      quickchartButtonEl.classList.add('colab-df-quickchart-complete');\n",
              "    }\n",
              "    (() => {\n",
              "      let quickchartButtonEl =\n",
              "        document.querySelector('#df-15e69ba3-9752-42bd-ab6e-e15ef8c6c526 button');\n",
              "      quickchartButtonEl.style.display =\n",
              "        google.colab.kernel.accessAllowed ? 'block' : 'none';\n",
              "    })();\n",
              "  </script>\n",
              "</div>\n",
              "\n",
              "    </div>\n",
              "  </div>\n"
            ],
            "application/vnd.google.colaboratory.intrinsic+json": {
              "type": "dataframe",
              "summary": "{\n  \"name\": \"df\",\n  \"rows\": 8,\n  \"fields\": [\n    {\n      \"column\": \"AI\",\n      \"properties\": {\n        \"dtype\": \"number\",\n        \"std\": 27480.19432327756,\n        \"min\": 150.0,\n        \"max\": 81000.0,\n        \"num_unique_values\": 8,\n        \"samples\": [\n          5403.459283387622,\n          3812.5,\n          614.0\n        ],\n        \"semantic_type\": \"\",\n        \"description\": \"\"\n      }\n    },\n    {\n      \"column\": \"CAI\",\n      \"properties\": {\n        \"dtype\": \"number\",\n        \"std\": 14332.564053846478,\n        \"min\": 0.0,\n        \"max\": 41667.0,\n        \"num_unique_values\": 7,\n        \"samples\": [\n          614.0,\n          1621.2457980271008,\n          2297.25\n        ],\n        \"semantic_type\": \"\",\n        \"description\": \"\"\n      }\n    },\n    {\n      \"column\": \"LoanAmount\",\n      \"properties\": {\n        \"dtype\": \"number\",\n        \"std\": 256.0091610169859,\n        \"min\": 9.0,\n        \"max\": 700.0,\n        \"num_unique_values\": 8,\n        \"samples\": [\n          146.41216216216216,\n          128.0,\n          592.0\n        ],\n        \"semantic_type\": \"\",\n        \"description\": \"\"\n      }\n    }\n  ]\n}"
            }
          },
          "metadata": {},
          "execution_count": 239
        }
      ]
    },
    {
      "cell_type": "markdown",
      "source": [
        "![image.png](data:image/png;base64,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)"
      ],
      "metadata": {
        "id": "FWPI2TAg6EpI"
      }
    },
    {
      "cell_type": "markdown",
      "source": [
        "#Preprocessing"
      ],
      "metadata": {
        "id": "FE_GVFlO9kCh"
      }
    },
    {
      "cell_type": "code",
      "source": [
        "from sklearn.impute import SimpleImputer"
      ],
      "metadata": {
        "id": "QbyBT_CsC5Rq"
      },
      "execution_count": null,
      "outputs": []
    },
    {
      "cell_type": "code",
      "source": [
        "df=pd.read_csv('loan_CSV.csv')"
      ],
      "metadata": {
        "id": "Z8KOp5KhJTSZ"
      },
      "execution_count": null,
      "outputs": []
    },
    {
      "cell_type": "code",
      "source": [
        "#Missing Value\n",
        "#Missing Value for categorical [\"Gender\",\"Married\",\"Dependents\" ,\"Self_Employed\",\"Credit_History\",\"Loan_Amount_Term\"]\n",
        "#Missing Value for numeric [\"LoanAmount\"]"
      ],
      "metadata": {
        "id": "IqeSyGIN9pA3"
      },
      "execution_count": null,
      "outputs": []
    },
    {
      "cell_type": "code",
      "source": [
        "categorical_columns=[\"Gender\",\"Married\",\"Dependents\" ,\"Self_Employed\",\"Credit_History\",\"Loan_Amount_Term\"]\n",
        "cat=SimpleImputer(strategy='most_frequent')\n",
        "\n",
        "\n",
        "df[categorical_columns]=cat.fit_transform(df[categorical_columns])"
      ],
      "metadata": {
        "id": "emPhSrco-Dyh"
      },
      "execution_count": null,
      "outputs": []
    },
    {
      "cell_type": "code",
      "source": [
        "df.isnull().sum()"
      ],
      "metadata": {
        "id": "3aeVXR6OICnS",
        "colab": {
          "base_uri": "https://localhost:8080/",
          "height": 491
        },
        "outputId": "6e035481-2640-4297-fdc0-d04ed7fadc2e"
      },
      "execution_count": null,
      "outputs": [
        {
          "output_type": "execute_result",
          "data": {
            "text/plain": [
              "Loan_ID               0\n",
              "Gender                0\n",
              "Married               0\n",
              "Dependents            0\n",
              "Education             0\n",
              "Self_Employed         0\n",
              "ApplicantIncome       0\n",
              "CoapplicantIncome     0\n",
              "LoanAmount           22\n",
              "Loan_Amount_Term      0\n",
              "Credit_History        0\n",
              "Property_Area         0\n",
              "Loan_Status           0\n",
              "dtype: int64"
            ],
            "text/html": [
              "<div>\n",
              "<style scoped>\n",
              "    .dataframe tbody tr th:only-of-type {\n",
              "        vertical-align: middle;\n",
              "    }\n",
              "\n",
              "    .dataframe tbody tr th {\n",
              "        vertical-align: top;\n",
              "    }\n",
              "\n",
              "    .dataframe thead th {\n",
              "        text-align: right;\n",
              "    }\n",
              "</style>\n",
              "<table border=\"1\" class=\"dataframe\">\n",
              "  <thead>\n",
              "    <tr style=\"text-align: right;\">\n",
              "      <th></th>\n",
              "      <th>0</th>\n",
              "    </tr>\n",
              "  </thead>\n",
              "  <tbody>\n",
              "    <tr>\n",
              "      <th>Loan_ID</th>\n",
              "      <td>0</td>\n",
              "    </tr>\n",
              "    <tr>\n",
              "      <th>Gender</th>\n",
              "      <td>0</td>\n",
              "    </tr>\n",
              "    <tr>\n",
              "      <th>Married</th>\n",
              "      <td>0</td>\n",
              "    </tr>\n",
              "    <tr>\n",
              "      <th>Dependents</th>\n",
              "      <td>0</td>\n",
              "    </tr>\n",
              "    <tr>\n",
              "      <th>Education</th>\n",
              "      <td>0</td>\n",
              "    </tr>\n",
              "    <tr>\n",
              "      <th>Self_Employed</th>\n",
              "      <td>0</td>\n",
              "    </tr>\n",
              "    <tr>\n",
              "      <th>ApplicantIncome</th>\n",
              "      <td>0</td>\n",
              "    </tr>\n",
              "    <tr>\n",
              "      <th>CoapplicantIncome</th>\n",
              "      <td>0</td>\n",
              "    </tr>\n",
              "    <tr>\n",
              "      <th>LoanAmount</th>\n",
              "      <td>22</td>\n",
              "    </tr>\n",
              "    <tr>\n",
              "      <th>Loan_Amount_Term</th>\n",
              "      <td>0</td>\n",
              "    </tr>\n",
              "    <tr>\n",
              "      <th>Credit_History</th>\n",
              "      <td>0</td>\n",
              "    </tr>\n",
              "    <tr>\n",
              "      <th>Property_Area</th>\n",
              "      <td>0</td>\n",
              "    </tr>\n",
              "    <tr>\n",
              "      <th>Loan_Status</th>\n",
              "      <td>0</td>\n",
              "    </tr>\n",
              "  </tbody>\n",
              "</table>\n",
              "</div><br><label><b>dtype:</b> int64</label>"
            ]
          },
          "metadata": {},
          "execution_count": 244
        }
      ]
    },
    {
      "cell_type": "code",
      "source": [
        "#If the data is normal (without outliers), use the mean.\n",
        "#If the data has many outliers, use the median because it is less affected by extreme values.\n",
        "#Interpolation is used when missing values are between known values, not at the beginning or end.\n",
        "#Interpolation is usually more accurate when there is a clear pattern in the data.\n",
        "#KNN Imputation uses nearby values to fill missing data and is suitable for non-sequential data, especially when outliers are present."
      ],
      "metadata": {
        "id": "ml_caKg_FC5a"
      },
      "execution_count": null,
      "outputs": []
    },
    {
      "cell_type": "code",
      "source": [
        "numeric_columns=['LoanAmount']\n",
        "num=SimpleImputer(strategy='median')\n",
        "df[numeric_columns]=num.fit_transform(df[numeric_columns])"
      ],
      "metadata": {
        "id": "scWaWRCbKf6D"
      },
      "execution_count": null,
      "outputs": []
    },
    {
      "cell_type": "code",
      "source": [
        "df.isnull().sum()"
      ],
      "metadata": {
        "id": "6SpVY9rtNX5K",
        "colab": {
          "base_uri": "https://localhost:8080/",
          "height": 491
        },
        "outputId": "f9dfa101-c1b7-4e42-b97b-15b91c2c1c6d"
      },
      "execution_count": null,
      "outputs": [
        {
          "output_type": "execute_result",
          "data": {
            "text/plain": [
              "Loan_ID              0\n",
              "Gender               0\n",
              "Married              0\n",
              "Dependents           0\n",
              "Education            0\n",
              "Self_Employed        0\n",
              "ApplicantIncome      0\n",
              "CoapplicantIncome    0\n",
              "LoanAmount           0\n",
              "Loan_Amount_Term     0\n",
              "Credit_History       0\n",
              "Property_Area        0\n",
              "Loan_Status          0\n",
              "dtype: int64"
            ],
            "text/html": [
              "<div>\n",
              "<style scoped>\n",
              "    .dataframe tbody tr th:only-of-type {\n",
              "        vertical-align: middle;\n",
              "    }\n",
              "\n",
              "    .dataframe tbody tr th {\n",
              "        vertical-align: top;\n",
              "    }\n",
              "\n",
              "    .dataframe thead th {\n",
              "        text-align: right;\n",
              "    }\n",
              "</style>\n",
              "<table border=\"1\" class=\"dataframe\">\n",
              "  <thead>\n",
              "    <tr style=\"text-align: right;\">\n",
              "      <th></th>\n",
              "      <th>0</th>\n",
              "    </tr>\n",
              "  </thead>\n",
              "  <tbody>\n",
              "    <tr>\n",
              "      <th>Loan_ID</th>\n",
              "      <td>0</td>\n",
              "    </tr>\n",
              "    <tr>\n",
              "      <th>Gender</th>\n",
              "      <td>0</td>\n",
              "    </tr>\n",
              "    <tr>\n",
              "      <th>Married</th>\n",
              "      <td>0</td>\n",
              "    </tr>\n",
              "    <tr>\n",
              "      <th>Dependents</th>\n",
              "      <td>0</td>\n",
              "    </tr>\n",
              "    <tr>\n",
              "      <th>Education</th>\n",
              "      <td>0</td>\n",
              "    </tr>\n",
              "    <tr>\n",
              "      <th>Self_Employed</th>\n",
              "      <td>0</td>\n",
              "    </tr>\n",
              "    <tr>\n",
              "      <th>ApplicantIncome</th>\n",
              "      <td>0</td>\n",
              "    </tr>\n",
              "    <tr>\n",
              "      <th>CoapplicantIncome</th>\n",
              "      <td>0</td>\n",
              "    </tr>\n",
              "    <tr>\n",
              "      <th>LoanAmount</th>\n",
              "      <td>0</td>\n",
              "    </tr>\n",
              "    <tr>\n",
              "      <th>Loan_Amount_Term</th>\n",
              "      <td>0</td>\n",
              "    </tr>\n",
              "    <tr>\n",
              "      <th>Credit_History</th>\n",
              "      <td>0</td>\n",
              "    </tr>\n",
              "    <tr>\n",
              "      <th>Property_Area</th>\n",
              "      <td>0</td>\n",
              "    </tr>\n",
              "    <tr>\n",
              "      <th>Loan_Status</th>\n",
              "      <td>0</td>\n",
              "    </tr>\n",
              "  </tbody>\n",
              "</table>\n",
              "</div><br><label><b>dtype:</b> int64</label>"
            ]
          },
          "metadata": {},
          "execution_count": 247
        }
      ]
    },
    {
      "cell_type": "code",
      "source": [
        "df.drop(columns=['Loan_ID'],inplace=True)"
      ],
      "metadata": {
        "id": "NyAM2oTgPW_k"
      },
      "execution_count": null,
      "outputs": []
    },
    {
      "cell_type": "code",
      "source": [
        "df.drop(index=1,inplace=True)\n",
        "df.reset_index(drop=True,inplace=True) #Hide this line to test the model after training."
      ],
      "metadata": {
        "id": "ViOfgY5RKixA"
      },
      "execution_count": null,
      "outputs": []
    },
    {
      "cell_type": "code",
      "source": [
        "df.shape"
      ],
      "metadata": {
        "colab": {
          "base_uri": "https://localhost:8080/"
        },
        "id": "YcdR9Ow8LJL4",
        "outputId": "53e83cde-eb7d-4458-df4c-8216da55567e"
      },
      "execution_count": null,
      "outputs": [
        {
          "output_type": "execute_result",
          "data": {
            "text/plain": [
              "(613, 12)"
            ]
          },
          "metadata": {},
          "execution_count": 250
        }
      ]
    },
    {
      "cell_type": "markdown",
      "source": [
        "![image.png](data:image/png;base64,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)"
      ],
      "metadata": {
        "id": "D4jy1TaAK9Fc"
      }
    },
    {
      "cell_type": "markdown",
      "source": [
        "#Encoder"
      ],
      "metadata": {
        "id": "IeZcZqw2W7Pu"
      }
    },
    {
      "cell_type": "code",
      "source": [
        "#One-Hot Encoding:Converts each category into separate binary columns(0 or 1).It is best suited for a small number of categories but can significantly increase dimensionality when dealing with many categories. This method removes any inherent relationship between the categories within a column\n",
        "#Ordinal Encoding:Assigns numerical values to categories in a specific order(e.g.,Low=1,Medium=2,High=3).It is suitable for Decision Trees and Random Forests,but may not be ideal for Logistic Regression as it can mislead models by implying a numerical relationship between categories\n",
        "#Label Encoding:Replaces categories with numerical values.Works well with Tree-Based Models but can create issues in linear models due to unintended numerical relationships.\n",
        "#Target Encoding:Replaces categories with the mean of the target variable for that category. Useful for high-cardinality features but may cause Overfitting if not handled properly.(using with complex dataset)\n",
        "#Frequency Encoding:Replaces categories with their frequency in the dataset.Useful for handling high-cardinality features but does not capture relationships between categories."
      ],
      "metadata": {
        "id": "J6hemaBEi52k"
      },
      "execution_count": null,
      "outputs": []
    },
    {
      "cell_type": "code",
      "source": [
        "from sklearn.preprocessing import LabelEncoder,OneHotEncoder\n",
        "encod=LabelEncoder()\n",
        "encoder=OneHotEncoder(sparse_output=False,drop='first') #By default,OneHotEncoder arranges categories in alphabetical order\n",
        "#Using drop='first'with OneHotEncoder removes the first encoded column to reduce dimensionality and avoid the Dummy Variable Trap"
      ],
      "metadata": {
        "id": "-cSBtiZmXG3a"
      },
      "execution_count": null,
      "outputs": []
    },
    {
      "cell_type": "code",
      "source": [
        "df['Loan_Amount_Term']=(df['Loan_Amount_Term'].astype(float)/12).astype(int)"
      ],
      "metadata": {
        "id": "rJfETCSlhDLi"
      },
      "execution_count": null,
      "outputs": []
    },
    {
      "cell_type": "code",
      "source": [
        "label_encoder_list=[\"Gender\",\"Married\",\"Self_Employed\",\"Credit_History\",\"Loan_Status\",'Education']\n",
        "for i in label_encoder_list:\n",
        "\n",
        "  df[i]=encod.fit_transform(df[i])\n",
        "  mapping=dict(zip(encod.classes_,encod.transform(encod.classes_)))\n",
        "  print(mapping)"
      ],
      "metadata": {
        "id": "IUu-bTR4dKEM",
        "colab": {
          "base_uri": "https://localhost:8080/"
        },
        "outputId": "56d55c75-a31e-44e6-fc95-763cc14003a1"
      },
      "execution_count": null,
      "outputs": [
        {
          "output_type": "stream",
          "name": "stdout",
          "text": [
            "{'Female': np.int64(0), 'Male': np.int64(1)}\n",
            "{'No': np.int64(0), 'Yes': np.int64(1)}\n",
            "{'No': np.int64(0), 'Yes': np.int64(1)}\n",
            "{0.0: np.int64(0), 1.0: np.int64(1)}\n",
            "{'N': np.int64(0), 'Y': np.int64(1)}\n",
            "{'Graduate': np.int64(0), 'Not Graduate': np.int64(1)}\n"
          ]
        }
      ]
    },
    {
      "cell_type": "code",
      "source": [
        "Hot_encoder_list=[\"Dependents\",\"Property_Area\"]\n",
        "encoded_data=encoder.fit_transform(df[Hot_encoder_list])\n",
        "encoded_columns=encoder.get_feature_names_out(Hot_encoder_list)\n",
        "df.drop(columns=Hot_encoder_list,inplace=True)\n",
        "df=df.join(pd.DataFrame(encoded_data,columns=encoded_columns))\n"
      ],
      "metadata": {
        "id": "8QjijED9exQ8"
      },
      "execution_count": null,
      "outputs": []
    },
    {
      "cell_type": "code",
      "source": [
        "encoded_columns"
      ],
      "metadata": {
        "colab": {
          "base_uri": "https://localhost:8080/"
        },
        "id": "5zj6RgECh0up",
        "outputId": "3c8e07e4-a5b7-4036-d218-8533663809c9"
      },
      "execution_count": null,
      "outputs": [
        {
          "output_type": "execute_result",
          "data": {
            "text/plain": [
              "array(['Dependents_1', 'Dependents_2', 'Dependents_3+',\n",
              "       'Property_Area_Semiurban', 'Property_Area_Urban'], dtype=object)"
            ]
          },
          "metadata": {},
          "execution_count": 256
        }
      ]
    },
    {
      "cell_type": "markdown",
      "source": [
        "#Transformation"
      ],
      "metadata": {
        "id": "aWhQeZwzQ9ND"
      }
    },
    {
      "cell_type": "code",
      "source": [
        "df_copy=df.copy()\n",
        "df_copy_2=df.copy()\n",
        "df_3=df.copy()"
      ],
      "metadata": {
        "id": "2yDq0ngrmWax"
      },
      "execution_count": null,
      "outputs": []
    },
    {
      "cell_type": "code",
      "source": [
        "\"\"\"Use np.log1p() for safe logarithmic transformation,especially if the data contains zero values,\n",
        "but it does not work with negative values and results in NaN,\n",
        "so they should be handled beforehand\"\"\"\n",
        "np.log1p(80000)\n"
      ],
      "metadata": {
        "colab": {
          "base_uri": "https://localhost:8080/"
        },
        "id": "7mDB-ArYRJPT",
        "outputId": "af654ed0-5ea5-4ddd-febf-29f3c556124b"
      },
      "execution_count": null,
      "outputs": [
        {
          "output_type": "execute_result",
          "data": {
            "text/plain": [
              "np.float64(11.289794413577894)"
            ]
          },
          "metadata": {},
          "execution_count": 258
        }
      ]
    },
    {
      "cell_type": "code",
      "source": [
        "df_copy.ApplicantIncome=np.log1p(df_copy.ApplicantIncome)\n",
        "df_copy.CoapplicantIncome=np.log1p(df_copy.CoapplicantIncome)\n",
        "df_copy.LoanAmount=np.log1p(df_copy.LoanAmount)"
      ],
      "metadata": {
        "id": "HhIAqX2Pk3rE"
      },
      "execution_count": null,
      "outputs": []
    },
    {
      "cell_type": "code",
      "source": [
        "sns.set(style='darkgrid')\n",
        "fig,axs=plt.subplots(1,3,figsize=(10,4))\n",
        "sns.histplot(df_copy['ApplicantIncome'],ax=axs[0])\n",
        "sns.histplot(df_copy['CoapplicantIncome'],ax=axs[1])\n",
        "sns.histplot(df_copy['LoanAmount'],ax=axs[2])"
      ],
      "metadata": {
        "colab": {
          "base_uri": "https://localhost:8080/",
          "height": 414
        },
        "id": "bTNw8OJdkhCR",
        "outputId": "84e82277-15c1-40e1-fabe-e92ffb3376c5"
      },
      "execution_count": null,
      "outputs": [
        {
          "output_type": "execute_result",
          "data": {
            "text/plain": [
              "<Axes: xlabel='LoanAmount', ylabel='Count'>"
            ]
          },
          "metadata": {},
          "execution_count": 260
        },
        {
          "output_type": "display_data",
          "data": {
            "text/plain": [
              "<Figure size 1000x400 with 3 Axes>"
            ],
            "image/png": "[encoded data removed]"
          },
          "metadata": {}
        }
      ]
    },
    {
      "cell_type": "code",
      "source": [
        "\"\"\"The Square Root Transformation is used to reduce right-skewness in data while preserving zero values.\n",
        "It is useful for stabilizing variance but does not work with negative values,\n",
        "as the square root of a negative number is undefined in real numbers.\n",
        "Use np.sqrt(data) to apply this transformation, but make sure all values are non-negative before applying it\"\"\"\n",
        "np.sqrt(80000)"
      ],
      "metadata": {
        "colab": {
          "base_uri": "https://localhost:8080/"
        },
        "id": "cOk3c5bqWdo9",
        "outputId": "99439ab6-9053-486e-db6d-7e294bbd32be"
      },
      "execution_count": null,
      "outputs": [
        {
          "output_type": "execute_result",
          "data": {
            "text/plain": [
              "np.float64(282.842712474619)"
            ]
          },
          "metadata": {},
          "execution_count": 261
        }
      ]
    },
    {
      "cell_type": "code",
      "source": [
        "df_copy_2.ApplicantIncome=np.sqrt(df_copy_2.ApplicantIncome)\n",
        "df_copy_2.CoapplicantIncome=np.sqrt(df_copy_2.CoapplicantIncome)\n",
        "df_copy_2.LoanAmount=np.sqrt(df_copy_2.LoanAmount)"
      ],
      "metadata": {
        "id": "pygRc3Eum481"
      },
      "execution_count": null,
      "outputs": []
    },
    {
      "cell_type": "code",
      "source": [
        "sns.set(style='darkgrid')\n",
        "fig,axs=plt.subplots(1,3,figsize=(10,4))\n",
        "sns.histplot(df_copy_2['ApplicantIncome'],ax=axs[0])\n",
        "sns.histplot(df_copy_2['CoapplicantIncome'],ax=axs[1])\n",
        "sns.histplot(df_copy_2['LoanAmount'],ax=axs[2])"
      ],
      "metadata": {
        "colab": {
          "base_uri": "https://localhost:8080/",
          "height": 414
        },
        "id": "wUdrRKyZjVbG",
        "outputId": "02204509-19c2-4ede-ca83-963d1848c551"
      },
      "execution_count": null,
      "outputs": [
        {
          "output_type": "execute_result",
          "data": {
            "text/plain": [
              "<Axes: xlabel='LoanAmount', ylabel='Count'>"
            ]
          },
          "metadata": {},
          "execution_count": 263
        },
        {
          "output_type": "display_data",
          "data": {
            "text/plain": [
              "<Figure size 1000x400 with 3 Axes>"
            ],
            "image/png": "[encoded data removed]"
          },
          "metadata": {}
        }
      ]
    },
    {
      "cell_type": "code",
      "source": [
        "\"\"\"Apply square root transformation to CoapplicantIncome,\n",
        "and apply log transformation to ApplicantIncome and LoanAmount\"\"\""
      ],
      "metadata": {
        "colab": {
          "base_uri": "https://localhost:8080/",
          "height": 36
        },
        "id": "LtAPCCG4X4Th",
        "outputId": "33bad2c0-42f2-4e83-c8a8-9526808db143"
      },
      "execution_count": null,
      "outputs": [
        {
          "output_type": "execute_result",
          "data": {
            "text/plain": [
              "'Apply square root transformation to CoapplicantIncome,\\nand apply log transformation to ApplicantIncome and LoanAmount'"
            ],
            "application/vnd.google.colaboratory.intrinsic+json": {
              "type": "string"
            }
          },
          "metadata": {},
          "execution_count": 264
        }
      ]
    },
    {
      "cell_type": "code",
      "source": [
        "df.CoapplicantIncome=np.sqrt(df.CoapplicantIncome)\n",
        "df.ApplicantIncome=np.log1p(df.ApplicantIncome)\n",
        "df.LoanAmount=np.log1p(df.LoanAmount)"
      ],
      "metadata": {
        "id": "6ooJeEjypr34"
      },
      "execution_count": null,
      "outputs": []
    },
    {
      "cell_type": "code",
      "source": [
        "sns.set(style='darkgrid')\n",
        "fig,axs=plt.subplots(1,3,figsize=(10,4))\n",
        "sns.histplot(df['ApplicantIncome'],ax=axs[0])\n",
        "sns.histplot(df['CoapplicantIncome'],ax=axs[1])\n",
        "sns.histplot(df['LoanAmount'],ax=axs[2])"
      ],
      "metadata": {
        "colab": {
          "base_uri": "https://localhost:8080/",
          "height": 414
        },
        "id": "u-F4DdTpx-hW",
        "outputId": "b586894f-b472-4651-acb0-9bef9a45d483"
      },
      "execution_count": null,
      "outputs": [
        {
          "output_type": "execute_result",
          "data": {
            "text/plain": [
              "<Axes: xlabel='LoanAmount', ylabel='Count'>"
            ]
          },
          "metadata": {},
          "execution_count": 266
        },
        {
          "output_type": "display_data",
          "data": {
            "text/plain": [
              "<Figure size 1000x400 with 3 Axes>"
            ],
            "image/png": "[encoded data removed]"
          },
          "metadata": {}
        }
      ]
    },
    {
      "cell_type": "markdown",
      "source": [
        "#Scaling"
      ],
      "metadata": {
        "id": "wetsR2MF1egP"
      }
    },
    {
      "cell_type": "code",
      "source": [
        "#MinMaxScaler:Scales values between 0 and 1,preserving the original distribution but sensitive to outliers.\n",
        "#StandardScaler:Transforms values so that the mean=0 and standard deviation=1,suitable for normally distributed data.\n",
        "#RobustScaler:Uses the median and interquartile range(IQR),making it more resistant to outliers compared to other methods"
      ],
      "metadata": {
        "id": "R2delPhVxphO"
      },
      "execution_count": null,
      "outputs": []
    },
    {
      "cell_type": "code",
      "source": [
        "from sklearn.preprocessing import MinMaxScaler,StandardScaler, RobustScaler"
      ],
      "metadata": {
        "id": "NNNd0bXm1oDI"
      },
      "execution_count": null,
      "outputs": []
    },
    {
      "cell_type": "code",
      "source": [
        "df_copy_1=df.copy()\n",
        "df_copy_2=df.copy()\n",
        "df_copy_3=df.copy()"
      ],
      "metadata": {
        "id": "NQqXhQ7-x9K_"
      },
      "execution_count": null,
      "outputs": []
    },
    {
      "cell_type": "code",
      "source": [
        "scaler_1=MinMaxScaler()\n",
        "scale_columns=['ApplicantIncome','CoapplicantIncome','LoanAmount']\n",
        "df_copy_1[scale_columns]=scaler_1.fit_transform(df_copy_1[scale_columns])"
      ],
      "metadata": {
        "id": "tshn-1Gl0ZML"
      },
      "execution_count": null,
      "outputs": []
    },
    {
      "cell_type": "code",
      "source": [
        "sns.set(style='darkgrid')\n",
        "fig,axs=plt.subplots(1,3,figsize=(10,4))\n",
        "sns.histplot(df_copy_1['ApplicantIncome'],ax=axs[0])\n",
        "sns.histplot(df_copy_1['CoapplicantIncome'],ax=axs[1])\n",
        "sns.histplot(df_copy_1['LoanAmount'],ax=axs[2])"
      ],
      "metadata": {
        "colab": {
          "base_uri": "https://localhost:8080/",
          "height": 414
        },
        "id": "wQC3-HQt0z7K",
        "outputId": "19d957c5-13b7-4b69-fb87-d59a36aa8f28"
      },
      "execution_count": null,
      "outputs": [
        {
          "output_type": "execute_result",
          "data": {
            "text/plain": [
              "<Axes: xlabel='LoanAmount', ylabel='Count'>"
            ]
          },
          "metadata": {},
          "execution_count": 271
        },
        {
          "output_type": "display_data",
          "data": {
            "text/plain": [
              "<Figure size 1000x400 with 3 Axes>"
            ],
            "image/png": "[encoded data removed]"
          },
          "metadata": {}
        }
      ]
    },
    {
      "cell_type": "code",
      "source": [
        "plt.figure(figsize=(8,6))\n",
        "plt.subplot(1,3,1)\n",
        "sns.boxplot(y=df_copy_1['ApplicantIncome'])\n",
        "plt.subplot(1,3,2)\n",
        "sns.boxplot(y=df_copy_1['CoapplicantIncome'])\n",
        "plt.subplot(1,3,3)\n",
        "sns.boxplot(y=df_copy_1['LoanAmount'])\n",
        "plt.show()"
      ],
      "metadata": {
        "colab": {
          "base_uri": "https://localhost:8080/",
          "height": 499
        },
        "id": "Qeno55XV5bXp",
        "outputId": "b69a40ef-65d1-49e9-f7b7-aaf83851664c"
      },
      "execution_count": null,
      "outputs": [
        {
          "output_type": "display_data",
          "data": {
            "text/plain": [
              "<Figure size 800x600 with 3 Axes>"
            ],
            "image/png": "[encoded data removed]"
          },
          "metadata": {}
        }
      ]
    },
    {
      "cell_type": "code",
      "source": [
        "scaler_2=StandardScaler()\n",
        "scale_columns=['ApplicantIncome','CoapplicantIncome','LoanAmount']\n",
        "df_copy_2[scale_columns]=scaler_1.fit_transform(df_copy_2[scale_columns])"
      ],
      "metadata": {
        "id": "5RZASHcm11JA"
      },
      "execution_count": null,
      "outputs": []
    },
    {
      "cell_type": "code",
      "source": [
        "sns.set(style='darkgrid')\n",
        "fig,axs=plt.subplots(1,3,figsize=(10,4))\n",
        "sns.histplot(df_copy_2['ApplicantIncome'],ax=axs[0])\n",
        "sns.histplot(df_copy_2['CoapplicantIncome'],ax=axs[1])\n",
        "sns.histplot(df_copy_2['LoanAmount'],ax=axs[2])"
      ],
      "metadata": {
        "colab": {
          "base_uri": "https://localhost:8080/",
          "height": 414
        },
        "id": "eccZQZvS2ECu",
        "outputId": "3ffe363c-5ee5-44c5-ad09-5119158abd52"
      },
      "execution_count": null,
      "outputs": [
        {
          "output_type": "execute_result",
          "data": {
            "text/plain": [
              "<Axes: xlabel='LoanAmount', ylabel='Count'>"
            ]
          },
          "metadata": {},
          "execution_count": 274
        },
        {
          "output_type": "display_data",
          "data": {
            "text/plain": [
              "<Figure size 1000x400 with 3 Axes>"
            ],
            "image/png": "[encoded data removed]"
          },
          "metadata": {}
        }
      ]
    },
    {
      "cell_type": "code",
      "source": [
        "plt.figure(figsize=(12,6))\n",
        "plt.subplot(1,3,1)\n",
        "sns.boxplot(y=df_copy_2['ApplicantIncome'])\n",
        "plt.subplot(1,3,2)\n",
        "sns.boxplot(y=df_copy_2['CoapplicantIncome'])\n",
        "plt.subplot(1,3,3)\n",
        "sns.boxplot(y=df_copy_2['LoanAmount'])\n",
        "plt.show()"
      ],
      "metadata": {
        "colab": {
          "base_uri": "https://localhost:8080/",
          "height": 499
        },
        "id": "lRbkfa6r3jXJ",
        "outputId": "0666cb25-377e-45cd-c6fe-2faeba37323b"
      },
      "execution_count": null,
      "outputs": [
        {
          "output_type": "display_data",
          "data": {
            "text/plain": [
              "<Figure size 1200x600 with 3 Axes>"
            ],
            "image/png": "[encoded data removed]"
          },
          "metadata": {}
        }
      ]
    },
    {
      "cell_type": "code",
      "source": [
        "scaler_3=RobustScaler()\n",
        "scale_columns=['ApplicantIncome','CoapplicantIncome','LoanAmount']\n",
        "df_copy_3[scale_columns]=scaler_3.fit_transform(df_copy_3[scale_columns])"
      ],
      "metadata": {
        "id": "ZXe-2bXA7M_g"
      },
      "execution_count": null,
      "outputs": []
    },
    {
      "cell_type": "code",
      "source": [
        "sns.set(style='darkgrid')\n",
        "fig,axs=plt.subplots(1,3,figsize=(10,4))\n",
        "sns.histplot(df_copy_3['ApplicantIncome'],ax=axs[0])\n",
        "sns.histplot(df_copy_3['CoapplicantIncome'],ax=axs[1])\n",
        "sns.histplot(df_copy_3['LoanAmount'],ax=axs[2])"
      ],
      "metadata": {
        "colab": {
          "base_uri": "https://localhost:8080/",
          "height": 414
        },
        "id": "Nm4gLCuh7hOE",
        "outputId": "5f33f7ad-e5c2-4bf0-a6e0-308e39e93f1b"
      },
      "execution_count": null,
      "outputs": [
        {
          "output_type": "execute_result",
          "data": {
            "text/plain": [
              "<Axes: xlabel='LoanAmount', ylabel='Count'>"
            ]
          },
          "metadata": {},
          "execution_count": 277
        },
        {
          "output_type": "display_data",
          "data": {
            "text/plain": [
              "<Figure size 1000x400 with 3 Axes>"
            ],
            "image/png": "[encoded data removed]"
          },
          "metadata": {}
        }
      ]
    },
    {
      "cell_type": "code",
      "source": [
        "plt.figure(figsize=(12,6))\n",
        "plt.subplot(1,3,1)\n",
        "sns.boxplot(y=df_copy_3['ApplicantIncome'])\n",
        "plt.subplot(1,3,2)\n",
        "sns.boxplot(y=df_copy_3['CoapplicantIncome'])\n",
        "plt.subplot(1,3,3)\n",
        "sns.boxplot(y=df_copy_3['LoanAmount'])\n",
        "plt.show()"
      ],
      "metadata": {
        "colab": {
          "base_uri": "https://localhost:8080/",
          "height": 499
        },
        "id": "Y6fkjyN87ofv",
        "outputId": "4816a04d-3623-4009-85eb-c91347c49004"
      },
      "execution_count": null,
      "outputs": [
        {
          "output_type": "display_data",
          "data": {
            "text/plain": [
              "<Figure size 1200x600 with 3 Axes>"
            ],
            "image/png": "[encoded data removed]"
          },
          "metadata": {}
        }
      ]
    },
    {
      "cell_type": "code",
      "source": [
        "scaler=MinMaxScaler()\n",
        "df[scale_columns]=scaler.fit_transform(df[scale_columns])"
      ],
      "metadata": {
        "id": "o6oVE1DjAC5E"
      },
      "execution_count": null,
      "outputs": []
    },
    {
      "cell_type": "markdown",
      "source": [
        "#Train and Test split"
      ],
      "metadata": {
        "id": "DM_Uiw4rdaIm"
      }
    },
    {
      "cell_type": "code",
      "source": [
        "from sklearn.model_selection import train_test_split"
      ],
      "metadata": {
        "id": "Xn70jWjZdkMK"
      },
      "execution_count": null,
      "outputs": []
    },
    {
      "cell_type": "code",
      "source": [
        "x=df.drop(columns=['Loan_Status']).values\n",
        "y=df['Loan_Status'].values"
      ],
      "metadata": {
        "id": "gslSgoApeSAy"
      },
      "execution_count": null,
      "outputs": []
    },
    {
      "cell_type": "code",
      "source": [
        "#oversapliang  SMOTE\n",
        "from imblearn.over_sampling import SMOTE\n",
        "smote=SMOTE()\n",
        "x,y=smote.fit_resample(x,y)"
      ],
      "metadata": {
        "id": "HggunOP-PkhB"
      },
      "execution_count": null,
      "outputs": []
    },
    {
      "cell_type": "code",
      "source": [
        "df.isnull().sum()"
      ],
      "metadata": {
        "colab": {
          "base_uri": "https://localhost:8080/",
          "height": 554
        },
        "id": "qgOg6in8L_XW",
        "outputId": "c782b6e4-9294-4afa-d90c-c19b36c87e0f"
      },
      "execution_count": null,
      "outputs": [
        {
          "output_type": "execute_result",
          "data": {
            "text/plain": [
              "Gender                     0\n",
              "Married                    0\n",
              "Education                  0\n",
              "Self_Employed              0\n",
              "ApplicantIncome            0\n",
              "CoapplicantIncome          0\n",
              "LoanAmount                 0\n",
              "Loan_Amount_Term           0\n",
              "Credit_History             0\n",
              "Loan_Status                0\n",
              "Dependents_1               0\n",
              "Dependents_2               0\n",
              "Dependents_3+              0\n",
              "Property_Area_Semiurban    0\n",
              "Property_Area_Urban        0\n",
              "dtype: int64"
            ],
            "text/html": [
              "<div>\n",
              "<style scoped>\n",
              "    .dataframe tbody tr th:only-of-type {\n",
              "        vertical-align: middle;\n",
              "    }\n",
              "\n",
              "    .dataframe tbody tr th {\n",
              "        vertical-align: top;\n",
              "    }\n",
              "\n",
              "    .dataframe thead th {\n",
              "        text-align: right;\n",
              "    }\n",
              "</style>\n",
              "<table border=\"1\" class=\"dataframe\">\n",
              "  <thead>\n",
              "    <tr style=\"text-align: right;\">\n",
              "      <th></th>\n",
              "      <th>0</th>\n",
              "    </tr>\n",
              "  </thead>\n",
              "  <tbody>\n",
              "    <tr>\n",
              "      <th>Gender</th>\n",
              "      <td>0</td>\n",
              "    </tr>\n",
              "    <tr>\n",
              "      <th>Married</th>\n",
              "      <td>0</td>\n",
              "    </tr>\n",
              "    <tr>\n",
              "      <th>Education</th>\n",
              "      <td>0</td>\n",
              "    </tr>\n",
              "    <tr>\n",
              "      <th>Self_Employed</th>\n",
              "      <td>0</td>\n",
              "    </tr>\n",
              "    <tr>\n",
              "      <th>ApplicantIncome</th>\n",
              "      <td>0</td>\n",
              "    </tr>\n",
              "    <tr>\n",
              "      <th>CoapplicantIncome</th>\n",
              "      <td>0</td>\n",
              "    </tr>\n",
              "    <tr>\n",
              "      <th>LoanAmount</th>\n",
              "      <td>0</td>\n",
              "    </tr>\n",
              "    <tr>\n",
              "      <th>Loan_Amount_Term</th>\n",
              "      <td>0</td>\n",
              "    </tr>\n",
              "    <tr>\n",
              "      <th>Credit_History</th>\n",
              "      <td>0</td>\n",
              "    </tr>\n",
              "    <tr>\n",
              "      <th>Loan_Status</th>\n",
              "      <td>0</td>\n",
              "    </tr>\n",
              "    <tr>\n",
              "      <th>Dependents_1</th>\n",
              "      <td>0</td>\n",
              "    </tr>\n",
              "    <tr>\n",
              "      <th>Dependents_2</th>\n",
              "      <td>0</td>\n",
              "    </tr>\n",
              "    <tr>\n",
              "      <th>Dependents_3+</th>\n",
              "      <td>0</td>\n",
              "    </tr>\n",
              "    <tr>\n",
              "      <th>Property_Area_Semiurban</th>\n",
              "      <td>0</td>\n",
              "    </tr>\n",
              "    <tr>\n",
              "      <th>Property_Area_Urban</th>\n",
              "      <td>0</td>\n",
              "    </tr>\n",
              "  </tbody>\n",
              "</table>\n",
              "</div><br><label><b>dtype:</b> int64</label>"
            ]
          },
          "metadata": {},
          "execution_count": 283
        }
      ]
    },
    {
      "cell_type": "code",
      "source": [
        "x_train,x_test,y_train,y_test=train_test_split(x,y,test_size=0.2,stratify=y,random_state=0) #42,1,1600"
      ],
      "metadata": {
        "id": "h2U88ZPQNnsN"
      },
      "execution_count": null,
      "outputs": []
    },
    {
      "cell_type": "markdown",
      "source": [
        "#Models and Evaluate"
      ],
      "metadata": {
        "id": "45Fy4kCkSj-4"
      }
    },
    {
      "cell_type": "code",
      "source": [
        "from sklearn.metrics import accuracy_score,confusion_matrix,classification_report"
      ],
      "metadata": {
        "id": "oyxlXTnu9mu9"
      },
      "execution_count": null,
      "outputs": []
    },
    {
      "cell_type": "code",
      "source": [
        "def plot_confusion_matrix(y_test,y_pred):\n",
        " cm=confusion_matrix(y_test,y_pred)\n",
        " plt.figure(figsize=(6,4))\n",
        " sns.heatmap(cm, annot=True,xticklabels=[\"Pred 0\",\"Pred 1\"], yticklabels=[\"Actual 0\",\"Actual 1\"])\n",
        " plt.show()"
      ],
      "metadata": {
        "id": "tfRmrLuA9ymd"
      },
      "execution_count": null,
      "outputs": []
    },
    {
      "cell_type": "code",
      "source": [
        "#The logistic model\n",
        "from sklearn.linear_model import LogisticRegression"
      ],
      "metadata": {
        "id": "tZTxJinVWmxz"
      },
      "execution_count": null,
      "outputs": []
    },
    {
      "cell_type": "code",
      "source": [
        "\"\"\"The logistic model is primarily used for binary classification,\n",
        "and its extended version, ordinal logistic regression,\n",
        "is used for ordinal data classification\"\"\""
      ],
      "metadata": {
        "colab": {
          "base_uri": "https://localhost:8080/",
          "height": 54
        },
        "id": "guSAkcDASp7y",
        "outputId": "fee899e5-93fc-4330-b8aa-d5eee665f233"
      },
      "execution_count": null,
      "outputs": [
        {
          "output_type": "execute_result",
          "data": {
            "text/plain": [
              "'The logistic model is primarily used for binary classification,\\nand its extended version, ordinal logistic regression,\\nis used for ordinal data classification'"
            ],
            "application/vnd.google.colaboratory.intrinsic+json": {
              "type": "string"
            }
          },
          "metadata": {},
          "execution_count": 288
        }
      ]
    },
    {
      "cell_type": "code",
      "source": [
        "Alg_1=LogisticRegression()\n",
        "Alg_1.fit(x_train, y_train)\n",
        "y_pred=Alg_1.predict(x_test)"
      ],
      "metadata": {
        "id": "fWXJHB9BT_73"
      },
      "execution_count": null,
      "outputs": []
    },
    {
      "cell_type": "code",
      "source": [
        "accuracy_score(y_test,y_pred)"
      ],
      "metadata": {
        "colab": {
          "base_uri": "https://localhost:8080/"
        },
        "id": "9kXflEPTaLBF",
        "outputId": "c67e982c-4938-4fd1-e60c-c5f473934986"
      },
      "execution_count": null,
      "outputs": [
        {
          "output_type": "execute_result",
          "data": {
            "text/plain": [
              "0.6982248520710059"
            ]
          },
          "metadata": {},
          "execution_count": 290
        }
      ]
    },
    {
      "cell_type": "code",
      "source": [
        "plot_confusion_matrix(y_test,y_pred)"
      ],
      "metadata": {
        "colab": {
          "base_uri": "https://localhost:8080/",
          "height": 373
        },
        "id": "B7sVijXH_8iP",
        "outputId": "23592de6-40b7-4547-ed71-499927b732db"
      },
      "execution_count": null,
      "outputs": [
        {
          "output_type": "display_data",
          "data": {
            "text/plain": [
              "<Figure size 600x400 with 2 Axes>"
            ],
            "image/png": "[encoded data removed]"
          },
          "metadata": {}
        }
      ]
    },
    {
      "cell_type": "code",
      "source": [
        "print(classification_report(y_test,y_pred))"
      ],
      "metadata": {
        "colab": {
          "base_uri": "https://localhost:8080/"
        },
        "id": "wMit3VEx-B2B",
        "outputId": "66bd1cdf-9598-4f48-cc1f-4a7d690b00bf"
      },
      "execution_count": null,
      "outputs": [
        {
          "output_type": "stream",
          "name": "stdout",
          "text": [
            "              precision    recall  f1-score   support\n",
            "\n",
            "           0       0.75      0.60      0.67        85\n",
            "           1       0.66      0.80      0.72        84\n",
            "\n",
            "    accuracy                           0.70       169\n",
            "   macro avg       0.71      0.70      0.70       169\n",
            "weighted avg       0.71      0.70      0.70       169\n",
            "\n"
          ]
        }
      ]
    },
    {
      "cell_type": "code",
      "source": [
        "#A Decision Tree\n",
        "from sklearn.tree import DecisionTreeClassifier"
      ],
      "metadata": {
        "id": "HrGsM0LlOtD3"
      },
      "execution_count": null,
      "outputs": []
    },
    {
      "cell_type": "code",
      "source": [
        "\"\"\"A Decision Tree operates based on the principle of entropy and information gain.\n",
        "It does not require scaling, making it flexible with both large and small values.\n",
        "It also performs well in the presence of outliers. Additionally,\n",
        "it can make predictions for both classification and numerical values (regression).\n",
        "However, it requires a large dataset to build an accurate and reliable model\"\"\""
      ],
      "metadata": {
        "colab": {
          "base_uri": "https://localhost:8080/",
          "height": 72
        },
        "id": "h7oD8LwGMoky",
        "outputId": "1679706f-f042-4e8c-84d3-a51305c7d2d6"
      },
      "execution_count": null,
      "outputs": [
        {
          "output_type": "execute_result",
          "data": {
            "text/plain": [
              "'A Decision Tree operates based on the principle of entropy and information gain.\\nIt does not require scaling, making it flexible with both large and small values.\\nIt also performs well in the presence of outliers. Additionally,\\nit can make predictions for both classification and numerical values (regression).\\nHowever, it requires a large dataset to build an accurate and reliable model'"
            ],
            "application/vnd.google.colaboratory.intrinsic+json": {
              "type": "string"
            }
          },
          "metadata": {},
          "execution_count": 294
        }
      ]
    },
    {
      "cell_type": "code",
      "source": [
        "Alg_2=DecisionTreeClassifier()\n",
        "Alg_2.fit(x_train, y_train )\n",
        "y_pred=Alg_2.predict(x_test)\n"
      ],
      "metadata": {
        "id": "BG8HquREOpJA"
      },
      "execution_count": null,
      "outputs": []
    },
    {
      "cell_type": "code",
      "source": [
        "accuracy_score(y_test,y_pred)"
      ],
      "metadata": {
        "colab": {
          "base_uri": "https://localhost:8080/"
        },
        "id": "12i5B8YG-6wf",
        "outputId": "cf8d7527-d140-48bf-b8da-ad92e22a75c9"
      },
      "execution_count": null,
      "outputs": [
        {
          "output_type": "execute_result",
          "data": {
            "text/plain": [
              "0.7514792899408284"
            ]
          },
          "metadata": {},
          "execution_count": 296
        }
      ]
    },
    {
      "cell_type": "code",
      "source": [
        "plot_confusion_matrix(y_test,y_pred)"
      ],
      "metadata": {
        "colab": {
          "base_uri": "https://localhost:8080/",
          "height": 373
        },
        "id": "wBeHCRJ-Vg3l",
        "outputId": "d3d9660a-61a4-4d3e-9cd5-be80fd6a4ce7"
      },
      "execution_count": null,
      "outputs": [
        {
          "output_type": "display_data",
          "data": {
            "text/plain": [
              "<Figure size 600x400 with 2 Axes>"
            ],
            "image/png": "[encoded data removed]"
          },
          "metadata": {}
        }
      ]
    },
    {
      "cell_type": "code",
      "source": [
        "print(classification_report(y_test,y_pred))"
      ],
      "metadata": {
        "colab": {
          "base_uri": "https://localhost:8080/"
        },
        "id": "atRBBPJD_C-f",
        "outputId": "7f1fad93-7358-439e-9508-c89d6bc06e16"
      },
      "execution_count": null,
      "outputs": [
        {
          "output_type": "stream",
          "name": "stdout",
          "text": [
            "              precision    recall  f1-score   support\n",
            "\n",
            "           0       0.74      0.79      0.76        85\n",
            "           1       0.77      0.71      0.74        84\n",
            "\n",
            "    accuracy                           0.75       169\n",
            "   macro avg       0.75      0.75      0.75       169\n",
            "weighted avg       0.75      0.75      0.75       169\n",
            "\n"
          ]
        }
      ]
    },
    {
      "cell_type": "code",
      "source": [
        "#Random Forest\n",
        "from sklearn.ensemble import RandomForestClassifier\n",
        "Alg_3=RandomForestClassifier()\n",
        "Alg_3.fit(x_train ,y_train)\n",
        "y_pred=Alg_3.predict(x_test)\n"
      ],
      "metadata": {
        "id": "JQ1BKMdFWaxe"
      },
      "execution_count": null,
      "outputs": []
    },
    {
      "cell_type": "code",
      "source": [
        "accuracy_score(y_test,y_pred)"
      ],
      "metadata": {
        "colab": {
          "base_uri": "https://localhost:8080/"
        },
        "id": "mdlbhsh6Zyo9",
        "outputId": "ccf3bb84-79a9-4542-b1a4-fe0089a528b0"
      },
      "execution_count": null,
      "outputs": [
        {
          "output_type": "execute_result",
          "data": {
            "text/plain": [
              "0.8284023668639053"
            ]
          },
          "metadata": {},
          "execution_count": 300
        }
      ]
    },
    {
      "cell_type": "code",
      "source": [
        "plot_confusion_matrix(y_test,y_pred)"
      ],
      "metadata": {
        "colab": {
          "base_uri": "https://localhost:8080/",
          "height": 373
        },
        "id": "04s44RAgahOr",
        "outputId": "92be7a96-0563-404e-da48-942023892649"
      },
      "execution_count": null,
      "outputs": [
        {
          "output_type": "display_data",
          "data": {
            "text/plain": [
              "<Figure size 600x400 with 2 Axes>"
            ],
            "image/png": "[encoded data removed]"
          },
          "metadata": {}
        }
      ]
    },
    {
      "cell_type": "code",
      "source": [
        "print(classification_report(y_test,y_pred))"
      ],
      "metadata": {
        "colab": {
          "base_uri": "https://localhost:8080/"
        },
        "id": "Vob7aUDQ_Vxk",
        "outputId": "4c7339fb-3744-429c-942d-890ade4d3922"
      },
      "execution_count": null,
      "outputs": [
        {
          "output_type": "stream",
          "name": "stdout",
          "text": [
            "              precision    recall  f1-score   support\n",
            "\n",
            "           0       0.85      0.80      0.82        85\n",
            "           1       0.81      0.86      0.83        84\n",
            "\n",
            "    accuracy                           0.83       169\n",
            "   macro avg       0.83      0.83      0.83       169\n",
            "weighted avg       0.83      0.83      0.83       169\n",
            "\n"
          ]
        }
      ]
    },
    {
      "cell_type": "code",
      "source": [
        "#SVM\n",
        "from sklearn.svm import SVC\n",
        "Alg_4=SVC(kernel='linear',C=0.1,gamma=0.01) #C={'sigmoid','poly','rbf','precomputed','linear'}\n",
        "Alg_4.fit(x_train, y_train )\n",
        "y_pred=Alg_4.predict(x_test)\n"
      ],
      "metadata": {
        "id": "Qj1pNwVAjgc3"
      },
      "execution_count": null,
      "outputs": []
    },
    {
      "cell_type": "code",
      "source": [
        "accuracy_score(y_test,y_pred)"
      ],
      "metadata": {
        "colab": {
          "base_uri": "https://localhost:8080/"
        },
        "id": "lLVqzoVqkdL8",
        "outputId": "225542ea-8984-4101-96ce-abd52b70c338"
      },
      "execution_count": null,
      "outputs": [
        {
          "output_type": "execute_result",
          "data": {
            "text/plain": [
              "0.7337278106508875"
            ]
          },
          "metadata": {},
          "execution_count": 304
        }
      ]
    },
    {
      "cell_type": "code",
      "source": [
        "plot_confusion_matrix(y_test,y_pred)"
      ],
      "metadata": {
        "colab": {
          "base_uri": "https://localhost:8080/",
          "height": 373
        },
        "id": "qStVQ4ySksUw",
        "outputId": "02a81b72-ac03-42a5-b350-2690750672b6"
      },
      "execution_count": null,
      "outputs": [
        {
          "output_type": "display_data",
          "data": {
            "text/plain": [
              "<Figure size 600x400 with 2 Axes>"
            ],
            "image/png": "[encoded data removed]"
          },
          "metadata": {}
        }
      ]
    },
    {
      "cell_type": "code",
      "source": [
        "print(classification_report(y_test,y_pred))"
      ],
      "metadata": {
        "colab": {
          "base_uri": "https://localhost:8080/"
        },
        "id": "ME7zawdu_ldh",
        "outputId": "920d1276-272d-44ef-bfe4-3755edcd529a"
      },
      "execution_count": null,
      "outputs": [
        {
          "output_type": "stream",
          "name": "stdout",
          "text": [
            "              precision    recall  f1-score   support\n",
            "\n",
            "           0       0.95      0.49      0.65        85\n",
            "           1       0.66      0.98      0.78        84\n",
            "\n",
            "    accuracy                           0.73       169\n",
            "   macro avg       0.81      0.74      0.72       169\n",
            "weighted avg       0.81      0.73      0.72       169\n",
            "\n"
          ]
        }
      ]
    },
    {
      "cell_type": "code",
      "source": [
        "#KNN\n",
        "from sklearn.neighbors import KNeighborsClassifier\n",
        "Alg_5=KNeighborsClassifier(n_neighbors=5)\n",
        "Alg_5.fit(x_train,y_train)\n",
        "y_pred=Alg_5.predict(x_test)"
      ],
      "metadata": {
        "id": "r3OwxhWwSDfb"
      },
      "execution_count": null,
      "outputs": []
    },
    {
      "cell_type": "code",
      "source": [
        "accuracy_score(y_test,y_pred)"
      ],
      "metadata": {
        "colab": {
          "base_uri": "https://localhost:8080/"
        },
        "id": "Tv6MqD_0Uy26",
        "outputId": "ad3fafab-07ab-4fb7-dd20-2e0353fb93f0"
      },
      "execution_count": null,
      "outputs": [
        {
          "output_type": "execute_result",
          "data": {
            "text/plain": [
              "0.7396449704142012"
            ]
          },
          "metadata": {},
          "execution_count": 308
        }
      ]
    },
    {
      "cell_type": "code",
      "source": [
        "plot_confusion_matrix(y_test,y_pred)"
      ],
      "metadata": {
        "colab": {
          "base_uri": "https://localhost:8080/",
          "height": 373
        },
        "id": "uzYpqlWhU9mU",
        "outputId": "260bbb5d-146a-4e2c-9c93-b7ce499a952b"
      },
      "execution_count": null,
      "outputs": [
        {
          "output_type": "display_data",
          "data": {
            "text/plain": [
              "<Figure size 600x400 with 2 Axes>"
            ],
            "image/png": "[encoded data removed]"
          },
          "metadata": {}
        }
      ]
    },
    {
      "cell_type": "code",
      "source": [
        "print(classification_report(y_test,y_pred))"
      ],
      "metadata": {
        "colab": {
          "base_uri": "https://localhost:8080/"
        },
        "id": "lKeu-vJSW5Do",
        "outputId": "2a97d130-a207-45c2-c9e9-4ace8f69a0ca"
      },
      "execution_count": null,
      "outputs": [
        {
          "output_type": "stream",
          "name": "stdout",
          "text": [
            "              precision    recall  f1-score   support\n",
            "\n",
            "           0       0.75      0.73      0.74        85\n",
            "           1       0.73      0.75      0.74        84\n",
            "\n",
            "    accuracy                           0.74       169\n",
            "   macro avg       0.74      0.74      0.74       169\n",
            "weighted avg       0.74      0.74      0.74       169\n",
            "\n"
          ]
        }
      ]
    },
    {
      "cell_type": "code",
      "source": [
        "from xgboost import XGBClassifier\n",
        "\n",
        "Alg_6=XGBClassifier()\n",
        "Alg_6.fit(x_train, y_train)\n",
        "y_pred=Alg_6.predict(x_test)\n"
      ],
      "metadata": {
        "id": "pjgVL0Uzkmp3"
      },
      "execution_count": null,
      "outputs": []
    },
    {
      "cell_type": "code",
      "source": [
        "accuracy_score(y_test,y_pred)"
      ],
      "metadata": {
        "colab": {
          "base_uri": "https://localhost:8080/"
        },
        "id": "06xQE2Pfkssn",
        "outputId": "81d4445b-2dd8-47d9-9061-481450399713"
      },
      "execution_count": null,
      "outputs": [
        {
          "output_type": "execute_result",
          "data": {
            "text/plain": [
              "0.8284023668639053"
            ]
          },
          "metadata": {},
          "execution_count": 350
        }
      ]
    },
    {
      "cell_type": "code",
      "source": [
        "plot_confusion_matrix(y_test,y_pred)"
      ],
      "metadata": {
        "colab": {
          "base_uri": "https://localhost:8080/",
          "height": 373
        },
        "id": "VztZnrtylQTq",
        "outputId": "b2a7d469-1743-4589-b08b-e6b0966d6ab4"
      },
      "execution_count": null,
      "outputs": [
        {
          "output_type": "display_data",
          "data": {
            "text/plain": [
              "<Figure size 600x400 with 2 Axes>"
            ],
            "image/png": "[encoded data removed]"
          },
          "metadata": {}
        }
      ]
    },
    {
      "cell_type": "code",
      "source": [
        "print(classification_report(y_test,y_pred))"
      ],
      "metadata": {
        "colab": {
          "base_uri": "https://localhost:8080/"
        },
        "id": "RE8J1LSUmdK1",
        "outputId": "f5ce9a9a-0819-4e6b-fdfa-9fef597cbc5f"
      },
      "execution_count": null,
      "outputs": [
        {
          "output_type": "stream",
          "name": "stdout",
          "text": [
            "              precision    recall  f1-score   support\n",
            "\n",
            "           0       0.86      0.79      0.82        85\n",
            "           1       0.80      0.87      0.83        84\n",
            "\n",
            "    accuracy                           0.83       169\n",
            "   macro avg       0.83      0.83      0.83       169\n",
            "weighted avg       0.83      0.83      0.83       169\n",
            "\n"
          ]
        }
      ]
    },
    {
      "cell_type": "markdown",
      "source": [
        "#Testing\n",
        "\n"
      ],
      "metadata": {
        "id": "bNuF0pW8OZpV"
      }
    },
    {
      "cell_type": "code",
      "source": [
        "#predict new value\n",
        "new_value=[1,1,0,0,4583,1508,128,30,1,1,0,0,0,0]\n",
        "new_value=np.array(new_value).reshape(1,-1)\n"
      ],
      "metadata": {
        "id": "KCipZ1awOerC"
      },
      "execution_count": null,
      "outputs": []
    },
    {
      "cell_type": "markdown",
      "source": [
        "![لقطة شاشة 2025-03-23 161424.png](data:image/png;base64,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)"
      ],
      "metadata": {
        "id": "Zkk_426ZzGsO"
      }
    },
    {
      "cell_type": "code",
      "source": [
        "{'Female': np.int64(0), 'Male': np.int64(1)}\n",
        "{'No': np.int64(0), 'Yes': np.int64(1)}\n",
        "{'No': np.int64(0), 'Yes': np.int64(1)}\n",
        "{\"0\": np.int64(0), \"1\": np.int64(1)}\n",
        "{'Graduate': np.int64(0), 'Not Graduate': np.int64(1)}"
      ],
      "metadata": {
        "colab": {
          "base_uri": "https://localhost:8080/"
        },
        "id": "vOLfbFMhq_HK",
        "outputId": "e9541b51-616d-4970-c9ea-47b369446213"
      },
      "execution_count": null,
      "outputs": [
        {
          "output_type": "execute_result",
          "data": {
            "text/plain": [
              "{'Graduate': np.int64(0), 'Not Graduate': np.int64(1)}"
            ]
          },
          "metadata": {},
          "execution_count": 316
        }
      ]
    },
    {
      "cell_type": "code",
      "source": [
        "##The logistic model\n",
        "Alg_1.predict(new_value)"
      ],
      "metadata": {
        "colab": {
          "base_uri": "https://localhost:8080/"
        },
        "id": "f9BwrrYf00uA",
        "outputId": "ffff0aa9-157f-401b-cdbe-974fc9fa1eb7"
      },
      "execution_count": null,
      "outputs": [
        {
          "output_type": "execute_result",
          "data": {
            "text/plain": [
              "array([1])"
            ]
          },
          "metadata": {},
          "execution_count": 317
        }
      ]
    },
    {
      "cell_type": "code",
      "source": [
        "#A Decision Tree\n",
        "Alg_2.predict(new_value)"
      ],
      "metadata": {
        "colab": {
          "base_uri": "https://localhost:8080/"
        },
        "id": "F4gb3-Of11Hh",
        "outputId": "9bd021f7-f1a6-4ac6-8768-aaeb703107a4"
      },
      "execution_count": null,
      "outputs": [
        {
          "output_type": "execute_result",
          "data": {
            "text/plain": [
              "array([0])"
            ]
          },
          "metadata": {},
          "execution_count": 318
        }
      ]
    },
    {
      "cell_type": "code",
      "source": [
        "#Random Forest\n",
        "Alg_3.predict(new_value)"
      ],
      "metadata": {
        "colab": {
          "base_uri": "https://localhost:8080/"
        },
        "id": "Uhr2NLv0165W",
        "outputId": "73d20229-af36-473c-a152-0c753e07475b"
      },
      "execution_count": null,
      "outputs": [
        {
          "output_type": "execute_result",
          "data": {
            "text/plain": [
              "array([0])"
            ]
          },
          "metadata": {},
          "execution_count": 319
        }
      ]
    },
    {
      "cell_type": "code",
      "source": [
        "#SVM\n",
        "Alg_4.predict(new_value)"
      ],
      "metadata": {
        "colab": {
          "base_uri": "https://localhost:8080/"
        },
        "id": "yw-HBuNE2BSv",
        "outputId": "9fbb7e3e-6c95-43b9-9f21-2ba2c88d1862"
      },
      "execution_count": null,
      "outputs": [
        {
          "output_type": "execute_result",
          "data": {
            "text/plain": [
              "array([1])"
            ]
          },
          "metadata": {},
          "execution_count": 320
        }
      ]
    },
    {
      "cell_type": "code",
      "source": [
        "#KNN\n",
        "Alg_5.predict(new_value)"
      ],
      "metadata": {
        "colab": {
          "base_uri": "https://localhost:8080/"
        },
        "id": "BOK8YlZX3BIa",
        "outputId": "c7f7c3ca-7e5a-437f-f4b8-6fa55a19e63b"
      },
      "execution_count": null,
      "outputs": [
        {
          "output_type": "execute_result",
          "data": {
            "text/plain": [
              "array([1])"
            ]
          },
          "metadata": {},
          "execution_count": 321
        }
      ]
    },
    {
      "cell_type": "code",
      "source": [
        "#XGB\n",
        "Alg_6.predict(new_value)"
      ],
      "metadata": {
        "id": "1bJ6NvBKwkJo"
      },
      "execution_count": null,
      "outputs": []
    }
  ],
  "metadata": {
    "colab": {
      "provenance": [],
      "include_colab_link": true
    },
    "kernelspec": {
      "display_name": "Python 3",
      "language": "python",
      "name": "python3"
    },
    "language_info": {
      "codemirror_mode": {
        "name": "ipython",
        "version": 3
      },
      "file_extension": ".py",
      "mimetype": "text/x-python",
      "name": "python",
      "nbconvert_exporter": "python",
      "pygments_lexer": "ipython3",
      "version": "3.10.4"
    }
  },
  "nbformat": 4,
  "nbformat_minor": 0
}